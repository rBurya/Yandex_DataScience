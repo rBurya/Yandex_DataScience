{
 "cells": [
  {
   "cell_type": "markdown",
   "metadata": {
    "toc": true
   },
   "source": [
    "<h1>Содержание<span class=\"tocSkip\"></span></h1>\n",
    "<div class=\"toc\"><ul class=\"toc-item\"><li><ul class=\"toc-item\"><li><span><a href=\"#Импорт-библиотек\" data-toc-modified-id=\"Импорт-библиотек-0.1\"><span class=\"toc-item-num\">0.1&nbsp;&nbsp;</span>Импорт библиотек</a></span></li></ul></li><li><span><a href=\"#Подготовка\" data-toc-modified-id=\"Подготовка-1\"><span class=\"toc-item-num\">1&nbsp;&nbsp;</span>Подготовка</a></span></li><li><span><a href=\"#Анализ\" data-toc-modified-id=\"Анализ-2\"><span class=\"toc-item-num\">2&nbsp;&nbsp;</span>Анализ</a></span></li><li><span><a href=\"#Обучение\" data-toc-modified-id=\"Обучение-3\"><span class=\"toc-item-num\">3&nbsp;&nbsp;</span>Обучение</a></span><ul class=\"toc-item\"><li><span><a href=\"#Подготовка-данных\" data-toc-modified-id=\"Подготовка-данных-3.1\"><span class=\"toc-item-num\">3.1&nbsp;&nbsp;</span>Подготовка данных</a></span></li><li><span><a href=\"#LinearRegressor\" data-toc-modified-id=\"LinearRegressor-3.2\"><span class=\"toc-item-num\">3.2&nbsp;&nbsp;</span>LinearRegressor</a></span></li><li><span><a href=\"#CatBoost\" data-toc-modified-id=\"CatBoost-3.3\"><span class=\"toc-item-num\">3.3&nbsp;&nbsp;</span>CatBoost</a></span></li><li><span><a href=\"#LightGMB\" data-toc-modified-id=\"LightGMB-3.4\"><span class=\"toc-item-num\">3.4&nbsp;&nbsp;</span>LightGMB</a></span></li><li><span><a href=\"#Итог\" data-toc-modified-id=\"Итог-3.5\"><span class=\"toc-item-num\">3.5&nbsp;&nbsp;</span>Итог</a></span></li></ul></li><li><span><a href=\"#Тестирование\" data-toc-modified-id=\"Тестирование-4\"><span class=\"toc-item-num\">4&nbsp;&nbsp;</span>Тестирование</a></span></li></ul></div>"
   ]
  },
  {
   "cell_type": "markdown",
   "metadata": {},
   "source": [
    "#  Прогнозирование заказов такси"
   ]
  },
  {
   "cell_type": "markdown",
   "metadata": {},
   "source": [
    "Компания «Чётенькое такси» собрала исторические данные о заказах такси в аэропортах. Чтобы привлекать больше водителей в период пиковой нагрузки, нужно спрогнозировать количество заказов такси на следующий час. Постройте модель для такого предсказания.\n",
    "\n",
    "Значение метрики *RMSE* на тестовой выборке должно быть не больше 48.\n",
    "\n",
    "Вам нужно:\n",
    "\n",
    "1. Загрузить данные и выполнить их ресемплирование по одному часу.\n",
    "2. Проанализировать данные.\n",
    "3. Обучить разные модели с различными гиперпараметрами. Сделать тестовую выборку размером 10% от исходных данных.\n",
    "4. Проверить данные на тестовой выборке и сделать выводы.\n",
    "\n",
    "\n",
    "Данные лежат в файле `taxi.csv`. Количество заказов находится в столбце `num_orders` (от англ. *number of orders*, «число заказов»)."
   ]
  },
  {
   "cell_type": "markdown",
   "metadata": {},
   "source": [
    "### Импорт библиотек"
   ]
  },
  {
   "cell_type": "code",
   "execution_count": 1,
   "metadata": {},
   "outputs": [],
   "source": [
    "import pandas as pd\n",
    "import numpy as np\n",
    "import matplotlib.pyplot as plt\n",
    "import seaborn as sns\n",
    "import time\n",
    "import itertools\n",
    "\n",
    "\n",
    "from sklearn.metrics import mean_squared_error\n",
    "from sklearn.model_selection import train_test_split\n",
    "from sklearn.metrics import mean_squared_error\n",
    "from sklearn.model_selection import GridSearchCV \n",
    "from sklearn.metrics import make_scorer\n",
    "\n",
    "\n",
    "from statsmodels.tsa.seasonal import seasonal_decompose\n",
    "\n",
    "import catboost as cb\n",
    "import xgboost as xgb\n",
    "import lightgbm as lgb\n",
    "\n",
    "from sklearn.linear_model import LinearRegression\n",
    "from catboost import CatBoostRegressor\n",
    "from lightgbm import LGBMRegressor\n",
    "\n",
    "import warnings\n",
    "warnings.filterwarnings('ignore')"
   ]
  },
  {
   "cell_type": "markdown",
   "metadata": {},
   "source": [
    "## Подготовка"
   ]
  },
  {
   "cell_type": "code",
   "execution_count": 2,
   "metadata": {},
   "outputs": [],
   "source": [
    "data = pd.read_csv(\"/datasets/taxi.csv\",index_col=[0], parse_dates=[0])"
   ]
  },
  {
   "cell_type": "code",
   "execution_count": 3,
   "metadata": {},
   "outputs": [
    {
     "name": "stdout",
     "output_type": "stream",
     "text": [
      "<class 'pandas.core.frame.DataFrame'>\n",
      "DatetimeIndex: 26496 entries, 2018-03-01 00:00:00 to 2018-08-31 23:50:00\n",
      "Data columns (total 1 columns):\n",
      " #   Column      Non-Null Count  Dtype\n",
      "---  ------      --------------  -----\n",
      " 0   num_orders  26496 non-null  int64\n",
      "dtypes: int64(1)\n",
      "memory usage: 414.0 KB\n"
     ]
    }
   ],
   "source": [
    "data.info()"
   ]
  },
  {
   "cell_type": "code",
   "execution_count": 4,
   "metadata": {},
   "outputs": [
    {
     "data": {
      "text/html": [
       "<div>\n",
       "<style scoped>\n",
       "    .dataframe tbody tr th:only-of-type {\n",
       "        vertical-align: middle;\n",
       "    }\n",
       "\n",
       "    .dataframe tbody tr th {\n",
       "        vertical-align: top;\n",
       "    }\n",
       "\n",
       "    .dataframe thead th {\n",
       "        text-align: right;\n",
       "    }\n",
       "</style>\n",
       "<table border=\"1\" class=\"dataframe\">\n",
       "  <thead>\n",
       "    <tr style=\"text-align: right;\">\n",
       "      <th></th>\n",
       "      <th>num_orders</th>\n",
       "    </tr>\n",
       "    <tr>\n",
       "      <th>datetime</th>\n",
       "      <th></th>\n",
       "    </tr>\n",
       "  </thead>\n",
       "  <tbody>\n",
       "    <tr>\n",
       "      <th>2018-03-01 00:00:00</th>\n",
       "      <td>9</td>\n",
       "    </tr>\n",
       "    <tr>\n",
       "      <th>2018-03-01 00:10:00</th>\n",
       "      <td>14</td>\n",
       "    </tr>\n",
       "    <tr>\n",
       "      <th>2018-03-01 00:20:00</th>\n",
       "      <td>28</td>\n",
       "    </tr>\n",
       "    <tr>\n",
       "      <th>2018-03-01 00:30:00</th>\n",
       "      <td>20</td>\n",
       "    </tr>\n",
       "    <tr>\n",
       "      <th>2018-03-01 00:40:00</th>\n",
       "      <td>32</td>\n",
       "    </tr>\n",
       "    <tr>\n",
       "      <th>2018-03-01 00:50:00</th>\n",
       "      <td>21</td>\n",
       "    </tr>\n",
       "    <tr>\n",
       "      <th>2018-03-01 01:00:00</th>\n",
       "      <td>7</td>\n",
       "    </tr>\n",
       "    <tr>\n",
       "      <th>2018-03-01 01:10:00</th>\n",
       "      <td>5</td>\n",
       "    </tr>\n",
       "    <tr>\n",
       "      <th>2018-03-01 01:20:00</th>\n",
       "      <td>17</td>\n",
       "    </tr>\n",
       "    <tr>\n",
       "      <th>2018-03-01 01:30:00</th>\n",
       "      <td>12</td>\n",
       "    </tr>\n",
       "  </tbody>\n",
       "</table>\n",
       "</div>"
      ],
      "text/plain": [
       "                     num_orders\n",
       "datetime                       \n",
       "2018-03-01 00:00:00           9\n",
       "2018-03-01 00:10:00          14\n",
       "2018-03-01 00:20:00          28\n",
       "2018-03-01 00:30:00          20\n",
       "2018-03-01 00:40:00          32\n",
       "2018-03-01 00:50:00          21\n",
       "2018-03-01 01:00:00           7\n",
       "2018-03-01 01:10:00           5\n",
       "2018-03-01 01:20:00          17\n",
       "2018-03-01 01:30:00          12"
      ]
     },
     "execution_count": 4,
     "metadata": {},
     "output_type": "execute_result"
    }
   ],
   "source": [
    "data.head(10)"
   ]
  },
  {
   "cell_type": "code",
   "execution_count": 5,
   "metadata": {},
   "outputs": [
    {
     "data": {
      "text/plain": [
       "True"
      ]
     },
     "execution_count": 5,
     "metadata": {},
     "output_type": "execute_result"
    }
   ],
   "source": [
    "data.sort_index(inplace=True)\n",
    "data_resample = data.resample('1H').sum()\n",
    "data_resample.index.is_monotonic"
   ]
  },
  {
   "cell_type": "code",
   "execution_count": 6,
   "metadata": {},
   "outputs": [
    {
     "data": {
      "text/html": [
       "<div>\n",
       "<style scoped>\n",
       "    .dataframe tbody tr th:only-of-type {\n",
       "        vertical-align: middle;\n",
       "    }\n",
       "\n",
       "    .dataframe tbody tr th {\n",
       "        vertical-align: top;\n",
       "    }\n",
       "\n",
       "    .dataframe thead th {\n",
       "        text-align: right;\n",
       "    }\n",
       "</style>\n",
       "<table border=\"1\" class=\"dataframe\">\n",
       "  <thead>\n",
       "    <tr style=\"text-align: right;\">\n",
       "      <th></th>\n",
       "      <th>num_orders</th>\n",
       "    </tr>\n",
       "    <tr>\n",
       "      <th>datetime</th>\n",
       "      <th></th>\n",
       "    </tr>\n",
       "  </thead>\n",
       "  <tbody>\n",
       "    <tr>\n",
       "      <th>2018-03-01 00:00:00</th>\n",
       "      <td>124</td>\n",
       "    </tr>\n",
       "    <tr>\n",
       "      <th>2018-03-01 01:00:00</th>\n",
       "      <td>85</td>\n",
       "    </tr>\n",
       "    <tr>\n",
       "      <th>2018-03-01 02:00:00</th>\n",
       "      <td>71</td>\n",
       "    </tr>\n",
       "    <tr>\n",
       "      <th>2018-03-01 03:00:00</th>\n",
       "      <td>66</td>\n",
       "    </tr>\n",
       "    <tr>\n",
       "      <th>2018-03-01 04:00:00</th>\n",
       "      <td>43</td>\n",
       "    </tr>\n",
       "  </tbody>\n",
       "</table>\n",
       "</div>"
      ],
      "text/plain": [
       "                     num_orders\n",
       "datetime                       \n",
       "2018-03-01 00:00:00         124\n",
       "2018-03-01 01:00:00          85\n",
       "2018-03-01 02:00:00          71\n",
       "2018-03-01 03:00:00          66\n",
       "2018-03-01 04:00:00          43"
      ]
     },
     "execution_count": 6,
     "metadata": {},
     "output_type": "execute_result"
    }
   ],
   "source": [
    "data_resample.head()"
   ]
  },
  {
   "cell_type": "markdown",
   "metadata": {},
   "source": [
    "Данные упорядочны"
   ]
  },
  {
   "cell_type": "code",
   "execution_count": 7,
   "metadata": {},
   "outputs": [
    {
     "name": "stdout",
     "output_type": "stream",
     "text": [
      "<class 'pandas.core.frame.DataFrame'>\n",
      "DatetimeIndex: 4416 entries, 2018-03-01 00:00:00 to 2018-08-31 23:00:00\n",
      "Freq: H\n",
      "Data columns (total 1 columns):\n",
      " #   Column      Non-Null Count  Dtype\n",
      "---  ------      --------------  -----\n",
      " 0   num_orders  4416 non-null   int64\n",
      "dtypes: int64(1)\n",
      "memory usage: 69.0 KB\n"
     ]
    }
   ],
   "source": [
    "data_resample.info()"
   ]
  },
  {
   "cell_type": "markdown",
   "metadata": {},
   "source": [
    "## Анализ"
   ]
  },
  {
   "cell_type": "markdown",
   "metadata": {},
   "source": [
    "Добавим скользящее среднее на график:"
   ]
  },
  {
   "cell_type": "code",
   "execution_count": 8,
   "metadata": {},
   "outputs": [],
   "source": [
    "data_rolling_mean = data.copy()"
   ]
  },
  {
   "cell_type": "code",
   "execution_count": 9,
   "metadata": {},
   "outputs": [],
   "source": [
    "data_rolling_mean['rolling_mean'] = data_rolling_mean.rolling(100, closed = 'left').mean()"
   ]
  },
  {
   "cell_type": "code",
   "execution_count": 10,
   "metadata": {},
   "outputs": [],
   "source": [
    "data_resample_rolling_mean = data_resample.copy()"
   ]
  },
  {
   "cell_type": "code",
   "execution_count": 11,
   "metadata": {},
   "outputs": [],
   "source": [
    "data_resample_rolling_mean['rolling_mean'] = data_resample_rolling_mean.rolling(100, closed='left').mean()"
   ]
  },
  {
   "cell_type": "markdown",
   "metadata": {},
   "source": [
    "Построим график с интервалом в 10 минут"
   ]
  },
  {
   "cell_type": "code",
   "execution_count": 12,
   "metadata": {},
   "outputs": [
    {
     "data": {
      "image/png": "[encoded data removed]",
      "text/plain": [
       "<Figure size 1080x720 with 1 Axes>"
      ]
     },
     "metadata": {
      "needs_background": "light"
     },
     "output_type": "display_data"
    }
   ],
   "source": [
    "data_rolling_mean.plot(figsize = (15,10), grid = True)\n",
    "plt.title('Скользящее среднее количества заказов такси')\n",
    "plt.xlabel('Дата и время')\n",
    "plt.ylabel('Количество заказов')\n",
    "plt.show()"
   ]
  },
  {
   "cell_type": "markdown",
   "metadata": {},
   "source": [
    "Трудно сказать по графику какие-то выводы. Имеются небольшие пики. Чем ближе к концу графика, тем больше виден спрос на такси. Скользящее среднее постоянно колеблится, но к концу видно рост"
   ]
  },
  {
   "cell_type": "markdown",
   "metadata": {},
   "source": [
    "Посмотрим на график с интервалом в 1 час"
   ]
  },
  {
   "cell_type": "code",
   "execution_count": 13,
   "metadata": {},
   "outputs": [
    {
     "data": {
      "image/png": "[encoded data removed]",
      "text/plain": [
       "<Figure size 1080x720 with 1 Axes>"
      ]
     },
     "metadata": {
      "needs_background": "light"
     },
     "output_type": "display_data"
    }
   ],
   "source": [
    "data_resample_rolling_mean.plot(figsize = (15,10), grid = True)\n",
    "plt.title('Скользящее среднее количества заказов такси')\n",
    "plt.xlabel('Дата и время')\n",
    "plt.ylabel('Количество заказов')\n",
    "plt.show()"
   ]
  },
  {
   "cell_type": "markdown",
   "metadata": {},
   "source": [
    "Ситуация аналагична графику с 10 минутами. Но скользящая средняя более гладкая и увеличивается со временем.\n",
    "\n",
    "Рассмотрим данные более детально."
   ]
  },
  {
   "cell_type": "code",
   "execution_count": 14,
   "metadata": {},
   "outputs": [],
   "source": [
    "decomposed_data = seasonal_decompose(data_resample)"
   ]
  },
  {
   "cell_type": "code",
   "execution_count": 15,
   "metadata": {},
   "outputs": [
    {
     "data": {
      "image/png": "[encoded data removed]",
      "text/plain": [
       "<Figure size 1080x1440 with 3 Axes>"
      ]
     },
     "metadata": {
      "needs_background": "light"
     },
     "output_type": "display_data"
    }
   ],
   "source": [
    "fig , ax = plt.subplots(1,3, figsize=(15,20))\n",
    "\n",
    "#Тренд\n",
    "plt.subplot(3,1,1)\n",
    "decomposed_data.trend.plot(ax=plt.gca())\n",
    "plt.title('Тренд')\n",
    "plt.xlabel('Дата и время')\n",
    "plt.ylabel('Количество заказов')\n",
    "plt.legend(), plt.grid()\n",
    "#Сезонность\n",
    "plt.subplot(3,1,2)\n",
    "decomposed_data.seasonal.plot(ax=plt.gca())\n",
    "plt.title('Сезонность')\n",
    "plt.xlabel('Дата и время')\n",
    "plt.ylabel('Количество заказов')\n",
    "plt.legend(), plt.grid()\n",
    "#Residuals\n",
    "plt.subplot(3,1,3)\n",
    "decomposed_data.resid.plot(ax=plt.gca())\n",
    "plt.title('Шумы')\n",
    "plt.xlabel('Дата и время')\n",
    "plt.ylabel('Количество заказов')\n",
    "plt.legend(), plt.grid()\n",
    "plt.show()"
   ]
  },
  {
   "cell_type": "markdown",
   "metadata": {},
   "source": [
    "График тренда показывает возрастающую зависимость к августу. Это обусловлено ростом отпусков у людей.\n",
    "\n",
    "График сезонности трудно читается. Рассмотрим его более детально (График по недели и день).\n",
    "\n",
    "График остатка декомпозиции особо ничего не показывает"
   ]
  },
  {
   "cell_type": "code",
   "execution_count": 16,
   "metadata": {},
   "outputs": [
    {
     "data": {
      "image/png": "[encoded data removed]",
      "text/plain": [
       "<Figure size 1080x576 with 1 Axes>"
      ]
     },
     "metadata": {
      "needs_background": "light"
     },
     "output_type": "display_data"
    }
   ],
   "source": [
    "#создадим признаки с днем недели, часом\n",
    "data_resample['dayofweek'] = data_resample.index.dayofweek\n",
    "data_resample['hour'] = data_resample.index.hour\n",
    "#Построим графики количества заказов\n",
    "plt.figure(figsize=(15,8))\n",
    "data_resample.groupby('dayofweek')['num_orders'].sum().plot();\n",
    "plt.title('Сезонность заказов в течение 7 дней');\n",
    "plt.ylabel('Кол-во заказов');\n",
    "plt.xlabel('День недели')\n",
    "plt.subplots_adjust(wspace=0.5,hspace = 0.5);\n",
    "\n"
   ]
  },
  {
   "cell_type": "code",
   "execution_count": 17,
   "metadata": {},
   "outputs": [
    {
     "data": {
      "image/png": "[encoded data removed]",
      "text/plain": [
       "<Figure size 1080x576 with 1 Axes>"
      ]
     },
     "metadata": {
      "needs_background": "light"
     },
     "output_type": "display_data"
    }
   ],
   "source": [
    "plt.figure(figsize=(15,8))\n",
    "plt.title(\"Сезонность заказов в течение дня\")\n",
    "decomposed_data.seasonal['2018-03-01':'2018-03-02'].plot()\n",
    "plt.xlabel('Дата и время')\n",
    "plt.ylabel('Количество заказов')\n",
    "plt.xlabel('Дата и время')\n",
    "plt.show()"
   ]
  },
  {
   "cell_type": "markdown",
   "metadata": {},
   "source": [
    "Попробую сделать вывод по графикам:\n",
    "\n",
    "График(Сезонность заказов в течение 7 дней) по дням недели: имеет 2 пика - пятница, понедельник.\n",
    "понедельник - возвращение людей после выходных(или наоборот прилетают на работу), далее спад и снова рост к пятнице - улетают на выходные.\n",
    "\n",
    "Сезонность заказов в течение дня: увеличивается кол-во заказова с 06:00 и до полуночи. Затем спад до 5 утра.\n",
    "Т.к. имеется зависимость от дня недели то 24*7 = 168 - это число для лага"
   ]
  },
  {
   "cell_type": "markdown",
   "metadata": {},
   "source": [
    "## Обучение"
   ]
  },
  {
   "cell_type": "markdown",
   "metadata": {},
   "source": [
    "### Подготовка данных"
   ]
  },
  {
   "cell_type": "code",
   "execution_count": 18,
   "metadata": {},
   "outputs": [],
   "source": [
    "def make_features(data, max_lag, rolling_mean_size):\n",
    "    data['day'] = data.index.day\n",
    "    data['hour'] = data.index.hour\n",
    "    data['weekday'] = data.index.weekday\n",
    "    \n",
    "    for lag in range(1, max_lag + 1):\n",
    "        data['lag_{}'.format(lag)] = data['num_orders'].shift(lag)\n",
    "\n",
    "    data['rolling_mean'] = data['num_orders'].shift().rolling(rolling_mean_size).mean()"
   ]
  },
  {
   "cell_type": "code",
   "execution_count": 19,
   "metadata": {},
   "outputs": [],
   "source": [
    "make_features(data_resample, 168, 168)"
   ]
  },
  {
   "cell_type": "code",
   "execution_count": 20,
   "metadata": {},
   "outputs": [
    {
     "data": {
      "text/html": [
       "<div>\n",
       "<style scoped>\n",
       "    .dataframe tbody tr th:only-of-type {\n",
       "        vertical-align: middle;\n",
       "    }\n",
       "\n",
       "    .dataframe tbody tr th {\n",
       "        vertical-align: top;\n",
       "    }\n",
       "\n",
       "    .dataframe thead th {\n",
       "        text-align: right;\n",
       "    }\n",
       "</style>\n",
       "<table border=\"1\" class=\"dataframe\">\n",
       "  <thead>\n",
       "    <tr style=\"text-align: right;\">\n",
       "      <th></th>\n",
       "      <th>num_orders</th>\n",
       "      <th>dayofweek</th>\n",
       "      <th>hour</th>\n",
       "      <th>day</th>\n",
       "      <th>weekday</th>\n",
       "      <th>lag_1</th>\n",
       "      <th>lag_2</th>\n",
       "      <th>lag_3</th>\n",
       "      <th>lag_4</th>\n",
       "      <th>lag_5</th>\n",
       "      <th>...</th>\n",
       "      <th>lag_160</th>\n",
       "      <th>lag_161</th>\n",
       "      <th>lag_162</th>\n",
       "      <th>lag_163</th>\n",
       "      <th>lag_164</th>\n",
       "      <th>lag_165</th>\n",
       "      <th>lag_166</th>\n",
       "      <th>lag_167</th>\n",
       "      <th>lag_168</th>\n",
       "      <th>rolling_mean</th>\n",
       "    </tr>\n",
       "    <tr>\n",
       "      <th>datetime</th>\n",
       "      <th></th>\n",
       "      <th></th>\n",
       "      <th></th>\n",
       "      <th></th>\n",
       "      <th></th>\n",
       "      <th></th>\n",
       "      <th></th>\n",
       "      <th></th>\n",
       "      <th></th>\n",
       "      <th></th>\n",
       "      <th></th>\n",
       "      <th></th>\n",
       "      <th></th>\n",
       "      <th></th>\n",
       "      <th></th>\n",
       "      <th></th>\n",
       "      <th></th>\n",
       "      <th></th>\n",
       "      <th></th>\n",
       "      <th></th>\n",
       "      <th></th>\n",
       "    </tr>\n",
       "  </thead>\n",
       "  <tbody>\n",
       "    <tr>\n",
       "      <th>2018-03-01 00:00:00</th>\n",
       "      <td>124</td>\n",
       "      <td>3</td>\n",
       "      <td>0</td>\n",
       "      <td>1</td>\n",
       "      <td>3</td>\n",
       "      <td>NaN</td>\n",
       "      <td>NaN</td>\n",
       "      <td>NaN</td>\n",
       "      <td>NaN</td>\n",
       "      <td>NaN</td>\n",
       "      <td>...</td>\n",
       "      <td>NaN</td>\n",
       "      <td>NaN</td>\n",
       "      <td>NaN</td>\n",
       "      <td>NaN</td>\n",
       "      <td>NaN</td>\n",
       "      <td>NaN</td>\n",
       "      <td>NaN</td>\n",
       "      <td>NaN</td>\n",
       "      <td>NaN</td>\n",
       "      <td>NaN</td>\n",
       "    </tr>\n",
       "    <tr>\n",
       "      <th>2018-03-01 01:00:00</th>\n",
       "      <td>85</td>\n",
       "      <td>3</td>\n",
       "      <td>1</td>\n",
       "      <td>1</td>\n",
       "      <td>3</td>\n",
       "      <td>124.0</td>\n",
       "      <td>NaN</td>\n",
       "      <td>NaN</td>\n",
       "      <td>NaN</td>\n",
       "      <td>NaN</td>\n",
       "      <td>...</td>\n",
       "      <td>NaN</td>\n",
       "      <td>NaN</td>\n",
       "      <td>NaN</td>\n",
       "      <td>NaN</td>\n",
       "      <td>NaN</td>\n",
       "      <td>NaN</td>\n",
       "      <td>NaN</td>\n",
       "      <td>NaN</td>\n",
       "      <td>NaN</td>\n",
       "      <td>NaN</td>\n",
       "    </tr>\n",
       "    <tr>\n",
       "      <th>2018-03-01 02:00:00</th>\n",
       "      <td>71</td>\n",
       "      <td>3</td>\n",
       "      <td>2</td>\n",
       "      <td>1</td>\n",
       "      <td>3</td>\n",
       "      <td>85.0</td>\n",
       "      <td>124.0</td>\n",
       "      <td>NaN</td>\n",
       "      <td>NaN</td>\n",
       "      <td>NaN</td>\n",
       "      <td>...</td>\n",
       "      <td>NaN</td>\n",
       "      <td>NaN</td>\n",
       "      <td>NaN</td>\n",
       "      <td>NaN</td>\n",
       "      <td>NaN</td>\n",
       "      <td>NaN</td>\n",
       "      <td>NaN</td>\n",
       "      <td>NaN</td>\n",
       "      <td>NaN</td>\n",
       "      <td>NaN</td>\n",
       "    </tr>\n",
       "    <tr>\n",
       "      <th>2018-03-01 03:00:00</th>\n",
       "      <td>66</td>\n",
       "      <td>3</td>\n",
       "      <td>3</td>\n",
       "      <td>1</td>\n",
       "      <td>3</td>\n",
       "      <td>71.0</td>\n",
       "      <td>85.0</td>\n",
       "      <td>124.0</td>\n",
       "      <td>NaN</td>\n",
       "      <td>NaN</td>\n",
       "      <td>...</td>\n",
       "      <td>NaN</td>\n",
       "      <td>NaN</td>\n",
       "      <td>NaN</td>\n",
       "      <td>NaN</td>\n",
       "      <td>NaN</td>\n",
       "      <td>NaN</td>\n",
       "      <td>NaN</td>\n",
       "      <td>NaN</td>\n",
       "      <td>NaN</td>\n",
       "      <td>NaN</td>\n",
       "    </tr>\n",
       "    <tr>\n",
       "      <th>2018-03-01 04:00:00</th>\n",
       "      <td>43</td>\n",
       "      <td>3</td>\n",
       "      <td>4</td>\n",
       "      <td>1</td>\n",
       "      <td>3</td>\n",
       "      <td>66.0</td>\n",
       "      <td>71.0</td>\n",
       "      <td>85.0</td>\n",
       "      <td>124.0</td>\n",
       "      <td>NaN</td>\n",
       "      <td>...</td>\n",
       "      <td>NaN</td>\n",
       "      <td>NaN</td>\n",
       "      <td>NaN</td>\n",
       "      <td>NaN</td>\n",
       "      <td>NaN</td>\n",
       "      <td>NaN</td>\n",
       "      <td>NaN</td>\n",
       "      <td>NaN</td>\n",
       "      <td>NaN</td>\n",
       "      <td>NaN</td>\n",
       "    </tr>\n",
       "  </tbody>\n",
       "</table>\n",
       "<p>5 rows × 174 columns</p>\n",
       "</div>"
      ],
      "text/plain": [
       "                     num_orders  dayofweek  hour  day  weekday  lag_1  lag_2  \\\n",
       "datetime                                                                       \n",
       "2018-03-01 00:00:00         124          3     0    1        3    NaN    NaN   \n",
       "2018-03-01 01:00:00          85          3     1    1        3  124.0    NaN   \n",
       "2018-03-01 02:00:00          71          3     2    1        3   85.0  124.0   \n",
       "2018-03-01 03:00:00          66          3     3    1        3   71.0   85.0   \n",
       "2018-03-01 04:00:00          43          3     4    1        3   66.0   71.0   \n",
       "\n",
       "                     lag_3  lag_4  lag_5  ...  lag_160  lag_161  lag_162  \\\n",
       "datetime                                  ...                              \n",
       "2018-03-01 00:00:00    NaN    NaN    NaN  ...      NaN      NaN      NaN   \n",
       "2018-03-01 01:00:00    NaN    NaN    NaN  ...      NaN      NaN      NaN   \n",
       "2018-03-01 02:00:00    NaN    NaN    NaN  ...      NaN      NaN      NaN   \n",
       "2018-03-01 03:00:00  124.0    NaN    NaN  ...      NaN      NaN      NaN   \n",
       "2018-03-01 04:00:00   85.0  124.0    NaN  ...      NaN      NaN      NaN   \n",
       "\n",
       "                     lag_163  lag_164  lag_165  lag_166  lag_167  lag_168  \\\n",
       "datetime                                                                    \n",
       "2018-03-01 00:00:00      NaN      NaN      NaN      NaN      NaN      NaN   \n",
       "2018-03-01 01:00:00      NaN      NaN      NaN      NaN      NaN      NaN   \n",
       "2018-03-01 02:00:00      NaN      NaN      NaN      NaN      NaN      NaN   \n",
       "2018-03-01 03:00:00      NaN      NaN      NaN      NaN      NaN      NaN   \n",
       "2018-03-01 04:00:00      NaN      NaN      NaN      NaN      NaN      NaN   \n",
       "\n",
       "                     rolling_mean  \n",
       "datetime                           \n",
       "2018-03-01 00:00:00           NaN  \n",
       "2018-03-01 01:00:00           NaN  \n",
       "2018-03-01 02:00:00           NaN  \n",
       "2018-03-01 03:00:00           NaN  \n",
       "2018-03-01 04:00:00           NaN  \n",
       "\n",
       "[5 rows x 174 columns]"
      ]
     },
     "execution_count": 20,
     "metadata": {},
     "output_type": "execute_result"
    }
   ],
   "source": [
    "data_resample.head()"
   ]
  },
  {
   "cell_type": "code",
   "execution_count": 21,
   "metadata": {},
   "outputs": [],
   "source": [
    "train, valid = train_test_split(data_resample, shuffle=False, test_size=0.1)\n",
    "valid, test = train_test_split(valid, shuffle=False, test_size=0.5)\n",
    "train = train.dropna()"
   ]
  },
  {
   "cell_type": "code",
   "execution_count": 22,
   "metadata": {},
   "outputs": [],
   "source": [
    "features_train = train.drop(columns=['num_orders'])\n",
    "target_train = train['num_orders']\n",
    "\n",
    "features_valid = valid.drop(columns=['num_orders'])\n",
    "target_valid = valid['num_orders']\n",
    "\n",
    "features_test = test.drop(columns=['num_orders'])\n",
    "target_test = test['num_orders']"
   ]
  },
  {
   "cell_type": "code",
   "execution_count": 23,
   "metadata": {},
   "outputs": [
    {
     "data": {
      "text/plain": [
       "(4416, 174)"
      ]
     },
     "execution_count": 23,
     "metadata": {},
     "output_type": "execute_result"
    }
   ],
   "source": [
    "data_resample.shape"
   ]
  },
  {
   "cell_type": "code",
   "execution_count": 24,
   "metadata": {},
   "outputs": [
    {
     "data": {
      "text/plain": [
       "(3806, 173)"
      ]
     },
     "execution_count": 24,
     "metadata": {},
     "output_type": "execute_result"
    }
   ],
   "source": [
    "features_train.shape"
   ]
  },
  {
   "cell_type": "code",
   "execution_count": 25,
   "metadata": {},
   "outputs": [
    {
     "data": {
      "text/plain": [
       "(221, 173)"
      ]
     },
     "execution_count": 25,
     "metadata": {},
     "output_type": "execute_result"
    }
   ],
   "source": [
    "features_valid.shape"
   ]
  },
  {
   "cell_type": "code",
   "execution_count": 26,
   "metadata": {
    "scrolled": true
   },
   "outputs": [
    {
     "data": {
      "text/plain": [
       "(221, 173)"
      ]
     },
     "execution_count": 26,
     "metadata": {},
     "output_type": "execute_result"
    }
   ],
   "source": [
    "features_test.shape"
   ]
  },
  {
   "cell_type": "markdown",
   "metadata": {},
   "source": [
    "### LinearRegressor"
   ]
  },
  {
   "cell_type": "code",
   "execution_count": 27,
   "metadata": {},
   "outputs": [
    {
     "name": "stdout",
     "output_type": "stream",
     "text": [
      "RMSE LinearRegression: 32.33289650378027\n"
     ]
    }
   ],
   "source": [
    "model = LinearRegression()\n",
    "start_time = time.time()\n",
    "model.fit(features_train, target_train)\n",
    "time_lr_fit = time.time() - start_time\n",
    "\n",
    "predict_lr = model.predict(features_valid)\n",
    "rmse_lr = mean_squared_error(target_valid, predict_lr) ** 0.5\n",
    "time_lr = time.time() -  start_time\n",
    "\n",
    "print('RMSE LinearRegression:', rmse_lr)"
   ]
  },
  {
   "cell_type": "markdown",
   "metadata": {},
   "source": [
    "### CatBoost"
   ]
  },
  {
   "cell_type": "code",
   "execution_count": 28,
   "metadata": {},
   "outputs": [
    {
     "name": "stdout",
     "output_type": "stream",
     "text": [
      "Learning rate set to 0.076605\n",
      "0:\tlearn: 37.0524151\ttotal: 164ms\tremaining: 1m 38s\n",
      "5:\tlearn: 30.8000172\ttotal: 575ms\tremaining: 56.9s\n",
      "10:\tlearn: 26.8418981\ttotal: 893ms\tremaining: 47.8s\n",
      "15:\tlearn: 24.3875400\ttotal: 1.26s\tremaining: 46s\n",
      "20:\tlearn: 22.9085152\ttotal: 1.58s\tremaining: 43.6s\n",
      "25:\tlearn: 21.9443728\ttotal: 1.88s\tremaining: 41.4s\n",
      "30:\tlearn: 21.2762465\ttotal: 2.19s\tremaining: 40.2s\n",
      "35:\tlearn: 20.7771791\ttotal: 2.52s\tremaining: 39.4s\n",
      "40:\tlearn: 20.3793432\ttotal: 2.91s\tremaining: 39.6s\n",
      "45:\tlearn: 20.1514713\ttotal: 3.24s\tremaining: 39s\n",
      "50:\tlearn: 19.9126928\ttotal: 3.4s\tremaining: 36.6s\n",
      "55:\tlearn: 19.6895632\ttotal: 3.57s\tremaining: 34.7s\n",
      "60:\tlearn: 19.5171794\ttotal: 3.74s\tremaining: 33.1s\n",
      "65:\tlearn: 19.3778685\ttotal: 3.9s\tremaining: 31.6s\n",
      "70:\tlearn: 19.2128277\ttotal: 4.06s\tremaining: 30.3s\n",
      "75:\tlearn: 19.0433975\ttotal: 4.23s\tremaining: 29.1s\n",
      "80:\tlearn: 18.9148145\ttotal: 4.4s\tremaining: 28.2s\n",
      "85:\tlearn: 18.7851318\ttotal: 4.57s\tremaining: 27.3s\n",
      "90:\tlearn: 18.6461055\ttotal: 4.74s\tremaining: 26.5s\n",
      "95:\tlearn: 18.5052645\ttotal: 4.92s\tremaining: 25.8s\n",
      "100:\tlearn: 18.3954266\ttotal: 5.08s\tremaining: 25.1s\n",
      "105:\tlearn: 18.2499347\ttotal: 5.25s\tremaining: 24.5s\n",
      "110:\tlearn: 18.0992629\ttotal: 5.42s\tremaining: 23.9s\n",
      "115:\tlearn: 17.9986717\ttotal: 5.58s\tremaining: 23.3s\n",
      "120:\tlearn: 17.8484959\ttotal: 5.74s\tremaining: 22.7s\n",
      "125:\tlearn: 17.7412262\ttotal: 5.9s\tremaining: 22.2s\n",
      "130:\tlearn: 17.6286129\ttotal: 6.07s\tremaining: 21.7s\n",
      "135:\tlearn: 17.5715049\ttotal: 6.24s\tremaining: 21.3s\n",
      "140:\tlearn: 17.4937717\ttotal: 6.41s\tremaining: 20.9s\n",
      "145:\tlearn: 17.4456278\ttotal: 6.57s\tremaining: 20.4s\n",
      "150:\tlearn: 17.3530868\ttotal: 6.73s\tremaining: 20s\n",
      "155:\tlearn: 17.2238588\ttotal: 6.9s\tremaining: 19.6s\n",
      "160:\tlearn: 17.1227230\ttotal: 7.06s\tremaining: 19.3s\n",
      "165:\tlearn: 16.9681091\ttotal: 7.23s\tremaining: 18.9s\n",
      "170:\tlearn: 16.8188811\ttotal: 7.41s\tremaining: 18.6s\n",
      "175:\tlearn: 16.7002235\ttotal: 7.59s\tremaining: 18.3s\n",
      "180:\tlearn: 16.5637419\ttotal: 7.76s\tremaining: 18s\n",
      "185:\tlearn: 16.4410887\ttotal: 7.92s\tremaining: 17.6s\n",
      "190:\tlearn: 16.3083062\ttotal: 8.08s\tremaining: 17.3s\n",
      "195:\tlearn: 16.1762879\ttotal: 8.25s\tremaining: 17s\n",
      "200:\tlearn: 16.0567191\ttotal: 8.41s\tremaining: 16.7s\n",
      "205:\tlearn: 15.9249875\ttotal: 8.59s\tremaining: 16.4s\n",
      "210:\tlearn: 15.8146560\ttotal: 8.76s\tremaining: 16.1s\n",
      "215:\tlearn: 15.6976337\ttotal: 8.94s\tremaining: 15.9s\n",
      "220:\tlearn: 15.6051216\ttotal: 9.1s\tremaining: 15.6s\n",
      "225:\tlearn: 15.5060746\ttotal: 9.26s\tremaining: 15.3s\n",
      "230:\tlearn: 15.3764691\ttotal: 9.42s\tremaining: 15s\n",
      "235:\tlearn: 15.2654017\ttotal: 9.59s\tremaining: 14.8s\n",
      "240:\tlearn: 15.1496698\ttotal: 9.76s\tremaining: 14.5s\n",
      "245:\tlearn: 15.0729908\ttotal: 9.93s\tremaining: 14.3s\n",
      "250:\tlearn: 14.9700762\ttotal: 10.1s\tremaining: 14s\n",
      "255:\tlearn: 14.8877264\ttotal: 10.3s\tremaining: 13.8s\n",
      "260:\tlearn: 14.7582932\ttotal: 10.4s\tremaining: 13.6s\n",
      "265:\tlearn: 14.6799302\ttotal: 10.6s\tremaining: 13.3s\n",
      "270:\tlearn: 14.5802887\ttotal: 10.8s\tremaining: 13.1s\n",
      "275:\tlearn: 14.4913777\ttotal: 10.9s\tremaining: 12.8s\n",
      "280:\tlearn: 14.4145686\ttotal: 11.1s\tremaining: 12.6s\n",
      "285:\tlearn: 14.3315191\ttotal: 11.3s\tremaining: 12.4s\n",
      "290:\tlearn: 14.2562337\ttotal: 11.4s\tremaining: 12.1s\n",
      "295:\tlearn: 14.1913442\ttotal: 11.6s\tremaining: 11.9s\n",
      "300:\tlearn: 14.1183091\ttotal: 11.8s\tremaining: 11.7s\n",
      "305:\tlearn: 14.0433662\ttotal: 11.9s\tremaining: 11.5s\n",
      "310:\tlearn: 13.9615687\ttotal: 12.1s\tremaining: 11.2s\n",
      "315:\tlearn: 13.8727161\ttotal: 12.3s\tremaining: 11s\n",
      "320:\tlearn: 13.7939805\ttotal: 12.4s\tremaining: 10.8s\n",
      "325:\tlearn: 13.6988461\ttotal: 12.6s\tremaining: 10.6s\n",
      "330:\tlearn: 13.6175578\ttotal: 12.8s\tremaining: 10.4s\n",
      "335:\tlearn: 13.5159069\ttotal: 13s\tremaining: 10.2s\n",
      "340:\tlearn: 13.4382826\ttotal: 13.1s\tremaining: 9.99s\n",
      "345:\tlearn: 13.3522657\ttotal: 13.3s\tremaining: 9.77s\n",
      "350:\tlearn: 13.2728671\ttotal: 13.5s\tremaining: 9.57s\n",
      "355:\tlearn: 13.1820339\ttotal: 13.7s\tremaining: 9.36s\n",
      "360:\tlearn: 13.1012770\ttotal: 13.8s\tremaining: 9.14s\n",
      "365:\tlearn: 13.0146076\ttotal: 14s\tremaining: 8.93s\n",
      "370:\tlearn: 12.9214289\ttotal: 14.1s\tremaining: 8.72s\n",
      "375:\tlearn: 12.8565535\ttotal: 14.3s\tremaining: 8.52s\n",
      "380:\tlearn: 12.7753943\ttotal: 14.5s\tremaining: 8.32s\n",
      "385:\tlearn: 12.6869217\ttotal: 14.7s\tremaining: 8.13s\n",
      "390:\tlearn: 12.5619977\ttotal: 14.8s\tremaining: 7.92s\n",
      "395:\tlearn: 12.4859416\ttotal: 15s\tremaining: 7.72s\n",
      "400:\tlearn: 12.3918303\ttotal: 15.2s\tremaining: 7.52s\n",
      "405:\tlearn: 12.3399993\ttotal: 15.3s\tremaining: 7.32s\n",
      "410:\tlearn: 12.2825609\ttotal: 15.5s\tremaining: 7.12s\n",
      "415:\tlearn: 12.2068444\ttotal: 15.7s\tremaining: 6.92s\n",
      "420:\tlearn: 12.1104596\ttotal: 15.8s\tremaining: 6.73s\n",
      "425:\tlearn: 12.0201682\ttotal: 16s\tremaining: 6.54s\n",
      "430:\tlearn: 11.9604767\ttotal: 16.2s\tremaining: 6.34s\n",
      "435:\tlearn: 11.8775720\ttotal: 16.3s\tremaining: 6.14s\n",
      "440:\tlearn: 11.8062022\ttotal: 16.5s\tremaining: 5.95s\n",
      "445:\tlearn: 11.7206893\ttotal: 16.7s\tremaining: 5.75s\n",
      "450:\tlearn: 11.6230156\ttotal: 16.8s\tremaining: 5.56s\n",
      "455:\tlearn: 11.5767149\ttotal: 17s\tremaining: 5.37s\n",
      "460:\tlearn: 11.4943223\ttotal: 17.2s\tremaining: 5.18s\n",
      "465:\tlearn: 11.4225244\ttotal: 17.4s\tremaining: 4.99s\n",
      "470:\tlearn: 11.3583206\ttotal: 17.5s\tremaining: 4.8s\n",
      "475:\tlearn: 11.2831734\ttotal: 17.7s\tremaining: 4.61s\n",
      "480:\tlearn: 11.2071499\ttotal: 17.9s\tremaining: 4.42s\n",
      "485:\tlearn: 11.1315107\ttotal: 18s\tremaining: 4.23s\n",
      "490:\tlearn: 11.0759161\ttotal: 18.2s\tremaining: 4.04s\n",
      "495:\tlearn: 11.0153668\ttotal: 18.4s\tremaining: 3.85s\n",
      "500:\tlearn: 10.9410508\ttotal: 18.5s\tremaining: 3.66s\n",
      "505:\tlearn: 10.8634888\ttotal: 18.7s\tremaining: 3.47s\n",
      "510:\tlearn: 10.7994393\ttotal: 18.9s\tremaining: 3.29s\n",
      "515:\tlearn: 10.7244998\ttotal: 19s\tremaining: 3.1s\n",
      "520:\tlearn: 10.6578728\ttotal: 19.2s\tremaining: 2.91s\n",
      "525:\tlearn: 10.5797895\ttotal: 19.4s\tremaining: 2.72s\n",
      "530:\tlearn: 10.5326471\ttotal: 19.6s\tremaining: 2.54s\n",
      "535:\tlearn: 10.4618203\ttotal: 19.7s\tremaining: 2.35s\n",
      "540:\tlearn: 10.4033979\ttotal: 19.9s\tremaining: 2.17s\n",
      "545:\tlearn: 10.3222814\ttotal: 20.1s\tremaining: 1.99s\n",
      "550:\tlearn: 10.2450264\ttotal: 20.3s\tremaining: 1.8s\n",
      "555:\tlearn: 10.1647337\ttotal: 20.4s\tremaining: 1.61s\n",
      "560:\tlearn: 10.1227634\ttotal: 20.6s\tremaining: 1.43s\n",
      "565:\tlearn: 10.0534076\ttotal: 20.8s\tremaining: 1.25s\n",
      "570:\tlearn: 10.0069491\ttotal: 20.9s\tremaining: 1.06s\n",
      "575:\tlearn: 9.9373264\ttotal: 21.1s\tremaining: 879ms\n",
      "580:\tlearn: 9.8704796\ttotal: 21.3s\tremaining: 695ms\n",
      "585:\tlearn: 9.8161697\ttotal: 21.4s\tremaining: 512ms\n",
      "590:\tlearn: 9.7484714\ttotal: 21.6s\tremaining: 329ms\n",
      "595:\tlearn: 9.6874877\ttotal: 21.8s\tremaining: 146ms\n",
      "599:\tlearn: 9.6450394\ttotal: 21.9s\tremaining: 0us\n",
      "RMSE CatBoostRegressor: 33.677965380990045\n",
      "Время обучения: 22.93200445175171\n",
      "Время выполнения: 22.94026255607605\n"
     ]
    }
   ],
   "source": [
    "cat_model = CatBoostRegressor(loss_function=\"RMSE\", iterations=600, random_state=42)\n",
    "start_time = time.time()\n",
    "cat_model.fit(features_train, target_train, verbose=5)\n",
    "time_cat_fit = time.time() - start_time\n",
    "\n",
    "predict_cat = cat_model.predict(features_valid)\n",
    "score_cat = mean_squared_error(target_valid, predict_cat) ** 0.5\n",
    "time_cat = time.time() -  start_time\n",
    "\n",
    "print(\"RMSE CatBoostRegressor:\", score_cat)\n",
    "print(\"Время обучения:\",time_cat_fit)\n",
    "print(\"Время выполнения:\",time_cat)"
   ]
  },
  {
   "cell_type": "markdown",
   "metadata": {},
   "source": [
    "### LightGMB"
   ]
  },
  {
   "cell_type": "code",
   "execution_count": 29,
   "metadata": {},
   "outputs": [
    {
     "name": "stdout",
     "output_type": "stream",
     "text": [
      "Параметры: num_leaves=20, learning_rate=0.01, n_estimators=100\n",
      "RMSE: 48.04018567004872\n",
      "Время обучения: 4.580989360809326\n",
      "Время выполнения: 4.584776163101196\n",
      "Параметры: num_leaves=20, learning_rate=0.01, n_estimators=200\n",
      "RMSE: 39.082518757058814\n",
      "Время обучения: 8.109910011291504\n",
      "Время выполнения: 8.11344838142395\n",
      "Параметры: num_leaves=20, learning_rate=0.01, n_estimators=300\n",
      "RMSE: 35.94841482827234\n",
      "Время обучения: 11.887758493423462\n",
      "Время выполнения: 11.891617774963379\n",
      "Параметры: num_leaves=20, learning_rate=0.1, n_estimators=100\n",
      "RMSE: 33.54804674593811\n",
      "Время обучения: 3.7928755283355713\n",
      "Время выполнения: 3.796370267868042\n",
      "Параметры: num_leaves=20, learning_rate=0.1, n_estimators=200\n",
      "RMSE: 33.66041186324169\n",
      "Время обучения: 6.401349067687988\n",
      "Время выполнения: 6.404858589172363\n",
      "Параметры: num_leaves=20, learning_rate=0.1, n_estimators=300\n",
      "RMSE: 33.61212311233407\n",
      "Время обучения: 9.316081285476685\n",
      "Время выполнения: 9.319608688354492\n",
      "Параметры: num_leaves=20, learning_rate=0.2, n_estimators=100\n",
      "RMSE: 34.80279581836363\n",
      "Время обучения: 3.2908387184143066\n",
      "Время выполнения: 3.381730079650879\n",
      "Параметры: num_leaves=20, learning_rate=0.2, n_estimators=200\n",
      "RMSE: 34.79778694032544\n",
      "Время обучения: 6.812732458114624\n",
      "Время выполнения: 6.899690628051758\n",
      "Параметры: num_leaves=20, learning_rate=0.2, n_estimators=300\n",
      "RMSE: 34.80344007866248\n",
      "Время обучения: 9.00273060798645\n",
      "Время выполнения: 9.006243467330933\n",
      "Параметры: num_leaves=40, learning_rate=0.01, n_estimators=100\n",
      "RMSE: 47.25168209056229\n",
      "Время обучения: 7.093230962753296\n",
      "Время выполнения: 7.096533536911011\n",
      "Параметры: num_leaves=40, learning_rate=0.01, n_estimators=200\n",
      "RMSE: 38.85253727931245\n",
      "Время обучения: 13.602308988571167\n",
      "Время выполнения: 13.693664789199829\n",
      "Параметры: num_leaves=40, learning_rate=0.01, n_estimators=300\n",
      "RMSE: 36.08252974014732\n",
      "Время обучения: 22.80466103553772\n",
      "Время выполнения: 22.808425426483154\n",
      "Параметры: num_leaves=40, learning_rate=0.1, n_estimators=100\n",
      "RMSE: 34.32370796429043\n",
      "Время обучения: 7.089116334915161\n",
      "Время выполнения: 7.092539548873901\n",
      "Параметры: num_leaves=40, learning_rate=0.1, n_estimators=200\n",
      "RMSE: 34.06801739885635\n",
      "Время обучения: 12.90234375\n",
      "Время выполнения: 12.905760288238525\n",
      "Параметры: num_leaves=40, learning_rate=0.1, n_estimators=300\n",
      "RMSE: 34.38381259399772\n",
      "Время обучения: 17.89039707183838\n",
      "Время выполнения: 17.9009907245636\n",
      "Параметры: num_leaves=40, learning_rate=0.2, n_estimators=100\n",
      "RMSE: 34.58987483960414\n",
      "Время обучения: 6.195133924484253\n",
      "Время выполнения: 6.285419940948486\n",
      "Параметры: num_leaves=40, learning_rate=0.2, n_estimators=200\n",
      "RMSE: 35.43263344672579\n",
      "Время обучения: 11.603142738342285\n",
      "Время выполнения: 11.606795310974121\n",
      "Параметры: num_leaves=40, learning_rate=0.2, n_estimators=300\n",
      "RMSE: 36.00349883186807\n",
      "Время обучения: 18.7034912109375\n",
      "Время выполнения: 18.713753700256348\n",
      "Параметры: num_leaves=60, learning_rate=0.01, n_estimators=100\n",
      "RMSE: 47.27618625109383\n",
      "Время обучения: 33.680201292037964\n",
      "Время выполнения: 33.68376016616821\n",
      "Параметры: num_leaves=60, learning_rate=0.01, n_estimators=200\n",
      "RMSE: 38.90272543632656\n",
      "Время обучения: 20.41081690788269\n",
      "Время выполнения: 20.494080781936646\n",
      "Параметры: num_leaves=60, learning_rate=0.01, n_estimators=300\n",
      "RMSE: 36.15373994451262\n",
      "Время обучения: 31.30380940437317\n",
      "Время выполнения: 31.30761981010437\n",
      "Параметры: num_leaves=60, learning_rate=0.1, n_estimators=100\n",
      "RMSE: 35.26396088268777\n",
      "Время обучения: 10.699559211730957\n",
      "Время выполнения: 10.788856744766235\n",
      "Параметры: num_leaves=60, learning_rate=0.1, n_estimators=200\n",
      "RMSE: 35.70856489591778\n",
      "Время обучения: 24.510788440704346\n",
      "Время выполнения: 24.51438307762146\n",
      "Параметры: num_leaves=60, learning_rate=0.1, n_estimators=300\n",
      "RMSE: 36.281698976568656\n",
      "Время обучения: 42.59736967086792\n",
      "Время выполнения: 42.601664781570435\n",
      "Параметры: num_leaves=60, learning_rate=0.2, n_estimators=100\n",
      "RMSE: 35.76920396940895\n",
      "Время обучения: 10.000071287155151\n",
      "Время выполнения: 10.003885746002197\n",
      "Параметры: num_leaves=60, learning_rate=0.2, n_estimators=200\n",
      "RMSE: 36.73322190291879\n",
      "Время обучения: 67.51017713546753\n",
      "Время выполнения: 67.60124921798706\n",
      "Параметры: num_leaves=60, learning_rate=0.2, n_estimators=300\n",
      "RMSE: 37.48436734854293\n",
      "Время обучения: 27.00683331489563\n",
      "Время выполнения: 27.093501806259155\n",
      "\n",
      "Лучшие параметры:\n",
      "{'num_leaves': 20, 'learning_rate': 0.1, 'n_estimators': 100}\n",
      "Лучший RMSE: 33.54804674593811\n"
     ]
    }
   ],
   "source": [
    "num_leaves_options = [20, 40, 60]\n",
    "learning_rate_options = [0.01, 0.1, 0.2]\n",
    "n_estimators_options = [100, 200, 300]\n",
    "\n",
    "# Списки для хранения результатов\n",
    "best_score = float('inf')\n",
    "best_params = {}\n",
    "results = []\n",
    "\n",
    "# Перебор всех комбинаций гиперпараметров\n",
    "for num_leaves, learning_rate, n_estimators in itertools.product(num_leaves_options, learning_rate_options, n_estimators_options):\n",
    "    # Обучение модели\n",
    "    lgbm_model = LGBMRegressor(num_leaves=num_leaves, learning_rate=learning_rate, n_estimators=n_estimators, random_state=42)\n",
    "    start_time = time.time()\n",
    "    lgbm_model.fit(features_train, target_train)\n",
    "    time_lgbm_fit = time.time() - start_time\n",
    "\n",
    "    # Прогнозирование и оценка модели\n",
    "    predict_lgbm = lgbm_model.predict(features_valid)\n",
    "    score_lgbm = mean_squared_error(target_valid, predict_lgbm) ** 0.5\n",
    "    time_lgbm = time.time() - start_time\n",
    "\n",
    "    # Сохранение результатов\n",
    "    results.append({\n",
    "        'num_leaves': num_leaves,\n",
    "        'learning_rate': learning_rate,\n",
    "        'n_estimators': n_estimators,\n",
    "        'RMSE': score_lgbm,\n",
    "        'time_fit': time_lgbm_fit,\n",
    "        'time_total': time_lgbm\n",
    "    })\n",
    "\n",
    "    # Обновление наилучших параметров\n",
    "    if score_lgbm < best_score:\n",
    "        best_score = score_lgbm\n",
    "        best_params = {\n",
    "            'num_leaves': num_leaves,\n",
    "            'learning_rate': learning_rate,\n",
    "            'n_estimators': n_estimators\n",
    "        }\n",
    "\n",
    "    print(f\"Параметры: num_leaves={num_leaves}, learning_rate={learning_rate}, n_estimators={n_estimators}\")\n",
    "    print(f\"RMSE: {score_lgbm}\")\n",
    "    print(f\"Время обучения: {time_lgbm_fit}\")\n",
    "    print(f\"Время выполнения: {time_lgbm}\")\n",
    "\n",
    "print(\"\\nЛучшие параметры:\")\n",
    "print(best_params)\n",
    "print(f\"Лучший RMSE: {best_score}\")"
   ]
  },
  {
   "cell_type": "code",
   "execution_count": 30,
   "metadata": {},
   "outputs": [
    {
     "name": "stdout",
     "output_type": "stream",
     "text": [
      "33.54804674593811\n"
     ]
    }
   ],
   "source": [
    "print(best_score)"
   ]
  },
  {
   "cell_type": "code",
   "execution_count": 31,
   "metadata": {},
   "outputs": [
    {
     "name": "stdout",
     "output_type": "stream",
     "text": [
      "RMSE LGBMRegressor: 33.54804674593811\n",
      "Время обучения: 3.20406174659729\n",
      "Время выполнения: 3.2078194618225098\n"
     ]
    }
   ],
   "source": [
    "lgbm_model = LGBMRegressor(num_leaves=20, learning_rate=0.1, n_estimators=100, random_state=42)\n",
    "start_time = time.time()\n",
    "lgbm_model.fit(features_train, target_train)\n",
    "time_lgbm_fit = time.time() - start_time\n",
    "predict_lgbm = lgbm_model.predict(features_valid)\n",
    "\n",
    "score_lgbm = mean_squared_error(target_valid, predict_lgbm) ** 0.5\n",
    "time_lgmb = time.time() -  start_time\n",
    "\n",
    "print(\"RMSE LGBMRegressor:\", score_lgbm)\n",
    "print(\"Время обучения:\",time_lgbm_fit)\n",
    "print(\"Время выполнения:\",time_lgmb)"
   ]
  },
  {
   "cell_type": "markdown",
   "metadata": {},
   "source": [
    "### Итог"
   ]
  },
  {
   "cell_type": "code",
   "execution_count": 32,
   "metadata": {},
   "outputs": [],
   "source": [
    "data_itog = pd.DataFrame({\"Model\":[\"LinearRegression\",\n",
    "                                   \"CatBoost\",\n",
    "                                  \"LightGBM\"],\n",
    "                          \"RMSE\":[rmse_lr,score_cat,score_lgbm],\n",
    "                          \"Fit_time\":[time_lr_fit,time_cat_fit,time_lgbm_fit],\n",
    "                          \"Predict_time\" :[time_lr,time_cat,time_lgmb]\n",
    "                         })"
   ]
  },
  {
   "cell_type": "code",
   "execution_count": 33,
   "metadata": {},
   "outputs": [
    {
     "data": {
      "text/html": [
       "<div>\n",
       "<style scoped>\n",
       "    .dataframe tbody tr th:only-of-type {\n",
       "        vertical-align: middle;\n",
       "    }\n",
       "\n",
       "    .dataframe tbody tr th {\n",
       "        vertical-align: top;\n",
       "    }\n",
       "\n",
       "    .dataframe thead th {\n",
       "        text-align: right;\n",
       "    }\n",
       "</style>\n",
       "<table border=\"1\" class=\"dataframe\">\n",
       "  <thead>\n",
       "    <tr style=\"text-align: right;\">\n",
       "      <th></th>\n",
       "      <th>Model</th>\n",
       "      <th>RMSE</th>\n",
       "      <th>Fit_time</th>\n",
       "      <th>Predict_time</th>\n",
       "    </tr>\n",
       "  </thead>\n",
       "  <tbody>\n",
       "    <tr>\n",
       "      <th>0</th>\n",
       "      <td>LinearRegression</td>\n",
       "      <td>32.332897</td>\n",
       "      <td>0.257788</td>\n",
       "      <td>0.357935</td>\n",
       "    </tr>\n",
       "    <tr>\n",
       "      <th>2</th>\n",
       "      <td>LightGBM</td>\n",
       "      <td>33.548047</td>\n",
       "      <td>3.204062</td>\n",
       "      <td>3.207819</td>\n",
       "    </tr>\n",
       "    <tr>\n",
       "      <th>1</th>\n",
       "      <td>CatBoost</td>\n",
       "      <td>33.677965</td>\n",
       "      <td>22.932004</td>\n",
       "      <td>22.940263</td>\n",
       "    </tr>\n",
       "  </tbody>\n",
       "</table>\n",
       "</div>"
      ],
      "text/plain": [
       "              Model       RMSE   Fit_time  Predict_time\n",
       "0  LinearRegression  32.332897   0.257788      0.357935\n",
       "2          LightGBM  33.548047   3.204062      3.207819\n",
       "1          CatBoost  33.677965  22.932004     22.940263"
      ]
     },
     "execution_count": 33,
     "metadata": {},
     "output_type": "execute_result"
    }
   ],
   "source": [
    "data_itog.sort_values(by=\"RMSE\")"
   ]
  },
  {
   "cell_type": "markdown",
   "metadata": {},
   "source": [
    "Наилучший результат показала LinearRegression\t модель с RMSE равной 32.332897\n",
    "\n",
    "Наихудший результат у CatBoost\t (RMSE = 33.677965)"
   ]
  },
  {
   "cell_type": "markdown",
   "metadata": {},
   "source": [
    "## Тестирование"
   ]
  },
  {
   "cell_type": "code",
   "execution_count": 34,
   "metadata": {},
   "outputs": [
    {
     "name": "stdout",
     "output_type": "stream",
     "text": [
      "RMSE LinearRegression: 36.44078365397685\n",
      "Время обучения: 0.003217935562133789\n",
      "Время выполнения: 0.003928661346435547\n"
     ]
    }
   ],
   "source": [
    "start_time = time.time()\n",
    "test_predict = model.predict(features_test)\n",
    "test_time_predict = time.time() - start_time\n",
    "score_test = mean_squared_error(target_test, test_predict) ** 0.5\n",
    "test_time_score = time.time() - start_time\n",
    "print(\"RMSE LinearRegression:\", score_test)\n",
    "print(\"Время обучения:\",test_time_predict)\n",
    "print(\"Время выполнения:\",test_time_score)"
   ]
  },
  {
   "cell_type": "code",
   "execution_count": 35,
   "metadata": {},
   "outputs": [],
   "source": [
    "data_itog = pd.DataFrame({\"Model\":[\"LinearRegression\",\n",
    "                                   \"CatBoost\",\n",
    "                                  \"LightGBM\",\n",
    "                                  \"Test_Linear\"],\n",
    "                          \"RMSE\":[rmse_lr,score_cat,score_lgbm,score_test],\n",
    "                          \"Fit_time\":[time_lr_fit,time_cat_fit,time_lgbm_fit,test_time_predict],\n",
    "                          \"Predict_time\" :[time_lr,time_cat,time_lgmb,test_time_score]\n",
    "                         })"
   ]
  },
  {
   "cell_type": "code",
   "execution_count": 36,
   "metadata": {},
   "outputs": [
    {
     "data": {
      "text/html": [
       "<div>\n",
       "<style scoped>\n",
       "    .dataframe tbody tr th:only-of-type {\n",
       "        vertical-align: middle;\n",
       "    }\n",
       "\n",
       "    .dataframe tbody tr th {\n",
       "        vertical-align: top;\n",
       "    }\n",
       "\n",
       "    .dataframe thead th {\n",
       "        text-align: right;\n",
       "    }\n",
       "</style>\n",
       "<table border=\"1\" class=\"dataframe\">\n",
       "  <thead>\n",
       "    <tr style=\"text-align: right;\">\n",
       "      <th></th>\n",
       "      <th>Model</th>\n",
       "      <th>RMSE</th>\n",
       "      <th>Fit_time</th>\n",
       "      <th>Predict_time</th>\n",
       "    </tr>\n",
       "  </thead>\n",
       "  <tbody>\n",
       "    <tr>\n",
       "      <th>0</th>\n",
       "      <td>LinearRegression</td>\n",
       "      <td>32.332897</td>\n",
       "      <td>0.257788</td>\n",
       "      <td>0.357935</td>\n",
       "    </tr>\n",
       "    <tr>\n",
       "      <th>1</th>\n",
       "      <td>CatBoost</td>\n",
       "      <td>33.677965</td>\n",
       "      <td>22.932004</td>\n",
       "      <td>22.940263</td>\n",
       "    </tr>\n",
       "    <tr>\n",
       "      <th>2</th>\n",
       "      <td>LightGBM</td>\n",
       "      <td>33.548047</td>\n",
       "      <td>3.204062</td>\n",
       "      <td>3.207819</td>\n",
       "    </tr>\n",
       "    <tr>\n",
       "      <th>3</th>\n",
       "      <td>Test_Linear</td>\n",
       "      <td>36.440784</td>\n",
       "      <td>0.003218</td>\n",
       "      <td>0.003929</td>\n",
       "    </tr>\n",
       "  </tbody>\n",
       "</table>\n",
       "</div>"
      ],
      "text/plain": [
       "              Model       RMSE   Fit_time  Predict_time\n",
       "0  LinearRegression  32.332897   0.257788      0.357935\n",
       "1          CatBoost  33.677965  22.932004     22.940263\n",
       "2          LightGBM  33.548047   3.204062      3.207819\n",
       "3       Test_Linear  36.440784   0.003218      0.003929"
      ]
     },
     "execution_count": 36,
     "metadata": {},
     "output_type": "execute_result"
    }
   ],
   "source": [
    "data_itog"
   ]
  },
  {
   "cell_type": "markdown",
   "metadata": {},
   "source": [
    "# Вывод:\n",
    "- Были загружены данные. В качестве индекса был выбран столбец с датой и отфильтрован по возрастанию. Данные были ресамплированы по часам;\n",
    "- Полученные данные были проанализированы. График тренда показывает возрастающую зависимость к августу. Это обусловлено ростом отпусков у людей летом. График сезонности показал, что наибольшая активность людей происходит под вечер-ночь.График остатка декомпозиции особо ничего не показывает\n",
    "- В таблицу были добавлены новые признаки и обучены на 3х моделей : LightGBM, CatBoost, LinearRegression. Наилучший результат показала Linear модель с RMSE равной 32.341694.\n"
   ]
  }
 ],
 "metadata": {
  "ExecuteTimeLog": [
   {
    "duration": 48,
    "start_time": "2024-05-21T18:41:08.626Z"
   },
   {
    "duration": 5,
    "start_time": "2024-05-21T18:41:09.023Z"
   },
   {
    "duration": 1667,
    "start_time": "2024-05-21T18:41:11.379Z"
   },
   {
    "duration": 96,
    "start_time": "2024-05-21T18:41:13.047Z"
   },
   {
    "duration": 10,
    "start_time": "2024-05-21T18:41:13.189Z"
   },
   {
    "duration": 9,
    "start_time": "2024-05-21T18:41:19.714Z"
   },
   {
    "duration": 8,
    "start_time": "2024-05-21T18:41:43.086Z"
   },
   {
    "duration": 17,
    "start_time": "2024-05-21T18:41:53.549Z"
   },
   {
    "duration": 10,
    "start_time": "2024-05-21T18:42:06.787Z"
   },
   {
    "duration": 7,
    "start_time": "2024-05-21T18:42:16.317Z"
   },
   {
    "duration": 7,
    "start_time": "2024-05-21T18:42:18.134Z"
   },
   {
    "duration": 6,
    "start_time": "2024-05-21T18:42:22.418Z"
   },
   {
    "duration": 58,
    "start_time": "2024-05-21T18:42:42.850Z"
   },
   {
    "duration": 10,
    "start_time": "2024-05-21T18:42:44.699Z"
   },
   {
    "duration": 2,
    "start_time": "2024-05-21T18:43:03.886Z"
   },
   {
    "duration": 53,
    "start_time": "2024-05-21T18:43:09.546Z"
   },
   {
    "duration": 7,
    "start_time": "2024-05-21T18:43:14.707Z"
   },
   {
    "duration": 2,
    "start_time": "2024-05-21T18:43:18.958Z"
   },
   {
    "duration": 4,
    "start_time": "2024-05-21T18:43:24.659Z"
   },
   {
    "duration": 53,
    "start_time": "2024-05-21T18:43:49.272Z"
   },
   {
    "duration": 808,
    "start_time": "2024-05-21T18:43:49.330Z"
   },
   {
    "duration": 305,
    "start_time": "2024-05-21T18:44:42.341Z"
   },
   {
    "duration": 6,
    "start_time": "2024-05-21T18:45:16.289Z"
   },
   {
    "duration": 825,
    "start_time": "2024-05-21T18:45:20.987Z"
   },
   {
    "duration": 182,
    "start_time": "2024-05-21T18:45:54.199Z"
   },
   {
    "duration": 178,
    "start_time": "2024-05-21T18:46:08.486Z"
   },
   {
    "duration": 55,
    "start_time": "2024-05-21T18:46:43.797Z"
   },
   {
    "duration": 3,
    "start_time": "2024-05-21T18:46:48.199Z"
   },
   {
    "duration": 15,
    "start_time": "2024-05-21T18:46:58.029Z"
   },
   {
    "duration": 20,
    "start_time": "2024-05-21T18:46:58.209Z"
   },
   {
    "duration": 8,
    "start_time": "2024-05-21T18:47:13.206Z"
   },
   {
    "duration": 5,
    "start_time": "2024-05-21T18:47:18.727Z"
   },
   {
    "duration": 3,
    "start_time": "2024-05-21T18:47:32.535Z"
   },
   {
    "duration": 4,
    "start_time": "2024-05-21T18:47:36.739Z"
   },
   {
    "duration": 3,
    "start_time": "2024-05-21T18:47:41.766Z"
   },
   {
    "duration": 3,
    "start_time": "2024-05-21T18:47:46.277Z"
   },
   {
    "duration": 13,
    "start_time": "2024-05-21T18:48:34.009Z"
   },
   {
    "duration": 3034,
    "start_time": "2024-05-21T18:49:02.556Z"
   },
   {
    "duration": 9331,
    "start_time": "2024-05-21T18:49:36.985Z"
   },
   {
    "duration": 3,
    "start_time": "2024-05-21T18:50:27.868Z"
   },
   {
    "duration": 9,
    "start_time": "2024-05-21T18:50:32.768Z"
   },
   {
    "duration": 8,
    "start_time": "2024-05-21T18:51:54.816Z"
   },
   {
    "duration": 83,
    "start_time": "2024-05-21T18:52:07.929Z"
   },
   {
    "duration": 5,
    "start_time": "2024-05-21T18:52:26.092Z"
   },
   {
    "duration": 4,
    "start_time": "2024-05-21T18:52:32.629Z"
   },
   {
    "duration": 8,
    "start_time": "2024-05-21T18:52:32.824Z"
   },
   {
    "duration": 6,
    "start_time": "2024-05-21T18:53:01.323Z"
   },
   {
    "duration": 22,
    "start_time": "2024-05-21T18:53:10.199Z"
   },
   {
    "duration": 10,
    "start_time": "2024-05-21T18:53:12.479Z"
   },
   {
    "duration": 3,
    "start_time": "2024-05-21T18:53:26.486Z"
   },
   {
    "duration": 7,
    "start_time": "2024-05-21T18:53:30.427Z"
   },
   {
    "duration": 11,
    "start_time": "2024-05-21T18:54:51.478Z"
   },
   {
    "duration": 18,
    "start_time": "2024-05-21T18:54:52.787Z"
   },
   {
    "duration": 10,
    "start_time": "2024-05-21T18:54:53.104Z"
   },
   {
    "duration": 5,
    "start_time": "2024-05-21T18:54:53.277Z"
   },
   {
    "duration": 4,
    "start_time": "2024-05-21T18:54:53.458Z"
   },
   {
    "duration": 4,
    "start_time": "2024-05-21T18:54:53.624Z"
   },
   {
    "duration": 4,
    "start_time": "2024-05-21T18:54:53.746Z"
   },
   {
    "duration": 5,
    "start_time": "2024-05-21T18:54:53.940Z"
   },
   {
    "duration": 17,
    "start_time": "2024-05-21T18:54:54.226Z"
   },
   {
    "duration": 3400,
    "start_time": "2024-05-21T18:54:57.067Z"
   },
   {
    "duration": 237559,
    "start_time": "2024-05-21T18:55:00.757Z"
   },
   {
    "duration": 4,
    "start_time": "2024-05-21T18:58:58.318Z"
   },
   {
    "duration": 95,
    "start_time": "2024-05-21T18:58:58.323Z"
   },
   {
    "duration": 5,
    "start_time": "2024-05-21T19:01:01.577Z"
   },
   {
    "duration": 25,
    "start_time": "2024-05-21T19:01:02.328Z"
   },
   {
    "duration": 4,
    "start_time": "2024-05-21T19:01:04.235Z"
   },
   {
    "duration": 6,
    "start_time": "2024-05-21T19:01:04.528Z"
   },
   {
    "duration": 18,
    "start_time": "2024-05-21T19:01:04.800Z"
   },
   {
    "duration": 1373,
    "start_time": "2024-05-21T19:02:45.757Z"
   },
   {
    "duration": 49,
    "start_time": "2024-05-21T19:02:47.132Z"
   },
   {
    "duration": 10,
    "start_time": "2024-05-21T19:02:47.182Z"
   },
   {
    "duration": 13,
    "start_time": "2024-05-21T19:02:47.194Z"
   },
   {
    "duration": 8,
    "start_time": "2024-05-21T19:02:47.209Z"
   },
   {
    "duration": 11,
    "start_time": "2024-05-21T19:02:47.218Z"
   },
   {
    "duration": 10,
    "start_time": "2024-05-21T19:02:47.230Z"
   },
   {
    "duration": 8,
    "start_time": "2024-05-21T19:02:47.241Z"
   },
   {
    "duration": 7,
    "start_time": "2024-05-21T19:02:47.250Z"
   },
   {
    "duration": 2,
    "start_time": "2024-05-21T19:02:47.258Z"
   },
   {
    "duration": 6,
    "start_time": "2024-05-21T19:02:47.262Z"
   },
   {
    "duration": 837,
    "start_time": "2024-05-21T19:02:47.269Z"
   },
   {
    "duration": 304,
    "start_time": "2024-05-21T19:02:48.108Z"
   },
   {
    "duration": 6,
    "start_time": "2024-05-21T19:02:48.414Z"
   },
   {
    "duration": 872,
    "start_time": "2024-05-21T19:02:48.422Z"
   },
   {
    "duration": 193,
    "start_time": "2024-05-21T19:02:49.295Z"
   },
   {
    "duration": 189,
    "start_time": "2024-05-21T19:02:49.490Z"
   },
   {
    "duration": 7,
    "start_time": "2024-05-21T19:03:30.189Z"
   },
   {
    "duration": 3,
    "start_time": "2024-05-21T19:03:32.877Z"
   },
   {
    "duration": 8,
    "start_time": "2024-05-21T19:03:33.429Z"
   },
   {
    "duration": 10,
    "start_time": "2024-05-21T19:03:33.758Z"
   },
   {
    "duration": 9,
    "start_time": "2024-05-21T19:03:45.870Z"
   },
   {
    "duration": 13,
    "start_time": "2024-05-21T19:03:46.331Z"
   },
   {
    "duration": 7,
    "start_time": "2024-05-21T19:03:50.368Z"
   },
   {
    "duration": 13,
    "start_time": "2024-05-21T19:03:50.636Z"
   },
   {
    "duration": 7,
    "start_time": "2024-05-21T19:03:53.940Z"
   },
   {
    "duration": 14,
    "start_time": "2024-05-21T19:03:54.168Z"
   },
   {
    "duration": 4,
    "start_time": "2024-05-21T19:03:59.728Z"
   },
   {
    "duration": 7,
    "start_time": "2024-05-21T19:03:59.919Z"
   },
   {
    "duration": 13,
    "start_time": "2024-05-21T19:04:00.199Z"
   },
   {
    "duration": 8,
    "start_time": "2024-05-21T19:04:01.770Z"
   },
   {
    "duration": 6,
    "start_time": "2024-05-21T19:04:02.150Z"
   },
   {
    "duration": 4,
    "start_time": "2024-05-21T19:04:02.738Z"
   },
   {
    "duration": 3,
    "start_time": "2024-05-21T19:04:02.949Z"
   },
   {
    "duration": 3,
    "start_time": "2024-05-21T19:04:03.090Z"
   },
   {
    "duration": 3,
    "start_time": "2024-05-21T19:04:03.230Z"
   },
   {
    "duration": 20,
    "start_time": "2024-05-21T19:04:03.566Z"
   },
   {
    "duration": 1556,
    "start_time": "2024-05-21T19:04:04.678Z"
   },
   {
    "duration": 7581,
    "start_time": "2024-05-21T19:04:06.235Z"
   },
   {
    "duration": 3,
    "start_time": "2024-05-21T19:04:13.818Z"
   },
   {
    "duration": 9,
    "start_time": "2024-05-21T19:04:13.911Z"
   },
   {
    "duration": 13,
    "start_time": "2024-05-21T19:12:47.968Z"
   },
   {
    "duration": 4,
    "start_time": "2024-05-21T19:12:50.487Z"
   },
   {
    "duration": 7,
    "start_time": "2024-05-21T19:12:50.968Z"
   },
   {
    "duration": 4,
    "start_time": "2024-05-21T19:19:34.516Z"
   },
   {
    "duration": 6,
    "start_time": "2024-05-21T19:19:34.736Z"
   },
   {
    "duration": 12,
    "start_time": "2024-05-21T19:19:35.077Z"
   },
   {
    "duration": 9,
    "start_time": "2024-05-21T19:19:37.086Z"
   },
   {
    "duration": 5,
    "start_time": "2024-05-21T19:19:37.338Z"
   },
   {
    "duration": 4,
    "start_time": "2024-05-21T19:19:37.562Z"
   },
   {
    "duration": 4,
    "start_time": "2024-05-21T19:19:37.726Z"
   },
   {
    "duration": 4,
    "start_time": "2024-05-21T19:19:37.925Z"
   },
   {
    "duration": 4,
    "start_time": "2024-05-21T19:19:38.105Z"
   },
   {
    "duration": 9,
    "start_time": "2024-05-21T19:19:39.138Z"
   },
   {
    "duration": 1711,
    "start_time": "2024-05-21T19:19:39.566Z"
   },
   {
    "duration": 8045,
    "start_time": "2024-05-21T19:19:41.278Z"
   },
   {
    "duration": 4,
    "start_time": "2024-05-21T19:19:49.325Z"
   },
   {
    "duration": 84,
    "start_time": "2024-05-21T19:19:49.330Z"
   },
   {
    "duration": 7,
    "start_time": "2024-05-21T19:21:39.336Z"
   },
   {
    "duration": 19,
    "start_time": "2024-05-21T19:21:48.095Z"
   },
   {
    "duration": 13,
    "start_time": "2024-05-21T19:21:51.047Z"
   },
   {
    "duration": 12,
    "start_time": "2024-05-21T19:21:52.317Z"
   },
   {
    "duration": 6,
    "start_time": "2024-05-21T19:22:07.622Z"
   },
   {
    "duration": 6,
    "start_time": "2024-05-21T19:22:32.456Z"
   },
   {
    "duration": 4,
    "start_time": "2024-05-21T19:22:41.336Z"
   },
   {
    "duration": 8,
    "start_time": "2024-05-21T19:22:41.594Z"
   },
   {
    "duration": 4,
    "start_time": "2024-05-21T19:25:22.578Z"
   },
   {
    "duration": 14,
    "start_time": "2024-05-21T19:25:22.786Z"
   },
   {
    "duration": 19,
    "start_time": "2024-05-21T19:25:23.046Z"
   },
   {
    "duration": 6,
    "start_time": "2024-05-21T19:25:31.407Z"
   },
   {
    "duration": 17,
    "start_time": "2024-05-21T19:25:32.162Z"
   },
   {
    "duration": 4,
    "start_time": "2024-05-21T19:25:35.726Z"
   },
   {
    "duration": 7,
    "start_time": "2024-05-21T19:25:35.896Z"
   },
   {
    "duration": 19,
    "start_time": "2024-05-21T19:25:36.048Z"
   },
   {
    "duration": 9,
    "start_time": "2024-05-21T19:25:51.675Z"
   },
   {
    "duration": 44,
    "start_time": "2024-05-21T19:25:51.686Z"
   },
   {
    "duration": 0,
    "start_time": "2024-05-21T19:25:51.731Z"
   },
   {
    "duration": 6,
    "start_time": "2024-05-21T19:25:51.927Z"
   },
   {
    "duration": 4,
    "start_time": "2024-05-21T19:25:57.446Z"
   },
   {
    "duration": 7,
    "start_time": "2024-05-21T19:25:57.697Z"
   },
   {
    "duration": 4,
    "start_time": "2024-05-21T19:26:04.396Z"
   },
   {
    "duration": 5,
    "start_time": "2024-05-21T19:26:05.268Z"
   },
   {
    "duration": 5,
    "start_time": "2024-05-21T19:26:36.296Z"
   },
   {
    "duration": 1386,
    "start_time": "2024-05-21T19:26:43.846Z"
   },
   {
    "duration": 47,
    "start_time": "2024-05-21T19:26:45.234Z"
   },
   {
    "duration": 9,
    "start_time": "2024-05-21T19:26:45.283Z"
   },
   {
    "duration": 9,
    "start_time": "2024-05-21T19:26:45.293Z"
   },
   {
    "duration": 9,
    "start_time": "2024-05-21T19:26:45.303Z"
   },
   {
    "duration": 5,
    "start_time": "2024-05-21T19:26:45.314Z"
   },
   {
    "duration": 14,
    "start_time": "2024-05-21T19:26:45.320Z"
   },
   {
    "duration": 2,
    "start_time": "2024-05-21T19:26:45.336Z"
   },
   {
    "duration": 5,
    "start_time": "2024-05-21T19:26:45.340Z"
   },
   {
    "duration": 6,
    "start_time": "2024-05-21T19:26:45.346Z"
   },
   {
    "duration": 8,
    "start_time": "2024-05-21T19:26:45.353Z"
   },
   {
    "duration": 820,
    "start_time": "2024-05-21T19:26:45.362Z"
   },
   {
    "duration": 306,
    "start_time": "2024-05-21T19:26:46.183Z"
   },
   {
    "duration": 7,
    "start_time": "2024-05-21T19:26:46.491Z"
   },
   {
    "duration": 864,
    "start_time": "2024-05-21T19:26:46.499Z"
   },
   {
    "duration": 194,
    "start_time": "2024-05-21T19:26:47.364Z"
   },
   {
    "duration": 193,
    "start_time": "2024-05-21T19:26:47.559Z"
   },
   {
    "duration": 4,
    "start_time": "2024-05-21T19:26:47.753Z"
   },
   {
    "duration": 16,
    "start_time": "2024-05-21T19:26:47.758Z"
   },
   {
    "duration": 6,
    "start_time": "2024-05-21T19:26:50.417Z"
   },
   {
    "duration": 14,
    "start_time": "2024-05-21T19:26:50.909Z"
   },
   {
    "duration": 8,
    "start_time": "2024-05-21T19:26:53.356Z"
   },
   {
    "duration": 5,
    "start_time": "2024-05-21T19:26:54.625Z"
   },
   {
    "duration": 3,
    "start_time": "2024-05-21T19:26:54.907Z"
   },
   {
    "duration": 3,
    "start_time": "2024-05-21T19:26:55.295Z"
   },
   {
    "duration": 3,
    "start_time": "2024-05-21T19:26:55.597Z"
   },
   {
    "duration": 3,
    "start_time": "2024-05-21T19:26:56.555Z"
   },
   {
    "duration": 11,
    "start_time": "2024-05-21T19:29:09.207Z"
   },
   {
    "duration": 126,
    "start_time": "2024-05-21T19:30:21.006Z"
   },
   {
    "duration": 8,
    "start_time": "2024-05-21T19:30:24.795Z"
   },
   {
    "duration": 9,
    "start_time": "2024-05-21T19:31:10.835Z"
   },
   {
    "duration": 3,
    "start_time": "2024-05-21T19:31:20.656Z"
   },
   {
    "duration": 9,
    "start_time": "2024-05-21T19:31:26.437Z"
   },
   {
    "duration": 3,
    "start_time": "2024-05-21T19:31:43.257Z"
   },
   {
    "duration": 3,
    "start_time": "2024-05-21T19:31:43.543Z"
   },
   {
    "duration": 8,
    "start_time": "2024-05-21T19:31:44.077Z"
   },
   {
    "duration": 1964,
    "start_time": "2024-05-21T19:32:58.269Z"
   },
   {
    "duration": 8,
    "start_time": "2024-05-21T19:33:10.627Z"
   },
   {
    "duration": 4,
    "start_time": "2024-05-21T19:33:28.667Z"
   },
   {
    "duration": 11,
    "start_time": "2024-05-21T19:33:34.186Z"
   },
   {
    "duration": 9,
    "start_time": "2024-05-21T19:33:53.517Z"
   },
   {
    "duration": 3,
    "start_time": "2024-05-21T19:34:35.725Z"
   },
   {
    "duration": 8,
    "start_time": "2024-05-21T19:34:36.361Z"
   },
   {
    "duration": 8,
    "start_time": "2024-05-21T19:34:57.165Z"
   },
   {
    "duration": 1371,
    "start_time": "2024-05-21T19:35:06.946Z"
   },
   {
    "duration": 47,
    "start_time": "2024-05-21T19:35:08.319Z"
   },
   {
    "duration": 8,
    "start_time": "2024-05-21T19:35:08.368Z"
   },
   {
    "duration": 10,
    "start_time": "2024-05-21T19:35:08.378Z"
   },
   {
    "duration": 9,
    "start_time": "2024-05-21T19:35:08.390Z"
   },
   {
    "duration": 5,
    "start_time": "2024-05-21T19:35:08.401Z"
   },
   {
    "duration": 9,
    "start_time": "2024-05-21T19:35:08.411Z"
   },
   {
    "duration": 7,
    "start_time": "2024-05-21T19:35:08.421Z"
   },
   {
    "duration": 12,
    "start_time": "2024-05-21T19:35:08.429Z"
   },
   {
    "duration": 7,
    "start_time": "2024-05-21T19:35:08.442Z"
   },
   {
    "duration": 4,
    "start_time": "2024-05-21T19:35:08.450Z"
   },
   {
    "duration": 798,
    "start_time": "2024-05-21T19:35:08.456Z"
   },
   {
    "duration": 305,
    "start_time": "2024-05-21T19:35:09.255Z"
   },
   {
    "duration": 7,
    "start_time": "2024-05-21T19:35:09.562Z"
   },
   {
    "duration": 8284,
    "start_time": "2024-05-21T19:35:13.033Z"
   },
   {
    "duration": 5,
    "start_time": "2024-05-21T19:35:21.319Z"
   },
   {
    "duration": 13,
    "start_time": "2024-05-21T19:35:21.326Z"
   },
   {
    "duration": 171,
    "start_time": "2024-05-21T19:35:21.340Z"
   },
   {
    "duration": 767,
    "start_time": "2024-05-21T19:37:27.554Z"
   },
   {
    "duration": 1430,
    "start_time": "2024-05-21T19:37:36.587Z"
   },
   {
    "duration": 50,
    "start_time": "2024-05-21T19:37:39.085Z"
   },
   {
    "duration": 10,
    "start_time": "2024-05-21T19:37:39.237Z"
   },
   {
    "duration": 10,
    "start_time": "2024-05-21T19:37:39.387Z"
   },
   {
    "duration": 10,
    "start_time": "2024-05-21T19:37:39.554Z"
   },
   {
    "duration": 6,
    "start_time": "2024-05-21T19:37:39.707Z"
   },
   {
    "duration": 8,
    "start_time": "2024-05-21T19:37:40.053Z"
   },
   {
    "duration": 3,
    "start_time": "2024-05-21T19:37:40.555Z"
   },
   {
    "duration": 5,
    "start_time": "2024-05-21T19:37:40.726Z"
   },
   {
    "duration": 3,
    "start_time": "2024-05-21T19:37:40.883Z"
   },
   {
    "duration": 4,
    "start_time": "2024-05-21T19:37:41.015Z"
   },
   {
    "duration": 781,
    "start_time": "2024-05-21T19:37:41.345Z"
   },
   {
    "duration": 305,
    "start_time": "2024-05-21T19:37:42.128Z"
   },
   {
    "duration": 6,
    "start_time": "2024-05-21T19:37:42.435Z"
   },
   {
    "duration": 860,
    "start_time": "2024-05-21T19:37:42.443Z"
   },
   {
    "duration": 185,
    "start_time": "2024-05-21T19:37:43.311Z"
   },
   {
    "duration": 219,
    "start_time": "2024-05-21T19:37:43.499Z"
   },
   {
    "duration": 3,
    "start_time": "2024-05-21T19:37:43.720Z"
   },
   {
    "duration": 12,
    "start_time": "2024-05-21T19:37:43.847Z"
   },
   {
    "duration": 14,
    "start_time": "2024-05-21T19:37:44.453Z"
   },
   {
    "duration": 7,
    "start_time": "2024-05-21T19:37:44.652Z"
   },
   {
    "duration": 6,
    "start_time": "2024-05-21T19:37:44.843Z"
   },
   {
    "duration": 4,
    "start_time": "2024-05-21T19:37:45.027Z"
   },
   {
    "duration": 3,
    "start_time": "2024-05-21T19:37:45.225Z"
   },
   {
    "duration": 3,
    "start_time": "2024-05-21T19:37:45.397Z"
   },
   {
    "duration": 3,
    "start_time": "2024-05-21T19:37:45.583Z"
   },
   {
    "duration": 9,
    "start_time": "2024-05-21T19:37:45.995Z"
   },
   {
    "duration": 1967,
    "start_time": "2024-05-21T19:37:46.480Z"
   },
   {
    "duration": 7765,
    "start_time": "2024-05-21T19:37:48.449Z"
   },
   {
    "duration": 4,
    "start_time": "2024-05-21T19:37:56.218Z"
   },
   {
    "duration": 11,
    "start_time": "2024-05-21T19:37:56.223Z"
   },
   {
    "duration": 9299,
    "start_time": "2024-05-21T19:38:17.225Z"
   },
   {
    "duration": 4,
    "start_time": "2024-05-21T19:38:26.611Z"
   },
   {
    "duration": 13,
    "start_time": "2024-05-21T19:38:26.617Z"
   },
   {
    "duration": 12306,
    "start_time": "2024-05-21T19:39:18.915Z"
   },
   {
    "duration": 5,
    "start_time": "2024-05-21T19:39:31.223Z"
   },
   {
    "duration": 116,
    "start_time": "2024-05-21T19:39:31.229Z"
   },
   {
    "duration": 1200,
    "start_time": "2024-05-21T19:40:16.817Z"
   },
   {
    "duration": 4,
    "start_time": "2024-05-21T19:40:22.411Z"
   },
   {
    "duration": 8,
    "start_time": "2024-05-21T19:40:23.225Z"
   },
   {
    "duration": 8521,
    "start_time": "2024-05-21T19:40:39.395Z"
   },
   {
    "duration": 93,
    "start_time": "2024-05-21T19:40:47.920Z"
   },
   {
    "duration": 8,
    "start_time": "2024-05-21T19:40:50.587Z"
   },
   {
    "duration": 1608,
    "start_time": "2024-05-21T19:40:58.407Z"
   },
   {
    "duration": 8268,
    "start_time": "2024-05-21T19:41:05.449Z"
   },
   {
    "duration": 4,
    "start_time": "2024-05-21T19:41:13.719Z"
   },
   {
    "duration": 8,
    "start_time": "2024-05-21T19:41:13.811Z"
   },
   {
    "duration": 2208,
    "start_time": "2024-05-21T19:41:19.445Z"
   },
   {
    "duration": 8860,
    "start_time": "2024-05-21T19:41:21.655Z"
   },
   {
    "duration": 4,
    "start_time": "2024-05-21T19:41:30.516Z"
   },
   {
    "duration": 41,
    "start_time": "2024-05-21T19:41:30.521Z"
   },
   {
    "duration": 6,
    "start_time": "2024-05-21T19:41:48.307Z"
   },
   {
    "duration": 6,
    "start_time": "2024-05-21T19:41:48.556Z"
   },
   {
    "duration": 13,
    "start_time": "2024-05-21T19:41:48.867Z"
   },
   {
    "duration": 8,
    "start_time": "2024-05-21T19:41:49.305Z"
   },
   {
    "duration": 1414,
    "start_time": "2024-05-21T19:41:57.943Z"
   },
   {
    "duration": 48,
    "start_time": "2024-05-21T19:41:59.358Z"
   },
   {
    "duration": 10,
    "start_time": "2024-05-21T19:41:59.408Z"
   },
   {
    "duration": 11,
    "start_time": "2024-05-21T19:41:59.420Z"
   },
   {
    "duration": 10,
    "start_time": "2024-05-21T19:41:59.434Z"
   },
   {
    "duration": 5,
    "start_time": "2024-05-21T19:41:59.445Z"
   },
   {
    "duration": 10,
    "start_time": "2024-05-21T19:41:59.451Z"
   },
   {
    "duration": 3,
    "start_time": "2024-05-21T19:41:59.462Z"
   },
   {
    "duration": 46,
    "start_time": "2024-05-21T19:41:59.466Z"
   },
   {
    "duration": 3,
    "start_time": "2024-05-21T19:41:59.513Z"
   },
   {
    "duration": 6,
    "start_time": "2024-05-21T19:41:59.517Z"
   },
   {
    "duration": 810,
    "start_time": "2024-05-21T19:41:59.524Z"
   },
   {
    "duration": 303,
    "start_time": "2024-05-21T19:42:00.335Z"
   },
   {
    "duration": 6,
    "start_time": "2024-05-21T19:42:00.640Z"
   },
   {
    "duration": 872,
    "start_time": "2024-05-21T19:42:00.647Z"
   },
   {
    "duration": 199,
    "start_time": "2024-05-21T19:42:01.520Z"
   },
   {
    "duration": 192,
    "start_time": "2024-05-21T19:42:01.720Z"
   },
   {
    "duration": 4,
    "start_time": "2024-05-21T19:42:01.913Z"
   },
   {
    "duration": 27,
    "start_time": "2024-05-21T19:42:01.918Z"
   },
   {
    "duration": 35,
    "start_time": "2024-05-21T19:42:01.946Z"
   },
   {
    "duration": 12,
    "start_time": "2024-05-21T19:42:04.174Z"
   },
   {
    "duration": 7,
    "start_time": "2024-05-21T19:42:04.975Z"
   },
   {
    "duration": 5,
    "start_time": "2024-05-21T19:42:05.315Z"
   },
   {
    "duration": 4,
    "start_time": "2024-05-21T19:42:05.536Z"
   },
   {
    "duration": 3,
    "start_time": "2024-05-21T19:42:05.855Z"
   },
   {
    "duration": 3,
    "start_time": "2024-05-21T19:42:06.103Z"
   },
   {
    "duration": 3,
    "start_time": "2024-05-21T19:42:06.254Z"
   },
   {
    "duration": 9,
    "start_time": "2024-05-21T19:42:06.574Z"
   },
   {
    "duration": 1686,
    "start_time": "2024-05-21T19:42:07.875Z"
   },
   {
    "duration": 1380,
    "start_time": "2024-05-21T19:46:26.146Z"
   },
   {
    "duration": 47,
    "start_time": "2024-05-21T19:46:27.528Z"
   },
   {
    "duration": 11,
    "start_time": "2024-05-21T19:46:27.576Z"
   },
   {
    "duration": 9,
    "start_time": "2024-05-21T19:46:27.588Z"
   },
   {
    "duration": 9,
    "start_time": "2024-05-21T19:46:27.599Z"
   },
   {
    "duration": 6,
    "start_time": "2024-05-21T19:46:27.609Z"
   },
   {
    "duration": 8,
    "start_time": "2024-05-21T19:46:27.616Z"
   },
   {
    "duration": 18,
    "start_time": "2024-05-21T19:46:27.626Z"
   },
   {
    "duration": 5,
    "start_time": "2024-05-21T19:46:27.645Z"
   },
   {
    "duration": 2,
    "start_time": "2024-05-21T19:46:27.652Z"
   },
   {
    "duration": 5,
    "start_time": "2024-05-21T19:46:27.656Z"
   },
   {
    "duration": 820,
    "start_time": "2024-05-21T19:46:27.662Z"
   },
   {
    "duration": 301,
    "start_time": "2024-05-21T19:46:28.483Z"
   },
   {
    "duration": 7,
    "start_time": "2024-05-21T19:46:28.787Z"
   },
   {
    "duration": 870,
    "start_time": "2024-05-21T19:46:28.795Z"
   },
   {
    "duration": 205,
    "start_time": "2024-05-21T19:46:29.667Z"
   },
   {
    "duration": 190,
    "start_time": "2024-05-21T19:46:29.874Z"
   },
   {
    "duration": 5,
    "start_time": "2024-05-21T19:46:30.066Z"
   },
   {
    "duration": 48,
    "start_time": "2024-05-21T19:46:30.072Z"
   },
   {
    "duration": 37,
    "start_time": "2024-05-21T19:46:30.121Z"
   },
   {
    "duration": 33,
    "start_time": "2024-05-21T19:46:30.159Z"
   },
   {
    "duration": 39,
    "start_time": "2024-05-21T19:46:30.193Z"
   },
   {
    "duration": 68,
    "start_time": "2024-05-21T19:46:30.233Z"
   },
   {
    "duration": 63,
    "start_time": "2024-05-21T19:46:30.302Z"
   },
   {
    "duration": 79,
    "start_time": "2024-05-21T19:46:30.366Z"
   },
   {
    "duration": 56,
    "start_time": "2024-05-21T19:46:30.447Z"
   },
   {
    "duration": 78,
    "start_time": "2024-05-21T19:46:30.504Z"
   },
   {
    "duration": 1797,
    "start_time": "2024-05-21T19:46:30.583Z"
   },
   {
    "duration": 29065,
    "start_time": "2024-05-21T19:46:34.255Z"
   },
   {
    "duration": 4,
    "start_time": "2024-05-21T19:47:03.412Z"
   },
   {
    "duration": 14,
    "start_time": "2024-05-21T19:47:03.418Z"
   },
   {
    "duration": 7,
    "start_time": "2024-05-21T19:47:52.262Z"
   },
   {
    "duration": 4,
    "start_time": "2024-05-21T19:47:53.524Z"
   },
   {
    "duration": 8,
    "start_time": "2024-05-21T19:47:53.904Z"
   },
   {
    "duration": 8,
    "start_time": "2024-05-21T19:48:10.722Z"
   },
   {
    "duration": 1612,
    "start_time": "2024-05-21T19:48:22.366Z"
   },
   {
    "duration": 1420,
    "start_time": "2024-05-21T19:48:37.425Z"
   },
   {
    "duration": 1589,
    "start_time": "2024-05-21T19:48:46.457Z"
   },
   {
    "duration": 1948,
    "start_time": "2024-05-21T19:48:57.243Z"
   },
   {
    "duration": 1563,
    "start_time": "2024-05-21T19:49:09.456Z"
   },
   {
    "duration": 8346,
    "start_time": "2024-05-21T19:49:19.374Z"
   },
   {
    "duration": 5729,
    "start_time": "2024-05-21T19:50:37.586Z"
   },
   {
    "duration": 5799,
    "start_time": "2024-05-21T19:51:21.824Z"
   },
   {
    "duration": 3,
    "start_time": "2024-05-21T19:51:28.825Z"
   },
   {
    "duration": 9,
    "start_time": "2024-05-21T19:51:29.312Z"
   },
   {
    "duration": 90,
    "start_time": "2024-05-21T19:51:50.622Z"
   },
   {
    "duration": 3,
    "start_time": "2024-05-21T19:51:52.092Z"
   },
   {
    "duration": 7,
    "start_time": "2024-05-21T19:51:52.706Z"
   },
   {
    "duration": 3,
    "start_time": "2024-05-21T19:55:48.555Z"
   },
   {
    "duration": 113,
    "start_time": "2024-05-21T19:55:48.875Z"
   },
   {
    "duration": 0,
    "start_time": "2024-05-21T19:55:48.989Z"
   },
   {
    "duration": 3,
    "start_time": "2024-05-21T19:56:13.377Z"
   },
   {
    "duration": 3,
    "start_time": "2024-05-21T19:56:17.833Z"
   },
   {
    "duration": 2,
    "start_time": "2024-05-21T19:56:18.147Z"
   },
   {
    "duration": 9,
    "start_time": "2024-05-21T19:58:01.213Z"
   },
   {
    "duration": 9,
    "start_time": "2024-05-21T19:58:02.414Z"
   },
   {
    "duration": 8,
    "start_time": "2024-05-21T19:58:07.094Z"
   },
   {
    "duration": 11,
    "start_time": "2024-05-21T19:58:14.316Z"
   },
   {
    "duration": 10,
    "start_time": "2024-05-21T19:58:29.834Z"
   },
   {
    "duration": 9,
    "start_time": "2024-05-21T19:58:40.263Z"
   },
   {
    "duration": 3,
    "start_time": "2024-05-21T19:58:42.634Z"
   },
   {
    "duration": 9,
    "start_time": "2024-05-21T19:58:42.884Z"
   },
   {
    "duration": 10,
    "start_time": "2024-05-21T20:00:19.354Z"
   },
   {
    "duration": 3,
    "start_time": "2024-05-21T20:00:27.678Z"
   },
   {
    "duration": 582038,
    "start_time": "2024-05-21T20:00:31.582Z"
   },
   {
    "duration": 25,
    "start_time": "2024-05-21T20:13:26.664Z"
   },
   {
    "duration": 4,
    "start_time": "2024-05-21T20:15:48.826Z"
   },
   {
    "duration": 3072,
    "start_time": "2024-05-21T20:16:02.741Z"
   },
   {
    "duration": 2268,
    "start_time": "2024-05-21T20:16:25.544Z"
   },
   {
    "duration": 2136,
    "start_time": "2024-05-21T20:17:39.984Z"
   },
   {
    "duration": 5,
    "start_time": "2024-05-21T20:17:42.216Z"
   },
   {
    "duration": 8,
    "start_time": "2024-05-21T20:17:44.203Z"
   },
   {
    "duration": 7,
    "start_time": "2024-05-21T20:18:39.041Z"
   },
   {
    "duration": 6,
    "start_time": "2024-05-21T20:18:52.993Z"
   },
   {
    "duration": 4,
    "start_time": "2024-05-21T20:19:05.012Z"
   },
   {
    "duration": 4,
    "start_time": "2024-05-21T20:19:12.874Z"
   },
   {
    "duration": 7,
    "start_time": "2024-05-21T20:19:14.035Z"
   },
   {
    "duration": 4,
    "start_time": "2024-05-21T20:19:45.943Z"
   },
   {
    "duration": 7,
    "start_time": "2024-05-21T20:19:47.523Z"
   },
   {
    "duration": 1545,
    "start_time": "2024-05-22T17:37:40.109Z"
   },
   {
    "duration": 169,
    "start_time": "2024-05-22T17:37:41.656Z"
   },
   {
    "duration": 10,
    "start_time": "2024-05-22T17:37:41.827Z"
   },
   {
    "duration": 10,
    "start_time": "2024-05-22T17:37:41.838Z"
   },
   {
    "duration": 9,
    "start_time": "2024-05-22T17:37:41.849Z"
   },
   {
    "duration": 6,
    "start_time": "2024-05-22T17:37:41.859Z"
   },
   {
    "duration": 9,
    "start_time": "2024-05-22T17:37:41.866Z"
   },
   {
    "duration": 1357,
    "start_time": "2024-05-22T17:37:54.445Z"
   },
   {
    "duration": 47,
    "start_time": "2024-05-22T17:37:55.804Z"
   },
   {
    "duration": 11,
    "start_time": "2024-05-22T17:37:55.853Z"
   },
   {
    "duration": 8,
    "start_time": "2024-05-22T17:37:55.866Z"
   },
   {
    "duration": 8,
    "start_time": "2024-05-22T17:37:55.876Z"
   },
   {
    "duration": 5,
    "start_time": "2024-05-22T17:37:55.885Z"
   },
   {
    "duration": 9,
    "start_time": "2024-05-22T17:37:57.403Z"
   },
   {
    "duration": 3,
    "start_time": "2024-05-22T17:39:25.643Z"
   },
   {
    "duration": 5,
    "start_time": "2024-05-22T17:39:26.126Z"
   },
   {
    "duration": 3,
    "start_time": "2024-05-22T17:39:38.044Z"
   },
   {
    "duration": 5,
    "start_time": "2024-05-22T17:39:49.423Z"
   },
   {
    "duration": 850,
    "start_time": "2024-05-22T17:39:50.353Z"
   },
   {
    "duration": 821,
    "start_time": "2024-05-22T17:42:01.264Z"
   },
   {
    "duration": 734,
    "start_time": "2024-05-22T17:42:12.575Z"
   },
   {
    "duration": 805,
    "start_time": "2024-05-22T17:42:18.243Z"
   },
   {
    "duration": 836,
    "start_time": "2024-05-22T17:42:20.544Z"
   },
   {
    "duration": 745,
    "start_time": "2024-05-22T17:42:26.605Z"
   },
   {
    "duration": 832,
    "start_time": "2024-05-22T17:42:30.391Z"
   },
   {
    "duration": 735,
    "start_time": "2024-05-22T17:42:36.625Z"
   },
   {
    "duration": 59,
    "start_time": "2024-05-22T17:43:07.552Z"
   },
   {
    "duration": 48,
    "start_time": "2024-05-22T17:43:57.856Z"
   },
   {
    "duration": 49,
    "start_time": "2024-05-22T17:44:18.661Z"
   },
   {
    "duration": 241,
    "start_time": "2024-05-22T17:45:16.133Z"
   },
   {
    "duration": 300,
    "start_time": "2024-05-22T17:45:21.514Z"
   },
   {
    "duration": 8,
    "start_time": "2024-05-22T17:45:22.783Z"
   },
   {
    "duration": 844,
    "start_time": "2024-05-22T17:45:23.363Z"
   },
   {
    "duration": 736,
    "start_time": "2024-05-22T17:45:48.992Z"
   },
   {
    "duration": 54,
    "start_time": "2024-05-22T17:46:17.401Z"
   },
   {
    "duration": 778,
    "start_time": "2024-05-22T17:46:23.393Z"
   },
   {
    "duration": 196,
    "start_time": "2024-05-22T17:46:47.503Z"
   },
   {
    "duration": 178,
    "start_time": "2024-05-22T17:47:01.393Z"
   },
   {
    "duration": 171,
    "start_time": "2024-05-22T17:47:11.153Z"
   },
   {
    "duration": 181,
    "start_time": "2024-05-22T17:47:22.170Z"
   },
   {
    "duration": 177,
    "start_time": "2024-05-22T17:47:35.582Z"
   },
   {
    "duration": 182,
    "start_time": "2024-05-22T17:47:38.603Z"
   },
   {
    "duration": 55,
    "start_time": "2024-05-22T17:50:34.072Z"
   },
   {
    "duration": 5,
    "start_time": "2024-05-22T17:50:43.653Z"
   },
   {
    "duration": 5,
    "start_time": "2024-05-22T17:51:08.611Z"
   },
   {
    "duration": 4,
    "start_time": "2024-05-22T17:51:35.311Z"
   },
   {
    "duration": 20,
    "start_time": "2024-05-22T17:52:22.603Z"
   },
   {
    "duration": 25,
    "start_time": "2024-05-22T17:52:25.863Z"
   },
   {
    "duration": 87,
    "start_time": "2024-05-22T17:54:11.662Z"
   },
   {
    "duration": 19,
    "start_time": "2024-05-22T17:54:12.724Z"
   },
   {
    "duration": 20,
    "start_time": "2024-05-22T17:54:14.288Z"
   },
   {
    "duration": 7,
    "start_time": "2024-05-22T17:54:14.522Z"
   },
   {
    "duration": 3,
    "start_time": "2024-05-22T17:54:14.810Z"
   },
   {
    "duration": 4,
    "start_time": "2024-05-22T17:54:15.242Z"
   },
   {
    "duration": 3,
    "start_time": "2024-05-22T17:54:15.542Z"
   },
   {
    "duration": 5,
    "start_time": "2024-05-22T17:54:15.892Z"
   },
   {
    "duration": 422,
    "start_time": "2024-05-22T17:54:18.680Z"
   },
   {
    "duration": 20746,
    "start_time": "2024-05-22T17:54:22.642Z"
   },
   {
    "duration": 8,
    "start_time": "2024-05-22T17:54:51.008Z"
   },
   {
    "duration": 10,
    "start_time": "2024-05-22T17:56:31.940Z"
   },
   {
    "duration": 2,
    "start_time": "2024-05-22T17:56:33.702Z"
   },
   {
    "duration": 867004,
    "start_time": "2024-05-22T17:56:36.414Z"
   },
   {
    "duration": 4,
    "start_time": "2024-05-22T18:11:27.751Z"
   },
   {
    "duration": 10,
    "start_time": "2024-05-22T18:11:28.241Z"
   },
   {
    "duration": 17,
    "start_time": "2024-05-22T18:12:22.772Z"
   },
   {
    "duration": 8,
    "start_time": "2024-05-22T18:12:33.229Z"
   },
   {
    "duration": 9,
    "start_time": "2024-05-22T18:12:47.951Z"
   },
   {
    "duration": 4,
    "start_time": "2024-05-22T18:12:57.381Z"
   },
   {
    "duration": 10,
    "start_time": "2024-05-22T18:12:58.439Z"
   },
   {
    "duration": 1463,
    "start_time": "2024-05-22T18:15:19.084Z"
   },
   {
    "duration": 48,
    "start_time": "2024-05-22T18:15:20.548Z"
   },
   {
    "duration": 10,
    "start_time": "2024-05-22T18:15:20.597Z"
   },
   {
    "duration": 10,
    "start_time": "2024-05-22T18:15:20.608Z"
   },
   {
    "duration": 9,
    "start_time": "2024-05-22T18:15:20.620Z"
   },
   {
    "duration": 6,
    "start_time": "2024-05-22T18:15:20.630Z"
   },
   {
    "duration": 10,
    "start_time": "2024-05-22T18:15:20.638Z"
   },
   {
    "duration": 6,
    "start_time": "2024-05-22T18:15:20.650Z"
   },
   {
    "duration": 5,
    "start_time": "2024-05-22T18:15:20.658Z"
   },
   {
    "duration": 6,
    "start_time": "2024-05-22T18:15:20.664Z"
   },
   {
    "duration": 5,
    "start_time": "2024-05-22T18:15:20.700Z"
   },
   {
    "duration": 869,
    "start_time": "2024-05-22T18:15:20.706Z"
   },
   {
    "duration": 296,
    "start_time": "2024-05-22T18:15:21.576Z"
   },
   {
    "duration": 6,
    "start_time": "2024-05-22T18:15:21.875Z"
   },
   {
    "duration": 853,
    "start_time": "2024-05-22T18:15:21.883Z"
   },
   {
    "duration": 183,
    "start_time": "2024-05-22T18:15:22.737Z"
   },
   {
    "duration": 184,
    "start_time": "2024-05-22T18:15:22.922Z"
   },
   {
    "duration": 4,
    "start_time": "2024-05-22T18:15:23.108Z"
   },
   {
    "duration": 106,
    "start_time": "2024-05-22T18:15:23.113Z"
   },
   {
    "duration": 21,
    "start_time": "2024-05-22T18:15:23.220Z"
   },
   {
    "duration": 20,
    "start_time": "2024-05-22T18:15:23.243Z"
   },
   {
    "duration": 8,
    "start_time": "2024-05-22T18:15:23.264Z"
   },
   {
    "duration": 27,
    "start_time": "2024-05-22T18:15:23.274Z"
   },
   {
    "duration": 6,
    "start_time": "2024-05-22T18:15:23.303Z"
   },
   {
    "duration": 4,
    "start_time": "2024-05-22T18:15:23.310Z"
   },
   {
    "duration": 3,
    "start_time": "2024-05-22T18:15:23.316Z"
   },
   {
    "duration": 280,
    "start_time": "2024-05-22T18:15:23.321Z"
   },
   {
    "duration": 22514,
    "start_time": "2024-05-22T18:15:23.603Z"
   },
   {
    "duration": 832587,
    "start_time": "2024-05-22T18:15:46.119Z"
   },
   {
    "duration": 7,
    "start_time": "2024-05-22T18:29:38.708Z"
   },
   {
    "duration": 9,
    "start_time": "2024-05-22T18:29:38.717Z"
   },
   {
    "duration": 10,
    "start_time": "2024-05-22T18:29:38.728Z"
   },
   {
    "duration": 75,
    "start_time": "2024-05-22T18:29:38.740Z"
   },
   {
    "duration": 91,
    "start_time": "2024-05-22T18:29:38.817Z"
   },
   {
    "duration": 9738,
    "start_time": "2024-05-23T13:21:16.998Z"
   },
   {
    "duration": 92,
    "start_time": "2024-05-23T13:21:26.738Z"
   },
   {
    "duration": 12,
    "start_time": "2024-05-23T13:21:26.831Z"
   },
   {
    "duration": 13,
    "start_time": "2024-05-23T13:21:26.844Z"
   },
   {
    "duration": 11,
    "start_time": "2024-05-23T13:21:26.859Z"
   },
   {
    "duration": 7,
    "start_time": "2024-05-23T13:21:26.871Z"
   },
   {
    "duration": 10,
    "start_time": "2024-05-23T13:21:26.880Z"
   },
   {
    "duration": 5,
    "start_time": "2024-05-23T13:21:26.891Z"
   },
   {
    "duration": 10,
    "start_time": "2024-05-23T13:21:26.897Z"
   },
   {
    "duration": 2,
    "start_time": "2024-05-23T13:21:26.909Z"
   },
   {
    "duration": 6,
    "start_time": "2024-05-23T13:21:26.913Z"
   },
   {
    "duration": 1223,
    "start_time": "2024-05-23T13:21:26.920Z"
   },
   {
    "duration": 571,
    "start_time": "2024-05-23T13:21:28.145Z"
   },
   {
    "duration": 51,
    "start_time": "2024-05-23T17:12:56.070Z"
   },
   {
    "duration": 7,
    "start_time": "2024-05-23T17:13:11.200Z"
   },
   {
    "duration": 7,
    "start_time": "2024-05-23T17:13:19.388Z"
   },
   {
    "duration": 7,
    "start_time": "2024-05-23T17:13:40.012Z"
   },
   {
    "duration": 5,
    "start_time": "2024-05-23T17:13:50.002Z"
   },
   {
    "duration": 1588,
    "start_time": "2024-05-23T17:13:53.770Z"
   },
   {
    "duration": 93,
    "start_time": "2024-05-23T17:13:55.360Z"
   },
   {
    "duration": 10,
    "start_time": "2024-05-23T17:13:55.455Z"
   },
   {
    "duration": 9,
    "start_time": "2024-05-23T17:13:55.466Z"
   },
   {
    "duration": 10,
    "start_time": "2024-05-23T17:13:55.477Z"
   },
   {
    "duration": 14,
    "start_time": "2024-05-23T17:13:55.488Z"
   },
   {
    "duration": 13,
    "start_time": "2024-05-23T17:13:55.503Z"
   },
   {
    "duration": 9,
    "start_time": "2024-05-23T17:13:55.517Z"
   },
   {
    "duration": 10,
    "start_time": "2024-05-23T17:13:55.527Z"
   },
   {
    "duration": 7,
    "start_time": "2024-05-23T17:13:55.538Z"
   },
   {
    "duration": 7,
    "start_time": "2024-05-23T17:13:55.547Z"
   },
   {
    "duration": 866,
    "start_time": "2024-05-23T17:13:55.556Z"
   },
   {
    "duration": 321,
    "start_time": "2024-05-23T17:13:56.424Z"
   },
   {
    "duration": 6,
    "start_time": "2024-05-23T17:13:56.747Z"
   },
   {
    "duration": 869,
    "start_time": "2024-05-23T17:13:56.755Z"
   },
   {
    "duration": 3,
    "start_time": "2024-05-23T17:14:00.990Z"
   },
   {
    "duration": 78,
    "start_time": "2024-05-23T17:14:02.736Z"
   },
   {
    "duration": 9,
    "start_time": "2024-05-23T17:15:23.042Z"
   },
   {
    "duration": 110,
    "start_time": "2024-05-23T17:15:49.264Z"
   },
   {
    "duration": 216,
    "start_time": "2024-05-23T17:15:55.507Z"
   },
   {
    "duration": 178,
    "start_time": "2024-05-23T17:16:11.891Z"
   },
   {
    "duration": 197,
    "start_time": "2024-05-23T17:16:17.330Z"
   },
   {
    "duration": 148,
    "start_time": "2024-05-23T17:16:23.221Z"
   },
   {
    "duration": 182,
    "start_time": "2024-05-23T17:16:26.240Z"
   },
   {
    "duration": 157,
    "start_time": "2024-05-23T17:16:32.841Z"
   },
   {
    "duration": 161,
    "start_time": "2024-05-23T17:17:12.472Z"
   },
   {
    "duration": 95,
    "start_time": "2024-05-23T17:26:04.948Z"
   },
   {
    "duration": 4,
    "start_time": "2024-05-23T17:26:11.731Z"
   },
   {
    "duration": 58,
    "start_time": "2024-05-23T17:26:11.737Z"
   },
   {
    "duration": 9,
    "start_time": "2024-05-23T17:26:11.796Z"
   },
   {
    "duration": 15,
    "start_time": "2024-05-23T17:26:11.806Z"
   },
   {
    "duration": 22,
    "start_time": "2024-05-23T17:26:11.823Z"
   },
   {
    "duration": 14,
    "start_time": "2024-05-23T17:26:11.847Z"
   },
   {
    "duration": 24,
    "start_time": "2024-05-23T17:26:11.862Z"
   },
   {
    "duration": 25,
    "start_time": "2024-05-23T17:26:11.887Z"
   },
   {
    "duration": 14,
    "start_time": "2024-05-23T17:26:11.914Z"
   },
   {
    "duration": 21,
    "start_time": "2024-05-23T17:26:11.929Z"
   },
   {
    "duration": 11,
    "start_time": "2024-05-23T17:26:11.952Z"
   },
   {
    "duration": 849,
    "start_time": "2024-05-23T17:26:11.964Z"
   },
   {
    "duration": 316,
    "start_time": "2024-05-23T17:26:12.815Z"
   },
   {
    "duration": 812,
    "start_time": "2024-05-23T17:26:13.134Z"
   },
   {
    "duration": 270,
    "start_time": "2024-05-23T17:26:13.948Z"
   },
   {
    "duration": 184,
    "start_time": "2024-05-23T17:26:14.220Z"
   },
   {
    "duration": 5,
    "start_time": "2024-05-23T17:26:14.405Z"
   },
   {
    "duration": 125,
    "start_time": "2024-05-23T17:26:14.411Z"
   },
   {
    "duration": 25,
    "start_time": "2024-05-23T17:26:14.537Z"
   },
   {
    "duration": 14,
    "start_time": "2024-05-23T17:26:14.564Z"
   },
   {
    "duration": 13,
    "start_time": "2024-05-23T17:26:14.579Z"
   },
   {
    "duration": 17,
    "start_time": "2024-05-23T17:26:14.593Z"
   },
   {
    "duration": 29,
    "start_time": "2024-05-23T17:26:14.612Z"
   },
   {
    "duration": 11,
    "start_time": "2024-05-23T17:26:14.642Z"
   },
   {
    "duration": 35,
    "start_time": "2024-05-23T17:26:14.655Z"
   },
   {
    "duration": 256,
    "start_time": "2024-05-23T17:26:14.691Z"
   },
   {
    "duration": 4934,
    "start_time": "2024-05-23T17:26:14.949Z"
   },
   {
    "duration": 0,
    "start_time": "2024-05-23T17:26:19.885Z"
   },
   {
    "duration": 0,
    "start_time": "2024-05-23T17:26:19.886Z"
   },
   {
    "duration": 0,
    "start_time": "2024-05-23T17:26:19.887Z"
   },
   {
    "duration": 0,
    "start_time": "2024-05-23T17:26:19.888Z"
   },
   {
    "duration": 0,
    "start_time": "2024-05-23T17:26:19.889Z"
   },
   {
    "duration": 0,
    "start_time": "2024-05-23T17:26:19.890Z"
   },
   {
    "duration": 1450,
    "start_time": "2024-05-23T17:34:48.530Z"
   },
   {
    "duration": 48,
    "start_time": "2024-05-23T17:34:49.981Z"
   },
   {
    "duration": 10,
    "start_time": "2024-05-23T17:34:50.030Z"
   },
   {
    "duration": 16,
    "start_time": "2024-05-23T17:34:50.041Z"
   },
   {
    "duration": 13,
    "start_time": "2024-05-23T17:34:50.059Z"
   },
   {
    "duration": 5,
    "start_time": "2024-05-23T17:34:50.074Z"
   },
   {
    "duration": 33,
    "start_time": "2024-05-23T17:34:50.080Z"
   },
   {
    "duration": 12,
    "start_time": "2024-05-23T17:34:50.114Z"
   },
   {
    "duration": 11,
    "start_time": "2024-05-23T17:34:50.127Z"
   },
   {
    "duration": 3,
    "start_time": "2024-05-23T17:34:50.139Z"
   },
   {
    "duration": 6,
    "start_time": "2024-05-23T17:34:50.143Z"
   },
   {
    "duration": 908,
    "start_time": "2024-05-23T17:34:50.150Z"
   },
   {
    "duration": 315,
    "start_time": "2024-05-23T17:34:51.060Z"
   },
   {
    "duration": 270,
    "start_time": "2024-05-23T17:34:51.378Z"
   },
   {
    "duration": 0,
    "start_time": "2024-05-23T17:34:51.650Z"
   },
   {
    "duration": 0,
    "start_time": "2024-05-23T17:34:51.651Z"
   },
   {
    "duration": 0,
    "start_time": "2024-05-23T17:34:51.652Z"
   },
   {
    "duration": 0,
    "start_time": "2024-05-23T17:34:51.653Z"
   },
   {
    "duration": 0,
    "start_time": "2024-05-23T17:34:51.653Z"
   },
   {
    "duration": 0,
    "start_time": "2024-05-23T17:34:51.654Z"
   },
   {
    "duration": 0,
    "start_time": "2024-05-23T17:34:51.655Z"
   },
   {
    "duration": 0,
    "start_time": "2024-05-23T17:34:51.656Z"
   },
   {
    "duration": 0,
    "start_time": "2024-05-23T17:34:51.657Z"
   },
   {
    "duration": 0,
    "start_time": "2024-05-23T17:34:51.658Z"
   },
   {
    "duration": 0,
    "start_time": "2024-05-23T17:34:51.659Z"
   },
   {
    "duration": 0,
    "start_time": "2024-05-23T17:34:51.660Z"
   },
   {
    "duration": 0,
    "start_time": "2024-05-23T17:34:51.660Z"
   },
   {
    "duration": 157,
    "start_time": "2024-05-23T17:35:29.953Z"
   },
   {
    "duration": 230,
    "start_time": "2024-05-23T17:35:31.673Z"
   },
   {
    "duration": 21,
    "start_time": "2024-05-23T17:37:53.052Z"
   },
   {
    "duration": 1540,
    "start_time": "2024-05-23T17:38:37.921Z"
   },
   {
    "duration": 52,
    "start_time": "2024-05-23T17:38:39.463Z"
   },
   {
    "duration": 9,
    "start_time": "2024-05-23T17:38:39.516Z"
   },
   {
    "duration": 9,
    "start_time": "2024-05-23T17:38:39.527Z"
   },
   {
    "duration": 13,
    "start_time": "2024-05-23T17:38:39.538Z"
   },
   {
    "duration": 6,
    "start_time": "2024-05-23T17:38:39.552Z"
   },
   {
    "duration": 14,
    "start_time": "2024-05-23T17:38:39.559Z"
   },
   {
    "duration": 3,
    "start_time": "2024-05-23T17:38:39.575Z"
   },
   {
    "duration": 7,
    "start_time": "2024-05-23T17:38:39.580Z"
   },
   {
    "duration": 22,
    "start_time": "2024-05-23T17:38:39.588Z"
   },
   {
    "duration": 6,
    "start_time": "2024-05-23T17:38:39.611Z"
   },
   {
    "duration": 872,
    "start_time": "2024-05-23T17:38:39.618Z"
   },
   {
    "duration": 297,
    "start_time": "2024-05-23T17:38:45.653Z"
   },
   {
    "duration": 7,
    "start_time": "2024-05-23T17:38:47.552Z"
   },
   {
    "duration": 865,
    "start_time": "2024-05-23T17:38:49.230Z"
   },
   {
    "duration": 170,
    "start_time": "2024-05-23T17:38:52.662Z"
   },
   {
    "duration": 171,
    "start_time": "2024-05-23T17:38:54.391Z"
   },
   {
    "duration": 3,
    "start_time": "2024-05-23T17:38:57.853Z"
   },
   {
    "duration": 97,
    "start_time": "2024-05-23T17:38:58.790Z"
   },
   {
    "duration": 22,
    "start_time": "2024-05-23T17:38:59.184Z"
   },
   {
    "duration": 18,
    "start_time": "2024-05-23T17:38:59.333Z"
   },
   {
    "duration": 9,
    "start_time": "2024-05-23T17:38:59.474Z"
   },
   {
    "duration": 4,
    "start_time": "2024-05-23T17:38:59.632Z"
   },
   {
    "duration": 3,
    "start_time": "2024-05-23T17:39:00.564Z"
   },
   {
    "duration": 3,
    "start_time": "2024-05-23T17:39:00.813Z"
   },
   {
    "duration": 4,
    "start_time": "2024-05-23T17:39:01.042Z"
   },
   {
    "duration": 315,
    "start_time": "2024-05-23T17:39:03.140Z"
   },
   {
    "duration": 21268,
    "start_time": "2024-05-23T17:39:03.612Z"
   },
   {
    "duration": 117,
    "start_time": "2024-05-23T17:39:27.742Z"
   },
   {
    "duration": 2099,
    "start_time": "2024-05-23T17:40:08.728Z"
   },
   {
    "duration": 47,
    "start_time": "2024-05-23T17:40:10.829Z"
   },
   {
    "duration": 10,
    "start_time": "2024-05-23T17:40:10.878Z"
   },
   {
    "duration": 9,
    "start_time": "2024-05-23T17:40:10.889Z"
   },
   {
    "duration": 9,
    "start_time": "2024-05-23T17:40:10.900Z"
   },
   {
    "duration": 9,
    "start_time": "2024-05-23T17:40:10.910Z"
   },
   {
    "duration": 27,
    "start_time": "2024-05-23T17:40:10.920Z"
   },
   {
    "duration": 17,
    "start_time": "2024-05-23T17:40:10.948Z"
   },
   {
    "duration": 9,
    "start_time": "2024-05-23T17:40:10.967Z"
   },
   {
    "duration": 6,
    "start_time": "2024-05-23T17:40:10.978Z"
   },
   {
    "duration": 7,
    "start_time": "2024-05-23T17:40:10.985Z"
   },
   {
    "duration": 885,
    "start_time": "2024-05-23T17:40:10.993Z"
   },
   {
    "duration": 325,
    "start_time": "2024-05-23T17:40:11.880Z"
   },
   {
    "duration": 6,
    "start_time": "2024-05-23T17:40:12.208Z"
   },
   {
    "duration": 865,
    "start_time": "2024-05-23T17:40:12.216Z"
   },
   {
    "duration": 173,
    "start_time": "2024-05-23T17:40:13.083Z"
   },
   {
    "duration": 181,
    "start_time": "2024-05-23T17:40:13.258Z"
   },
   {
    "duration": 4,
    "start_time": "2024-05-23T17:40:13.441Z"
   },
   {
    "duration": 119,
    "start_time": "2024-05-23T17:40:13.446Z"
   },
   {
    "duration": 20,
    "start_time": "2024-05-23T17:40:13.566Z"
   },
   {
    "duration": 18,
    "start_time": "2024-05-23T17:40:13.588Z"
   },
   {
    "duration": 7,
    "start_time": "2024-05-23T17:40:13.607Z"
   },
   {
    "duration": 31,
    "start_time": "2024-05-23T17:40:13.615Z"
   },
   {
    "duration": 19,
    "start_time": "2024-05-23T17:40:13.648Z"
   },
   {
    "duration": 5,
    "start_time": "2024-05-23T17:40:13.668Z"
   },
   {
    "duration": 8,
    "start_time": "2024-05-23T17:40:13.675Z"
   },
   {
    "duration": 363,
    "start_time": "2024-05-23T17:40:13.685Z"
   },
   {
    "duration": 22946,
    "start_time": "2024-05-23T17:40:14.050Z"
   },
   {
    "duration": 449788,
    "start_time": "2024-05-23T17:40:44.260Z"
   },
   {
    "duration": 3,
    "start_time": "2024-05-23T17:48:14.051Z"
   },
   {
    "duration": 3213,
    "start_time": "2024-05-23T17:51:09.842Z"
   },
   {
    "duration": 3,
    "start_time": "2024-05-23T17:51:52.062Z"
   },
   {
    "duration": 9,
    "start_time": "2024-05-23T17:51:52.311Z"
   },
   {
    "duration": 14,
    "start_time": "2024-05-23T17:52:39.900Z"
   },
   {
    "duration": 4,
    "start_time": "2024-05-23T17:52:41.342Z"
   },
   {
    "duration": 7,
    "start_time": "2024-05-23T17:52:43.252Z"
   }
  ],
  "kernelspec": {
   "display_name": "Python 3 (ipykernel)",
   "language": "python",
   "name": "python3"
  },
  "language_info": {
   "codemirror_mode": {
    "name": "ipython",
    "version": 3
   },
   "file_extension": ".py",
   "mimetype": "text/x-python",
   "name": "python",
   "nbconvert_exporter": "python",
   "pygments_lexer": "ipython3",
   "version": "3.11.9"
  },
  "toc": {
   "base_numbering": 1,
   "nav_menu": {},
   "number_sections": true,
   "sideBar": true,
   "skip_h1_title": true,
   "title_cell": "Содержание",
   "title_sidebar": "Contents",
   "toc_cell": true,
   "toc_position": {
    "height": "calc(100% - 180px)",
    "left": "10px",
    "top": "150px",
    "width": "165px"
   },
   "toc_section_display": true,
   "toc_window_display": true
  }
 },
 "nbformat": 4,
 "nbformat_minor": 4
}
