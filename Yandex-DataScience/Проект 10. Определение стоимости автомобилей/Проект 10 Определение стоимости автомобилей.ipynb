{
 "cells": [
  {
   "cell_type": "markdown",
   "metadata": {},
   "source": [
    "# Определение стоимости автомобилей"
   ]
  },
  {
   "cell_type": "markdown",
   "metadata": {},
   "source": [
    "Сервис по продаже автомобилей с пробегом «Не бит, не крашен» разрабатывает приложение для привлечения новых клиентов. В нём можно быстро узнать рыночную стоимость своего автомобиля. В вашем распоряжении исторические данные: технические характеристики, комплектации и цены автомобилей. Вам нужно построить модель для определения стоимости. \n",
    "\n",
    "Заказчику важны:\n",
    "\n",
    "- качество предсказания;\n",
    "- скорость предсказания;\n",
    "- время обучения."
   ]
  },
  {
   "cell_type": "markdown",
   "metadata": {},
   "source": [
    "Примечания:\n",
    "- Для оценки качества моделей применяйте метрику RMSE.\n",
    "- Значение метрики RMSE должно быть меньше 2500.\n",
    "- Самостоятельно освойте библиотеку LightGBM и её средствами постройте модели градиентного бустинга.\n",
    "- Время выполнения ячейки кода Jupyter Notebook можно получить специальной командой. Найдите её.\n",
    "- Модель градиентного бустинга может долго обучаться, поэтому измените у неё только два-три параметра."
   ]
  },
  {
   "cell_type": "markdown",
   "metadata": {},
   "source": [
    "Признаки\n",
    "- DateCrawled — дата скачивания анкеты из базы\n",
    "- VehicleType — тип автомобильного кузова\n",
    "- RegistrationYear — год регистрации автомобиля\n",
    "- Gearbox — тип коробки передач\n",
    "- Power — мощность (л. с.)\n",
    "- Model — модель автомобиля\n",
    "- Kilometer — пробег (км)\n",
    "- RegistrationMonth — месяц регистрации автомобиля\n",
    "- FuelType — тип топлива\n",
    "- Brand — марка автомобиля\n",
    "- Repaired — была машина в ремонте или нет\n",
    "- DateCreated — дата создания анкеты\n",
    "- NumberOfPictures — количество фотографий автомобиля\n",
    "- PostalCode — почтовый индекс владельца анкеты (пользователя)\n",
    "- LastSeen — дата последней активности пользователя\n",
    "\n",
    "Целевой признак\n",
    "- Price — цена (евро)"
   ]
  },
  {
   "cell_type": "code",
   "execution_count": 2,
   "metadata": {
    "scrolled": true
   },
   "outputs": [
    {
     "name": "stdout",
     "output_type": "stream",
     "text": [
      "Requirement already satisfied: scikit-learn in /opt/conda/lib/python3.9/site-packages (0.24.1)\n",
      "Collecting scikit-learn\n",
      "  Downloading scikit_learn-1.4.2-cp39-cp39-manylinux_2_17_x86_64.manylinux2014_x86_64.whl (12.2 MB)\n",
      "\u001b[K     |████████████████████████████████| 12.2 MB 1.2 MB/s eta 0:00:01\n",
      "\u001b[?25hCollecting joblib>=1.2.0\n",
      "  Downloading joblib-1.4.2-py3-none-any.whl (301 kB)\n",
      "\u001b[K     |████████████████████████████████| 301 kB 89.3 MB/s eta 0:00:01\n",
      "\u001b[?25hRequirement already satisfied: numpy>=1.19.5 in /opt/conda/lib/python3.9/site-packages (from scikit-learn) (1.21.1)\n",
      "Requirement already satisfied: scipy>=1.6.0 in /opt/conda/lib/python3.9/site-packages (from scikit-learn) (1.9.1)\n",
      "Requirement already satisfied: threadpoolctl>=2.0.0 in /opt/conda/lib/python3.9/site-packages (from scikit-learn) (3.1.0)\n",
      "Installing collected packages: joblib, scikit-learn\n",
      "  Attempting uninstall: joblib\n",
      "    Found existing installation: joblib 1.1.0\n",
      "    Uninstalling joblib-1.1.0:\n",
      "      Successfully uninstalled joblib-1.1.0\n",
      "  Attempting uninstall: scikit-learn\n",
      "    Found existing installation: scikit-learn 0.24.1\n",
      "    Uninstalling scikit-learn-0.24.1:\n",
      "      Successfully uninstalled scikit-learn-0.24.1\n",
      "Successfully installed joblib-1.4.2 scikit-learn-1.4.2\n",
      "Note: you may need to restart the kernel to use updated packages.\n"
     ]
    }
   ],
   "source": [
    "pip install --upgrade scikit-learn\n"
   ]
  },
  {
   "cell_type": "markdown",
   "metadata": {},
   "source": [
    "## Подготовка данных"
   ]
  },
  {
   "cell_type": "code",
   "execution_count": 3,
   "metadata": {},
   "outputs": [],
   "source": [
    "#импорт библиотек\n",
    "import pandas as pd\n",
    "import numpy as np\n",
    "import matplotlib.pyplot as plt\n",
    "\n",
    "import seaborn as sns\n",
    "from sklearn.preprocessing import StandardScaler\n",
    "from sklearn.preprocessing import OneHotEncoder\n",
    "from sklearn.metrics import mean_squared_error\n",
    "from sklearn.preprocessing import OrdinalEncoder\n",
    "from sklearn.model_selection import cross_val_score\n",
    "from sklearn.metrics import make_scorer\n",
    "from sklearn.metrics import mean_squared_error\n",
    "from sklearn.ensemble import RandomForestRegressor\n",
    "from sklearn.dummy import DummyRegressor\n",
    "\n",
    "from sklearn.linear_model import LinearRegression\n",
    "from catboost import CatBoostRegressor\n",
    "from lightgbm import LGBMRegressor\n",
    "\n",
    "from sklearn.model_selection import train_test_split, RandomizedSearchCV\n",
    "import time"
   ]
  },
  {
   "cell_type": "code",
   "execution_count": 4,
   "metadata": {},
   "outputs": [],
   "source": [
    "data = pd.read_csv('/datasets/autos.csv')"
   ]
  },
  {
   "cell_type": "code",
   "execution_count": 5,
   "metadata": {},
   "outputs": [
    {
     "name": "stdout",
     "output_type": "stream",
     "text": [
      "<class 'pandas.core.frame.DataFrame'>\n",
      "RangeIndex: 354369 entries, 0 to 354368\n",
      "Data columns (total 16 columns):\n",
      " #   Column             Non-Null Count   Dtype \n",
      "---  ------             --------------   ----- \n",
      " 0   DateCrawled        354369 non-null  object\n",
      " 1   Price              354369 non-null  int64 \n",
      " 2   VehicleType        316879 non-null  object\n",
      " 3   RegistrationYear   354369 non-null  int64 \n",
      " 4   Gearbox            334536 non-null  object\n",
      " 5   Power              354369 non-null  int64 \n",
      " 6   Model              334664 non-null  object\n",
      " 7   Kilometer          354369 non-null  int64 \n",
      " 8   RegistrationMonth  354369 non-null  int64 \n",
      " 9   FuelType           321474 non-null  object\n",
      " 10  Brand              354369 non-null  object\n",
      " 11  Repaired           283215 non-null  object\n",
      " 12  DateCreated        354369 non-null  object\n",
      " 13  NumberOfPictures   354369 non-null  int64 \n",
      " 14  PostalCode         354369 non-null  int64 \n",
      " 15  LastSeen           354369 non-null  object\n",
      "dtypes: int64(7), object(9)\n",
      "memory usage: 43.3+ MB\n"
     ]
    },
    {
     "data": {
      "text/html": [
       "<div>\n",
       "<style scoped>\n",
       "    .dataframe tbody tr th:only-of-type {\n",
       "        vertical-align: middle;\n",
       "    }\n",
       "\n",
       "    .dataframe tbody tr th {\n",
       "        vertical-align: top;\n",
       "    }\n",
       "\n",
       "    .dataframe thead th {\n",
       "        text-align: right;\n",
       "    }\n",
       "</style>\n",
       "<table border=\"1\" class=\"dataframe\">\n",
       "  <thead>\n",
       "    <tr style=\"text-align: right;\">\n",
       "      <th></th>\n",
       "      <th>Price</th>\n",
       "      <th>RegistrationYear</th>\n",
       "      <th>Power</th>\n",
       "      <th>Kilometer</th>\n",
       "      <th>RegistrationMonth</th>\n",
       "      <th>NumberOfPictures</th>\n",
       "      <th>PostalCode</th>\n",
       "    </tr>\n",
       "  </thead>\n",
       "  <tbody>\n",
       "    <tr>\n",
       "      <th>count</th>\n",
       "      <td>354369.000000</td>\n",
       "      <td>354369.000000</td>\n",
       "      <td>354369.000000</td>\n",
       "      <td>354369.000000</td>\n",
       "      <td>354369.000000</td>\n",
       "      <td>354369.0</td>\n",
       "      <td>354369.000000</td>\n",
       "    </tr>\n",
       "    <tr>\n",
       "      <th>mean</th>\n",
       "      <td>4416.656776</td>\n",
       "      <td>2004.234448</td>\n",
       "      <td>110.094337</td>\n",
       "      <td>128211.172535</td>\n",
       "      <td>5.714645</td>\n",
       "      <td>0.0</td>\n",
       "      <td>50508.689087</td>\n",
       "    </tr>\n",
       "    <tr>\n",
       "      <th>std</th>\n",
       "      <td>4514.158514</td>\n",
       "      <td>90.227958</td>\n",
       "      <td>189.850405</td>\n",
       "      <td>37905.341530</td>\n",
       "      <td>3.726421</td>\n",
       "      <td>0.0</td>\n",
       "      <td>25783.096248</td>\n",
       "    </tr>\n",
       "    <tr>\n",
       "      <th>min</th>\n",
       "      <td>0.000000</td>\n",
       "      <td>1000.000000</td>\n",
       "      <td>0.000000</td>\n",
       "      <td>5000.000000</td>\n",
       "      <td>0.000000</td>\n",
       "      <td>0.0</td>\n",
       "      <td>1067.000000</td>\n",
       "    </tr>\n",
       "    <tr>\n",
       "      <th>25%</th>\n",
       "      <td>1050.000000</td>\n",
       "      <td>1999.000000</td>\n",
       "      <td>69.000000</td>\n",
       "      <td>125000.000000</td>\n",
       "      <td>3.000000</td>\n",
       "      <td>0.0</td>\n",
       "      <td>30165.000000</td>\n",
       "    </tr>\n",
       "    <tr>\n",
       "      <th>50%</th>\n",
       "      <td>2700.000000</td>\n",
       "      <td>2003.000000</td>\n",
       "      <td>105.000000</td>\n",
       "      <td>150000.000000</td>\n",
       "      <td>6.000000</td>\n",
       "      <td>0.0</td>\n",
       "      <td>49413.000000</td>\n",
       "    </tr>\n",
       "    <tr>\n",
       "      <th>75%</th>\n",
       "      <td>6400.000000</td>\n",
       "      <td>2008.000000</td>\n",
       "      <td>143.000000</td>\n",
       "      <td>150000.000000</td>\n",
       "      <td>9.000000</td>\n",
       "      <td>0.0</td>\n",
       "      <td>71083.000000</td>\n",
       "    </tr>\n",
       "    <tr>\n",
       "      <th>max</th>\n",
       "      <td>20000.000000</td>\n",
       "      <td>9999.000000</td>\n",
       "      <td>20000.000000</td>\n",
       "      <td>150000.000000</td>\n",
       "      <td>12.000000</td>\n",
       "      <td>0.0</td>\n",
       "      <td>99998.000000</td>\n",
       "    </tr>\n",
       "  </tbody>\n",
       "</table>\n",
       "</div>"
      ],
      "text/plain": [
       "               Price  RegistrationYear          Power      Kilometer  \\\n",
       "count  354369.000000     354369.000000  354369.000000  354369.000000   \n",
       "mean     4416.656776       2004.234448     110.094337  128211.172535   \n",
       "std      4514.158514         90.227958     189.850405   37905.341530   \n",
       "min         0.000000       1000.000000       0.000000    5000.000000   \n",
       "25%      1050.000000       1999.000000      69.000000  125000.000000   \n",
       "50%      2700.000000       2003.000000     105.000000  150000.000000   \n",
       "75%      6400.000000       2008.000000     143.000000  150000.000000   \n",
       "max     20000.000000       9999.000000   20000.000000  150000.000000   \n",
       "\n",
       "       RegistrationMonth  NumberOfPictures     PostalCode  \n",
       "count      354369.000000          354369.0  354369.000000  \n",
       "mean            5.714645               0.0   50508.689087  \n",
       "std             3.726421               0.0   25783.096248  \n",
       "min             0.000000               0.0    1067.000000  \n",
       "25%             3.000000               0.0   30165.000000  \n",
       "50%             6.000000               0.0   49413.000000  \n",
       "75%             9.000000               0.0   71083.000000  \n",
       "max            12.000000               0.0   99998.000000  "
      ]
     },
     "execution_count": 5,
     "metadata": {},
     "output_type": "execute_result"
    }
   ],
   "source": [
    "data.head()\n",
    "data.info()\n",
    "data.describe()"
   ]
  },
  {
   "cell_type": "markdown",
   "metadata": {},
   "source": [
    "**Переведем все названия столбцов в нижный регист, а затем в змеиный регистр**"
   ]
  },
  {
   "cell_type": "code",
   "execution_count": 6,
   "metadata": {},
   "outputs": [],
   "source": [
    "data.columns = data.columns.str.lower()"
   ]
  },
  {
   "cell_type": "code",
   "execution_count": 7,
   "metadata": {},
   "outputs": [],
   "source": [
    "data = data.rename(columns={'datecrawled':'date_crawled', \n",
    "                        'vehicletype':'vehicle_type', \n",
    "                        'registrationyear':'registration_year', \n",
    "                        'registrationmonth':'registration_month', \n",
    "                        'fueltype':'fuel_type', \n",
    "                        'notrepaired':'not_repaired', \n",
    "                        'datecreated':'date_created',\n",
    "                        'numberofpictures': 'number_of_pictures',\n",
    "                        'postalcode':'postal_code',\n",
    "                        'lastseen':'last_seen'})"
   ]
  },
  {
   "cell_type": "code",
   "execution_count": 8,
   "metadata": {},
   "outputs": [
    {
     "data": {
      "text/plain": [
       "0         0\n",
       "1         0\n",
       "2         0\n",
       "3         0\n",
       "4         0\n",
       "         ..\n",
       "354364    0\n",
       "354365    0\n",
       "354366    0\n",
       "354367    0\n",
       "354368    0\n",
       "Name: number_of_pictures, Length: 354369, dtype: int64"
      ]
     },
     "execution_count": 8,
     "metadata": {},
     "output_type": "execute_result"
    }
   ],
   "source": [
    "data.number_of_pictures"
   ]
  },
  {
   "cell_type": "code",
   "execution_count": 9,
   "metadata": {},
   "outputs": [],
   "source": [
    "#удалим столбцы, которые не влияют на цену\n",
    "data = data.drop(['number_of_pictures', 'postal_code', 'date_created', 'last_seen', 'registration_month', 'date_crawled'], axis=1)"
   ]
  },
  {
   "cell_type": "code",
   "execution_count": 10,
   "metadata": {},
   "outputs": [
    {
     "data": {
      "text/html": [
       "<div>\n",
       "<style scoped>\n",
       "    .dataframe tbody tr th:only-of-type {\n",
       "        vertical-align: middle;\n",
       "    }\n",
       "\n",
       "    .dataframe tbody tr th {\n",
       "        vertical-align: top;\n",
       "    }\n",
       "\n",
       "    .dataframe thead th {\n",
       "        text-align: right;\n",
       "    }\n",
       "</style>\n",
       "<table border=\"1\" class=\"dataframe\">\n",
       "  <thead>\n",
       "    <tr style=\"text-align: right;\">\n",
       "      <th></th>\n",
       "      <th>price</th>\n",
       "      <th>vehicle_type</th>\n",
       "      <th>registration_year</th>\n",
       "      <th>gearbox</th>\n",
       "      <th>power</th>\n",
       "      <th>model</th>\n",
       "      <th>kilometer</th>\n",
       "      <th>fuel_type</th>\n",
       "      <th>brand</th>\n",
       "      <th>repaired</th>\n",
       "    </tr>\n",
       "  </thead>\n",
       "  <tbody>\n",
       "    <tr>\n",
       "      <th>0</th>\n",
       "      <td>480</td>\n",
       "      <td>NaN</td>\n",
       "      <td>1993</td>\n",
       "      <td>manual</td>\n",
       "      <td>0</td>\n",
       "      <td>golf</td>\n",
       "      <td>150000</td>\n",
       "      <td>petrol</td>\n",
       "      <td>volkswagen</td>\n",
       "      <td>NaN</td>\n",
       "    </tr>\n",
       "    <tr>\n",
       "      <th>1</th>\n",
       "      <td>18300</td>\n",
       "      <td>coupe</td>\n",
       "      <td>2011</td>\n",
       "      <td>manual</td>\n",
       "      <td>190</td>\n",
       "      <td>NaN</td>\n",
       "      <td>125000</td>\n",
       "      <td>gasoline</td>\n",
       "      <td>audi</td>\n",
       "      <td>yes</td>\n",
       "    </tr>\n",
       "    <tr>\n",
       "      <th>2</th>\n",
       "      <td>9800</td>\n",
       "      <td>suv</td>\n",
       "      <td>2004</td>\n",
       "      <td>auto</td>\n",
       "      <td>163</td>\n",
       "      <td>grand</td>\n",
       "      <td>125000</td>\n",
       "      <td>gasoline</td>\n",
       "      <td>jeep</td>\n",
       "      <td>NaN</td>\n",
       "    </tr>\n",
       "    <tr>\n",
       "      <th>3</th>\n",
       "      <td>1500</td>\n",
       "      <td>small</td>\n",
       "      <td>2001</td>\n",
       "      <td>manual</td>\n",
       "      <td>75</td>\n",
       "      <td>golf</td>\n",
       "      <td>150000</td>\n",
       "      <td>petrol</td>\n",
       "      <td>volkswagen</td>\n",
       "      <td>no</td>\n",
       "    </tr>\n",
       "    <tr>\n",
       "      <th>4</th>\n",
       "      <td>3600</td>\n",
       "      <td>small</td>\n",
       "      <td>2008</td>\n",
       "      <td>manual</td>\n",
       "      <td>69</td>\n",
       "      <td>fabia</td>\n",
       "      <td>90000</td>\n",
       "      <td>gasoline</td>\n",
       "      <td>skoda</td>\n",
       "      <td>no</td>\n",
       "    </tr>\n",
       "  </tbody>\n",
       "</table>\n",
       "</div>"
      ],
      "text/plain": [
       "   price vehicle_type  registration_year gearbox  power  model  kilometer  \\\n",
       "0    480          NaN               1993  manual      0   golf     150000   \n",
       "1  18300        coupe               2011  manual    190    NaN     125000   \n",
       "2   9800          suv               2004    auto    163  grand     125000   \n",
       "3   1500        small               2001  manual     75   golf     150000   \n",
       "4   3600        small               2008  manual     69  fabia      90000   \n",
       "\n",
       "  fuel_type       brand repaired  \n",
       "0    petrol  volkswagen      NaN  \n",
       "1  gasoline        audi      yes  \n",
       "2  gasoline        jeep      NaN  \n",
       "3    petrol  volkswagen       no  \n",
       "4  gasoline       skoda       no  "
      ]
     },
     "execution_count": 10,
     "metadata": {},
     "output_type": "execute_result"
    }
   ],
   "source": [
    "data.head()"
   ]
  },
  {
   "cell_type": "code",
   "execution_count": 11,
   "metadata": {},
   "outputs": [
    {
     "data": {
      "text/plain": [
       "price                    0\n",
       "vehicle_type         37490\n",
       "registration_year        0\n",
       "gearbox              19833\n",
       "power                    0\n",
       "model                19705\n",
       "kilometer                0\n",
       "fuel_type            32895\n",
       "brand                    0\n",
       "repaired             71154\n",
       "dtype: int64"
      ]
     },
     "execution_count": 11,
     "metadata": {},
     "output_type": "execute_result"
    }
   ],
   "source": [
    "# найдем количество пропусков\n",
    "data.isna().sum()"
   ]
  },
  {
   "cell_type": "code",
   "execution_count": 12,
   "metadata": {},
   "outputs": [
    {
     "name": "stdout",
     "output_type": "stream",
     "text": [
      "Доля пропусков в vehicle_type : 10.58%\n",
      "Доля пропусков в gearbox : 5.60%\n",
      "Доля пропусков в model : 5.56%\n",
      "Доля пропусков в fuel_type : 9.28%\n",
      "Доля пропусков в repaired : 20.08%\n"
     ]
    }
   ],
   "source": [
    "for column in data:\n",
    "    if data[column].isna().mean() != 0:\n",
    "        print('Доля пропусков в',column,': {:.2%}'.format(data[column].isna().mean()))"
   ]
  },
  {
   "cell_type": "code",
   "execution_count": 13,
   "metadata": {},
   "outputs": [
    {
     "data": {
      "text/plain": [
       "no     247161\n",
       "yes     36054\n",
       "Name: repaired, dtype: int64"
      ]
     },
     "execution_count": 13,
     "metadata": {},
     "output_type": "execute_result"
    }
   ],
   "source": [
    "#Посмотрим на значение в столбце repaired\n",
    "data.repaired.value_counts()"
   ]
  },
  {
   "cell_type": "code",
   "execution_count": 14,
   "metadata": {},
   "outputs": [
    {
     "data": {
      "text/html": [
       "<div>\n",
       "<style scoped>\n",
       "    .dataframe tbody tr th:only-of-type {\n",
       "        vertical-align: middle;\n",
       "    }\n",
       "\n",
       "    .dataframe tbody tr th {\n",
       "        vertical-align: top;\n",
       "    }\n",
       "\n",
       "    .dataframe thead th {\n",
       "        text-align: right;\n",
       "    }\n",
       "</style>\n",
       "<table border=\"1\" class=\"dataframe\">\n",
       "  <thead>\n",
       "    <tr style=\"text-align: right;\">\n",
       "      <th></th>\n",
       "      <th>price</th>\n",
       "      <th>vehicle_type</th>\n",
       "      <th>registration_year</th>\n",
       "      <th>gearbox</th>\n",
       "      <th>power</th>\n",
       "      <th>model</th>\n",
       "      <th>kilometer</th>\n",
       "      <th>fuel_type</th>\n",
       "      <th>brand</th>\n",
       "      <th>repaired</th>\n",
       "    </tr>\n",
       "  </thead>\n",
       "  <tbody>\n",
       "    <tr>\n",
       "      <th>306</th>\n",
       "      <td>200</td>\n",
       "      <td>NaN</td>\n",
       "      <td>2009</td>\n",
       "      <td>NaN</td>\n",
       "      <td>0</td>\n",
       "      <td>NaN</td>\n",
       "      <td>10000</td>\n",
       "      <td>NaN</td>\n",
       "      <td>sonstige_autos</td>\n",
       "      <td>NaN</td>\n",
       "    </tr>\n",
       "    <tr>\n",
       "      <th>522</th>\n",
       "      <td>0</td>\n",
       "      <td>NaN</td>\n",
       "      <td>2000</td>\n",
       "      <td>NaN</td>\n",
       "      <td>0</td>\n",
       "      <td>NaN</td>\n",
       "      <td>150000</td>\n",
       "      <td>NaN</td>\n",
       "      <td>volvo</td>\n",
       "      <td>NaN</td>\n",
       "    </tr>\n",
       "    <tr>\n",
       "      <th>538</th>\n",
       "      <td>2600</td>\n",
       "      <td>NaN</td>\n",
       "      <td>2005</td>\n",
       "      <td>NaN</td>\n",
       "      <td>0</td>\n",
       "      <td>NaN</td>\n",
       "      <td>125000</td>\n",
       "      <td>NaN</td>\n",
       "      <td>chevrolet</td>\n",
       "      <td>NaN</td>\n",
       "    </tr>\n",
       "    <tr>\n",
       "      <th>552</th>\n",
       "      <td>50</td>\n",
       "      <td>NaN</td>\n",
       "      <td>1985</td>\n",
       "      <td>NaN</td>\n",
       "      <td>0</td>\n",
       "      <td>NaN</td>\n",
       "      <td>150000</td>\n",
       "      <td>NaN</td>\n",
       "      <td>trabant</td>\n",
       "      <td>NaN</td>\n",
       "    </tr>\n",
       "    <tr>\n",
       "      <th>622</th>\n",
       "      <td>0</td>\n",
       "      <td>NaN</td>\n",
       "      <td>1111</td>\n",
       "      <td>NaN</td>\n",
       "      <td>0</td>\n",
       "      <td>NaN</td>\n",
       "      <td>5000</td>\n",
       "      <td>NaN</td>\n",
       "      <td>opel</td>\n",
       "      <td>NaN</td>\n",
       "    </tr>\n",
       "    <tr>\n",
       "      <th>...</th>\n",
       "      <td>...</td>\n",
       "      <td>...</td>\n",
       "      <td>...</td>\n",
       "      <td>...</td>\n",
       "      <td>...</td>\n",
       "      <td>...</td>\n",
       "      <td>...</td>\n",
       "      <td>...</td>\n",
       "      <td>...</td>\n",
       "      <td>...</td>\n",
       "    </tr>\n",
       "    <tr>\n",
       "      <th>353727</th>\n",
       "      <td>1</td>\n",
       "      <td>NaN</td>\n",
       "      <td>2000</td>\n",
       "      <td>NaN</td>\n",
       "      <td>0</td>\n",
       "      <td>NaN</td>\n",
       "      <td>150000</td>\n",
       "      <td>NaN</td>\n",
       "      <td>bmw</td>\n",
       "      <td>NaN</td>\n",
       "    </tr>\n",
       "    <tr>\n",
       "      <th>354073</th>\n",
       "      <td>1750</td>\n",
       "      <td>NaN</td>\n",
       "      <td>1995</td>\n",
       "      <td>NaN</td>\n",
       "      <td>0</td>\n",
       "      <td>NaN</td>\n",
       "      <td>100000</td>\n",
       "      <td>NaN</td>\n",
       "      <td>sonstige_autos</td>\n",
       "      <td>NaN</td>\n",
       "    </tr>\n",
       "    <tr>\n",
       "      <th>354083</th>\n",
       "      <td>0</td>\n",
       "      <td>NaN</td>\n",
       "      <td>2000</td>\n",
       "      <td>NaN</td>\n",
       "      <td>0</td>\n",
       "      <td>NaN</td>\n",
       "      <td>150000</td>\n",
       "      <td>NaN</td>\n",
       "      <td>sonstige_autos</td>\n",
       "      <td>NaN</td>\n",
       "    </tr>\n",
       "    <tr>\n",
       "      <th>354162</th>\n",
       "      <td>1500</td>\n",
       "      <td>NaN</td>\n",
       "      <td>1995</td>\n",
       "      <td>NaN</td>\n",
       "      <td>0</td>\n",
       "      <td>NaN</td>\n",
       "      <td>150000</td>\n",
       "      <td>NaN</td>\n",
       "      <td>volkswagen</td>\n",
       "      <td>NaN</td>\n",
       "    </tr>\n",
       "    <tr>\n",
       "      <th>354365</th>\n",
       "      <td>2200</td>\n",
       "      <td>NaN</td>\n",
       "      <td>2005</td>\n",
       "      <td>NaN</td>\n",
       "      <td>0</td>\n",
       "      <td>NaN</td>\n",
       "      <td>20000</td>\n",
       "      <td>NaN</td>\n",
       "      <td>sonstige_autos</td>\n",
       "      <td>NaN</td>\n",
       "    </tr>\n",
       "  </tbody>\n",
       "</table>\n",
       "<p>2237 rows × 10 columns</p>\n",
       "</div>"
      ],
      "text/plain": [
       "        price vehicle_type  registration_year gearbox  power model  kilometer  \\\n",
       "306       200          NaN               2009     NaN      0   NaN      10000   \n",
       "522         0          NaN               2000     NaN      0   NaN     150000   \n",
       "538      2600          NaN               2005     NaN      0   NaN     125000   \n",
       "552        50          NaN               1985     NaN      0   NaN     150000   \n",
       "622         0          NaN               1111     NaN      0   NaN       5000   \n",
       "...       ...          ...                ...     ...    ...   ...        ...   \n",
       "353727      1          NaN               2000     NaN      0   NaN     150000   \n",
       "354073   1750          NaN               1995     NaN      0   NaN     100000   \n",
       "354083      0          NaN               2000     NaN      0   NaN     150000   \n",
       "354162   1500          NaN               1995     NaN      0   NaN     150000   \n",
       "354365   2200          NaN               2005     NaN      0   NaN      20000   \n",
       "\n",
       "       fuel_type           brand repaired  \n",
       "306          NaN  sonstige_autos      NaN  \n",
       "522          NaN           volvo      NaN  \n",
       "538          NaN       chevrolet      NaN  \n",
       "552          NaN         trabant      NaN  \n",
       "622          NaN            opel      NaN  \n",
       "...          ...             ...      ...  \n",
       "353727       NaN             bmw      NaN  \n",
       "354073       NaN  sonstige_autos      NaN  \n",
       "354083       NaN  sonstige_autos      NaN  \n",
       "354162       NaN      volkswagen      NaN  \n",
       "354365       NaN  sonstige_autos      NaN  \n",
       "\n",
       "[2237 rows x 10 columns]"
      ]
     },
     "execution_count": 14,
     "metadata": {},
     "output_type": "execute_result"
    }
   ],
   "source": [
    "# выведем столбцы с пропусками\n",
    "data[data['vehicle_type'].isna() & data['fuel_type'].isna() & data['model'].isna()&data['repaired'].isna()&data['gearbox'].isna()]"
   ]
  },
  {
   "cell_type": "code",
   "execution_count": 15,
   "metadata": {},
   "outputs": [],
   "source": [
    "# удалими строки так, чтобы из 5 столбцов c пропусками, удалились 3 с пропусками из этого списка\n",
    "data = data.dropna(subset=['vehicle_type', 'fuel_type', 'model', 'repaired','gearbox'], thresh = 3)"
   ]
  },
  {
   "cell_type": "code",
   "execution_count": 16,
   "metadata": {
    "scrolled": true
   },
   "outputs": [
    {
     "data": {
      "text/html": [
       "<div>\n",
       "<style scoped>\n",
       "    .dataframe tbody tr th:only-of-type {\n",
       "        vertical-align: middle;\n",
       "    }\n",
       "\n",
       "    .dataframe tbody tr th {\n",
       "        vertical-align: top;\n",
       "    }\n",
       "\n",
       "    .dataframe thead th {\n",
       "        text-align: right;\n",
       "    }\n",
       "</style>\n",
       "<table border=\"1\" class=\"dataframe\">\n",
       "  <thead>\n",
       "    <tr style=\"text-align: right;\">\n",
       "      <th></th>\n",
       "      <th>price</th>\n",
       "      <th>vehicle_type</th>\n",
       "      <th>registration_year</th>\n",
       "      <th>gearbox</th>\n",
       "      <th>power</th>\n",
       "      <th>model</th>\n",
       "      <th>kilometer</th>\n",
       "      <th>fuel_type</th>\n",
       "      <th>brand</th>\n",
       "      <th>repaired</th>\n",
       "    </tr>\n",
       "  </thead>\n",
       "  <tbody>\n",
       "    <tr>\n",
       "      <th>0</th>\n",
       "      <td>480</td>\n",
       "      <td>NaN</td>\n",
       "      <td>1993</td>\n",
       "      <td>manual</td>\n",
       "      <td>0</td>\n",
       "      <td>golf</td>\n",
       "      <td>150000</td>\n",
       "      <td>petrol</td>\n",
       "      <td>volkswagen</td>\n",
       "      <td>NaN</td>\n",
       "    </tr>\n",
       "    <tr>\n",
       "      <th>1</th>\n",
       "      <td>18300</td>\n",
       "      <td>coupe</td>\n",
       "      <td>2011</td>\n",
       "      <td>manual</td>\n",
       "      <td>190</td>\n",
       "      <td>NaN</td>\n",
       "      <td>125000</td>\n",
       "      <td>gasoline</td>\n",
       "      <td>audi</td>\n",
       "      <td>yes</td>\n",
       "    </tr>\n",
       "    <tr>\n",
       "      <th>2</th>\n",
       "      <td>9800</td>\n",
       "      <td>suv</td>\n",
       "      <td>2004</td>\n",
       "      <td>auto</td>\n",
       "      <td>163</td>\n",
       "      <td>grand</td>\n",
       "      <td>125000</td>\n",
       "      <td>gasoline</td>\n",
       "      <td>jeep</td>\n",
       "      <td>NaN</td>\n",
       "    </tr>\n",
       "    <tr>\n",
       "      <th>3</th>\n",
       "      <td>1500</td>\n",
       "      <td>small</td>\n",
       "      <td>2001</td>\n",
       "      <td>manual</td>\n",
       "      <td>75</td>\n",
       "      <td>golf</td>\n",
       "      <td>150000</td>\n",
       "      <td>petrol</td>\n",
       "      <td>volkswagen</td>\n",
       "      <td>no</td>\n",
       "    </tr>\n",
       "    <tr>\n",
       "      <th>4</th>\n",
       "      <td>3600</td>\n",
       "      <td>small</td>\n",
       "      <td>2008</td>\n",
       "      <td>manual</td>\n",
       "      <td>69</td>\n",
       "      <td>fabia</td>\n",
       "      <td>90000</td>\n",
       "      <td>gasoline</td>\n",
       "      <td>skoda</td>\n",
       "      <td>no</td>\n",
       "    </tr>\n",
       "    <tr>\n",
       "      <th>5</th>\n",
       "      <td>650</td>\n",
       "      <td>sedan</td>\n",
       "      <td>1995</td>\n",
       "      <td>manual</td>\n",
       "      <td>102</td>\n",
       "      <td>3er</td>\n",
       "      <td>150000</td>\n",
       "      <td>petrol</td>\n",
       "      <td>bmw</td>\n",
       "      <td>yes</td>\n",
       "    </tr>\n",
       "    <tr>\n",
       "      <th>6</th>\n",
       "      <td>2200</td>\n",
       "      <td>convertible</td>\n",
       "      <td>2004</td>\n",
       "      <td>manual</td>\n",
       "      <td>109</td>\n",
       "      <td>2_reihe</td>\n",
       "      <td>150000</td>\n",
       "      <td>petrol</td>\n",
       "      <td>peugeot</td>\n",
       "      <td>no</td>\n",
       "    </tr>\n",
       "    <tr>\n",
       "      <th>7</th>\n",
       "      <td>0</td>\n",
       "      <td>sedan</td>\n",
       "      <td>1980</td>\n",
       "      <td>manual</td>\n",
       "      <td>50</td>\n",
       "      <td>other</td>\n",
       "      <td>40000</td>\n",
       "      <td>petrol</td>\n",
       "      <td>volkswagen</td>\n",
       "      <td>no</td>\n",
       "    </tr>\n",
       "    <tr>\n",
       "      <th>8</th>\n",
       "      <td>14500</td>\n",
       "      <td>bus</td>\n",
       "      <td>2014</td>\n",
       "      <td>manual</td>\n",
       "      <td>125</td>\n",
       "      <td>c_max</td>\n",
       "      <td>30000</td>\n",
       "      <td>petrol</td>\n",
       "      <td>ford</td>\n",
       "      <td>NaN</td>\n",
       "    </tr>\n",
       "    <tr>\n",
       "      <th>9</th>\n",
       "      <td>999</td>\n",
       "      <td>small</td>\n",
       "      <td>1998</td>\n",
       "      <td>manual</td>\n",
       "      <td>101</td>\n",
       "      <td>golf</td>\n",
       "      <td>150000</td>\n",
       "      <td>NaN</td>\n",
       "      <td>volkswagen</td>\n",
       "      <td>NaN</td>\n",
       "    </tr>\n",
       "    <tr>\n",
       "      <th>10</th>\n",
       "      <td>2000</td>\n",
       "      <td>sedan</td>\n",
       "      <td>2004</td>\n",
       "      <td>manual</td>\n",
       "      <td>105</td>\n",
       "      <td>3_reihe</td>\n",
       "      <td>150000</td>\n",
       "      <td>petrol</td>\n",
       "      <td>mazda</td>\n",
       "      <td>no</td>\n",
       "    </tr>\n",
       "    <tr>\n",
       "      <th>11</th>\n",
       "      <td>2799</td>\n",
       "      <td>wagon</td>\n",
       "      <td>2005</td>\n",
       "      <td>manual</td>\n",
       "      <td>140</td>\n",
       "      <td>passat</td>\n",
       "      <td>150000</td>\n",
       "      <td>gasoline</td>\n",
       "      <td>volkswagen</td>\n",
       "      <td>yes</td>\n",
       "    </tr>\n",
       "    <tr>\n",
       "      <th>12</th>\n",
       "      <td>999</td>\n",
       "      <td>wagon</td>\n",
       "      <td>1995</td>\n",
       "      <td>manual</td>\n",
       "      <td>115</td>\n",
       "      <td>passat</td>\n",
       "      <td>150000</td>\n",
       "      <td>petrol</td>\n",
       "      <td>volkswagen</td>\n",
       "      <td>NaN</td>\n",
       "    </tr>\n",
       "    <tr>\n",
       "      <th>13</th>\n",
       "      <td>2500</td>\n",
       "      <td>wagon</td>\n",
       "      <td>2004</td>\n",
       "      <td>manual</td>\n",
       "      <td>131</td>\n",
       "      <td>passat</td>\n",
       "      <td>150000</td>\n",
       "      <td>NaN</td>\n",
       "      <td>volkswagen</td>\n",
       "      <td>no</td>\n",
       "    </tr>\n",
       "    <tr>\n",
       "      <th>14</th>\n",
       "      <td>17999</td>\n",
       "      <td>suv</td>\n",
       "      <td>2011</td>\n",
       "      <td>manual</td>\n",
       "      <td>190</td>\n",
       "      <td>navara</td>\n",
       "      <td>70000</td>\n",
       "      <td>gasoline</td>\n",
       "      <td>nissan</td>\n",
       "      <td>no</td>\n",
       "    </tr>\n",
       "    <tr>\n",
       "      <th>15</th>\n",
       "      <td>450</td>\n",
       "      <td>small</td>\n",
       "      <td>1910</td>\n",
       "      <td>NaN</td>\n",
       "      <td>0</td>\n",
       "      <td>ka</td>\n",
       "      <td>5000</td>\n",
       "      <td>petrol</td>\n",
       "      <td>ford</td>\n",
       "      <td>NaN</td>\n",
       "    </tr>\n",
       "    <tr>\n",
       "      <th>17</th>\n",
       "      <td>1750</td>\n",
       "      <td>small</td>\n",
       "      <td>2004</td>\n",
       "      <td>auto</td>\n",
       "      <td>75</td>\n",
       "      <td>twingo</td>\n",
       "      <td>150000</td>\n",
       "      <td>petrol</td>\n",
       "      <td>renault</td>\n",
       "      <td>no</td>\n",
       "    </tr>\n",
       "    <tr>\n",
       "      <th>18</th>\n",
       "      <td>7550</td>\n",
       "      <td>bus</td>\n",
       "      <td>2007</td>\n",
       "      <td>manual</td>\n",
       "      <td>136</td>\n",
       "      <td>c_max</td>\n",
       "      <td>150000</td>\n",
       "      <td>gasoline</td>\n",
       "      <td>ford</td>\n",
       "      <td>no</td>\n",
       "    </tr>\n",
       "    <tr>\n",
       "      <th>19</th>\n",
       "      <td>1850</td>\n",
       "      <td>bus</td>\n",
       "      <td>2004</td>\n",
       "      <td>manual</td>\n",
       "      <td>102</td>\n",
       "      <td>a_klasse</td>\n",
       "      <td>150000</td>\n",
       "      <td>petrol</td>\n",
       "      <td>mercedes_benz</td>\n",
       "      <td>no</td>\n",
       "    </tr>\n",
       "    <tr>\n",
       "      <th>20</th>\n",
       "      <td>10400</td>\n",
       "      <td>coupe</td>\n",
       "      <td>2009</td>\n",
       "      <td>manual</td>\n",
       "      <td>160</td>\n",
       "      <td>scirocco</td>\n",
       "      <td>100000</td>\n",
       "      <td>petrol</td>\n",
       "      <td>volkswagen</td>\n",
       "      <td>no</td>\n",
       "    </tr>\n",
       "  </tbody>\n",
       "</table>\n",
       "</div>"
      ],
      "text/plain": [
       "    price vehicle_type  registration_year gearbox  power     model  kilometer  \\\n",
       "0     480          NaN               1993  manual      0      golf     150000   \n",
       "1   18300        coupe               2011  manual    190       NaN     125000   \n",
       "2    9800          suv               2004    auto    163     grand     125000   \n",
       "3    1500        small               2001  manual     75      golf     150000   \n",
       "4    3600        small               2008  manual     69     fabia      90000   \n",
       "5     650        sedan               1995  manual    102       3er     150000   \n",
       "6    2200  convertible               2004  manual    109   2_reihe     150000   \n",
       "7       0        sedan               1980  manual     50     other      40000   \n",
       "8   14500          bus               2014  manual    125     c_max      30000   \n",
       "9     999        small               1998  manual    101      golf     150000   \n",
       "10   2000        sedan               2004  manual    105   3_reihe     150000   \n",
       "11   2799        wagon               2005  manual    140    passat     150000   \n",
       "12    999        wagon               1995  manual    115    passat     150000   \n",
       "13   2500        wagon               2004  manual    131    passat     150000   \n",
       "14  17999          suv               2011  manual    190    navara      70000   \n",
       "15    450        small               1910     NaN      0        ka       5000   \n",
       "17   1750        small               2004    auto     75    twingo     150000   \n",
       "18   7550          bus               2007  manual    136     c_max     150000   \n",
       "19   1850          bus               2004  manual    102  a_klasse     150000   \n",
       "20  10400        coupe               2009  manual    160  scirocco     100000   \n",
       "\n",
       "   fuel_type          brand repaired  \n",
       "0     petrol     volkswagen      NaN  \n",
       "1   gasoline           audi      yes  \n",
       "2   gasoline           jeep      NaN  \n",
       "3     petrol     volkswagen       no  \n",
       "4   gasoline          skoda       no  \n",
       "5     petrol            bmw      yes  \n",
       "6     petrol        peugeot       no  \n",
       "7     petrol     volkswagen       no  \n",
       "8     petrol           ford      NaN  \n",
       "9        NaN     volkswagen      NaN  \n",
       "10    petrol          mazda       no  \n",
       "11  gasoline     volkswagen      yes  \n",
       "12    petrol     volkswagen      NaN  \n",
       "13       NaN     volkswagen       no  \n",
       "14  gasoline         nissan       no  \n",
       "15    petrol           ford      NaN  \n",
       "17    petrol        renault       no  \n",
       "18  gasoline           ford       no  \n",
       "19    petrol  mercedes_benz       no  \n",
       "20    petrol     volkswagen       no  "
      ]
     },
     "execution_count": 16,
     "metadata": {},
     "output_type": "execute_result"
    }
   ],
   "source": [
    "data.head(20)"
   ]
  },
  {
   "cell_type": "code",
   "execution_count": 17,
   "metadata": {},
   "outputs": [
    {
     "data": {
      "text/plain": [
       "petrol      213687\n",
       "gasoline     97814\n",
       "lpg           5254\n",
       "cng            561\n",
       "hybrid         230\n",
       "other          169\n",
       "electric        86\n",
       "Name: fuel_type, dtype: int64"
      ]
     },
     "execution_count": 17,
     "metadata": {},
     "output_type": "execute_result"
    }
   ],
   "source": [
    "# найдем уникальные значения столбца \"тип топлива\"\n",
    "data.fuel_type.value_counts()"
   ]
  },
  {
   "cell_type": "markdown",
   "metadata": {},
   "source": [
    "**Насколько я помню petrol и gasoline - слова обозначабщие бензин в UK и в USA, поэтому заменим gasoline**\n"
   ]
  },
  {
   "cell_type": "code",
   "execution_count": 18,
   "metadata": {
    "scrolled": true
   },
   "outputs": [],
   "source": [
    "# переименуем gasoline в petrol, поскольку оба означают \"бензин\"\n",
    "data['fuel_type'] = data['fuel_type'].replace('gasoline','petrol')"
   ]
  },
  {
   "cell_type": "code",
   "execution_count": 19,
   "metadata": {
    "scrolled": true
   },
   "outputs": [
    {
     "data": {
      "text/plain": [
       "petrol      311501\n",
       "lpg           5254\n",
       "cng            561\n",
       "hybrid         230\n",
       "other          169\n",
       "electric        86\n",
       "Name: fuel_type, dtype: int64"
      ]
     },
     "execution_count": 19,
     "metadata": {},
     "output_type": "execute_result"
    }
   ],
   "source": [
    "data.fuel_type.value_counts()"
   ]
  },
  {
   "cell_type": "code",
   "execution_count": 20,
   "metadata": {},
   "outputs": [],
   "source": [
    "# заполним пропуски значением other.\n",
    "data.fuel_type.fillna('other', inplace=True)"
   ]
  },
  {
   "cell_type": "code",
   "execution_count": 21,
   "metadata": {},
   "outputs": [
    {
     "data": {
      "text/plain": [
       "sedan          90870\n",
       "small          79059\n",
       "wagon          64683\n",
       "bus            28570\n",
       "convertible    20010\n",
       "coupe          15995\n",
       "suv            11896\n",
       "other           3136\n",
       "Name: vehicle_type, dtype: int64"
      ]
     },
     "execution_count": 21,
     "metadata": {},
     "output_type": "execute_result"
    }
   ],
   "source": [
    "# найдем уникальные значения в столбце \"тип кузова\"\n",
    "data.vehicle_type.value_counts()"
   ]
  },
  {
   "cell_type": "code",
   "execution_count": 22,
   "metadata": {},
   "outputs": [],
   "source": [
    "# поскольку нет возможности узнать тип кузова, заменим пропуски в этом столбце на other\n",
    "data.vehicle_type.fillna('other', inplace=True)"
   ]
  },
  {
   "cell_type": "code",
   "execution_count": 23,
   "metadata": {},
   "outputs": [
    {
     "data": {
      "text/plain": [
       "manual    262289\n",
       "auto       65098\n",
       "Name: gearbox, dtype: int64"
      ]
     },
     "execution_count": 23,
     "metadata": {},
     "output_type": "execute_result"
    }
   ],
   "source": [
    "# найдем уникальные значения стобца \"коробка передач\"\n",
    "data.gearbox.value_counts()"
   ]
  },
  {
   "cell_type": "code",
   "execution_count": 24,
   "metadata": {},
   "outputs": [],
   "source": [
    "# заполним пропуски значением \"unknown\"\n",
    "data.gearbox.fillna('unknown', inplace=True)"
   ]
  },
  {
   "cell_type": "code",
   "execution_count": 25,
   "metadata": {},
   "outputs": [],
   "source": [
    "# в столбце \"модель\" и \"был в ремонте\" тоже заполним пропуски на unknown\n",
    "data.model.fillna('unknown', inplace=True)"
   ]
  },
  {
   "cell_type": "code",
   "execution_count": 26,
   "metadata": {},
   "outputs": [],
   "source": [
    "data.repaired.fillna('unknown', inplace=True)"
   ]
  },
  {
   "cell_type": "code",
   "execution_count": 27,
   "metadata": {},
   "outputs": [
    {
     "data": {
      "text/plain": [
       "price                0\n",
       "vehicle_type         0\n",
       "registration_year    0\n",
       "gearbox              0\n",
       "power                0\n",
       "model                0\n",
       "kilometer            0\n",
       "fuel_type            0\n",
       "brand                0\n",
       "repaired             0\n",
       "dtype: int64"
      ]
     },
     "execution_count": 27,
     "metadata": {},
     "output_type": "execute_result"
    }
   ],
   "source": [
    "#проверим пропуски\n",
    "data.isna().sum()"
   ]
  },
  {
   "cell_type": "code",
   "execution_count": 28,
   "metadata": {},
   "outputs": [
    {
     "data": {
      "text/plain": [
       "array([1993, 2011, 2004, 2001, 2008, 1995, 1980, 2014, 1998, 2005, 1910,\n",
       "       2007, 2009, 2002, 2018, 1997, 1990, 2017, 1981, 2003, 2016, 1994,\n",
       "       1991, 1984, 2006, 1999, 2012, 2010, 2000, 1992, 2013, 1996, 1989,\n",
       "       2015, 1985, 1982, 1976, 1983, 1973, 1969, 1971, 1987, 1986, 1988,\n",
       "       1965, 1970, 1945, 1974, 1979, 1955, 1978, 1972, 1968, 1977, 1961,\n",
       "       1960, 1966, 1975, 1963, 1964, 1954, 1958, 1967, 1959, 1956, 1941,\n",
       "       1962, 1929, 1957, 1940, 1949, 1937, 1951, 1953, 2019, 2900, 6000,\n",
       "       1400, 1950, 4000, 1948, 1952, 1200, 1932, 3700, 5000, 1942, 1935,\n",
       "       1933, 1936, 6500, 1923, 1930, 1943, 1934, 1938, 9000, 1000, 1919,\n",
       "       1928, 1931, 1602, 1927, 1947, 1946, 7500, 1944, 1600])"
      ]
     },
     "execution_count": 28,
     "metadata": {},
     "output_type": "execute_result"
    }
   ],
   "source": [
    "# найдем уникальные значения в столбце \"год регистрации\"\n",
    "data['registration_year'].unique()"
   ]
  },
  {
   "cell_type": "markdown",
   "metadata": {},
   "source": [
    "Удалим все строки с годом после 2024, и, поскольку автомобили до 1900 года это скорее всего аномалии, удалим их тоже"
   ]
  },
  {
   "cell_type": "code",
   "execution_count": 29,
   "metadata": {},
   "outputs": [],
   "source": [
    "df = data.loc[(data['registration_year'] <= 2016) & (data['registration_year'] >= 1900)]"
   ]
  },
  {
   "cell_type": "code",
   "execution_count": 30,
   "metadata": {},
   "outputs": [
    {
     "data": {
      "text/plain": [
       "<AxesSubplot:>"
      ]
     },
     "execution_count": 30,
     "metadata": {},
     "output_type": "execute_result"
    },
    {
     "data": {
      "image/png": "[encoded data removed]",
      "text/plain": [
       "<Figure size 432x288 with 1 Axes>"
      ]
     },
     "metadata": {
      "needs_background": "light"
     },
     "output_type": "display_data"
    }
   ],
   "source": [
    "df['registration_year'].hist(bins = 100)"
   ]
  },
  {
   "cell_type": "code",
   "execution_count": 31,
   "metadata": {},
   "outputs": [
    {
     "data": {
      "text/plain": [
       "0        27732\n",
       "75       22234\n",
       "60       14739\n",
       "150      13922\n",
       "101      12496\n",
       "         ...  \n",
       "584          1\n",
       "15001        1\n",
       "8011         1\n",
       "1436         1\n",
       "2172         1\n",
       "Name: power, Length: 691, dtype: int64"
      ]
     },
     "execution_count": 31,
     "metadata": {},
     "output_type": "execute_result"
    }
   ],
   "source": [
    "# найдем уникальные значения в столбце \"мощность\"\n",
    "df['power'].value_counts()"
   ]
  },
  {
   "cell_type": "code",
   "execution_count": 32,
   "metadata": {},
   "outputs": [
    {
     "data": {
      "text/plain": [
       "<AxesSubplot:>"
      ]
     },
     "execution_count": 32,
     "metadata": {},
     "output_type": "execute_result"
    },
    {
     "data": {
      "image/png": "[encoded data removed]",
      "text/plain": [
       "<Figure size 432x288 with 1 Axes>"
      ]
     },
     "metadata": {
      "needs_background": "light"
     },
     "output_type": "display_data"
    }
   ],
   "source": [
    "df['power'].hist()"
   ]
  },
  {
   "cell_type": "code",
   "execution_count": 33,
   "metadata": {},
   "outputs": [],
   "source": [
    "# удалим аномалии - скорость больше 700 лошадиных сил\n",
    "df = df.loc[df['power'] <= 800]"
   ]
  },
  {
   "cell_type": "code",
   "execution_count": 34,
   "metadata": {},
   "outputs": [
    {
     "data": {
      "text/plain": [
       "<AxesSubplot:>"
      ]
     },
     "execution_count": 34,
     "metadata": {},
     "output_type": "execute_result"
    },
    {
     "data": {
      "image/png": "[encoded data removed]",
      "text/plain": [
       "<Figure size 432x288 with 1 Axes>"
      ]
     },
     "metadata": {
      "needs_background": "light"
     },
     "output_type": "display_data"
    }
   ],
   "source": [
    "df['power'].hist(bins = 50)"
   ]
  },
  {
   "cell_type": "code",
   "execution_count": 35,
   "metadata": {},
   "outputs": [],
   "source": [
    "# заменим нули медианой \n",
    "power_med = df['power'].median()"
   ]
  },
  {
   "cell_type": "code",
   "execution_count": 36,
   "metadata": {},
   "outputs": [],
   "source": [
    "df['power'] = df['power'].replace(0, power_med)"
   ]
  },
  {
   "cell_type": "code",
   "execution_count": 37,
   "metadata": {},
   "outputs": [
    {
     "data": {
      "text/plain": [
       "<AxesSubplot:>"
      ]
     },
     "execution_count": 37,
     "metadata": {},
     "output_type": "execute_result"
    },
    {
     "data": {
      "image/png": "[encoded data removed]",
      "text/plain": [
       "<Figure size 432x288 with 1 Axes>"
      ]
     },
     "metadata": {
      "needs_background": "light"
     },
     "output_type": "display_data"
    }
   ],
   "source": [
    "df['power'].hist(bins = 50)"
   ]
  },
  {
   "cell_type": "code",
   "execution_count": 38,
   "metadata": {},
   "outputs": [
    {
     "data": {
      "text/plain": [
       "0        7566\n",
       "500      5061\n",
       "1500     4863\n",
       "1200     4127\n",
       "2500     4085\n",
       "         ... \n",
       "1035        1\n",
       "5385        1\n",
       "15232       1\n",
       "6788        1\n",
       "8188        1\n",
       "Name: price, Length: 3651, dtype: int64"
      ]
     },
     "execution_count": 38,
     "metadata": {},
     "output_type": "execute_result"
    }
   ],
   "source": [
    "# проверим на аномалии значения столбца \"цена\"\n",
    "df['price'].value_counts()"
   ]
  },
  {
   "cell_type": "code",
   "execution_count": 39,
   "metadata": {},
   "outputs": [
    {
     "data": {
      "text/plain": [
       "<AxesSubplot:>"
      ]
     },
     "execution_count": 39,
     "metadata": {},
     "output_type": "execute_result"
    },
    {
     "data": {
      "image/png": "[encoded data removed]",
      "text/plain": [
       "<Figure size 432x288 with 1 Axes>"
      ]
     },
     "metadata": {
      "needs_background": "light"
     },
     "output_type": "display_data"
    }
   ],
   "source": [
    "df['price'].hist()"
   ]
  },
  {
   "cell_type": "code",
   "execution_count": 40,
   "metadata": {},
   "outputs": [],
   "source": [
    "# нулевых значений не так много. удалим их \n",
    "df = df.loc[df['price'] > 0]"
   ]
  },
  {
   "cell_type": "code",
   "execution_count": 41,
   "metadata": {},
   "outputs": [
    {
     "data": {
      "text/plain": [
       "500      5061\n",
       "1500     4863\n",
       "1200     4127\n",
       "2500     4085\n",
       "1000     4050\n",
       "         ... \n",
       "16430       1\n",
       "3003        1\n",
       "10375       1\n",
       "6785        1\n",
       "8188        1\n",
       "Name: price, Length: 3650, dtype: int64"
      ]
     },
     "execution_count": 41,
     "metadata": {},
     "output_type": "execute_result"
    }
   ],
   "source": [
    "df['price'].value_counts()"
   ]
  },
  {
   "cell_type": "code",
   "execution_count": 42,
   "metadata": {},
   "outputs": [
    {
     "data": {
      "text/html": [
       "<div>\n",
       "<style scoped>\n",
       "    .dataframe tbody tr th:only-of-type {\n",
       "        vertical-align: middle;\n",
       "    }\n",
       "\n",
       "    .dataframe tbody tr th {\n",
       "        vertical-align: top;\n",
       "    }\n",
       "\n",
       "    .dataframe thead th {\n",
       "        text-align: right;\n",
       "    }\n",
       "</style>\n",
       "<table border=\"1\" class=\"dataframe\">\n",
       "  <thead>\n",
       "    <tr style=\"text-align: right;\">\n",
       "      <th></th>\n",
       "      <th>price</th>\n",
       "      <th>vehicle_type</th>\n",
       "      <th>registration_year</th>\n",
       "      <th>gearbox</th>\n",
       "      <th>power</th>\n",
       "      <th>model</th>\n",
       "      <th>kilometer</th>\n",
       "      <th>fuel_type</th>\n",
       "      <th>brand</th>\n",
       "      <th>repaired</th>\n",
       "    </tr>\n",
       "  </thead>\n",
       "  <tbody>\n",
       "    <tr>\n",
       "      <th>0</th>\n",
       "      <td>480</td>\n",
       "      <td>other</td>\n",
       "      <td>1993</td>\n",
       "      <td>manual</td>\n",
       "      <td>105.0</td>\n",
       "      <td>golf</td>\n",
       "      <td>150000</td>\n",
       "      <td>petrol</td>\n",
       "      <td>volkswagen</td>\n",
       "      <td>unknown</td>\n",
       "    </tr>\n",
       "    <tr>\n",
       "      <th>1</th>\n",
       "      <td>18300</td>\n",
       "      <td>coupe</td>\n",
       "      <td>2011</td>\n",
       "      <td>manual</td>\n",
       "      <td>190.0</td>\n",
       "      <td>unknown</td>\n",
       "      <td>125000</td>\n",
       "      <td>petrol</td>\n",
       "      <td>audi</td>\n",
       "      <td>yes</td>\n",
       "    </tr>\n",
       "    <tr>\n",
       "      <th>2</th>\n",
       "      <td>9800</td>\n",
       "      <td>suv</td>\n",
       "      <td>2004</td>\n",
       "      <td>auto</td>\n",
       "      <td>163.0</td>\n",
       "      <td>grand</td>\n",
       "      <td>125000</td>\n",
       "      <td>petrol</td>\n",
       "      <td>jeep</td>\n",
       "      <td>unknown</td>\n",
       "    </tr>\n",
       "    <tr>\n",
       "      <th>3</th>\n",
       "      <td>1500</td>\n",
       "      <td>small</td>\n",
       "      <td>2001</td>\n",
       "      <td>manual</td>\n",
       "      <td>75.0</td>\n",
       "      <td>golf</td>\n",
       "      <td>150000</td>\n",
       "      <td>petrol</td>\n",
       "      <td>volkswagen</td>\n",
       "      <td>no</td>\n",
       "    </tr>\n",
       "    <tr>\n",
       "      <th>4</th>\n",
       "      <td>3600</td>\n",
       "      <td>small</td>\n",
       "      <td>2008</td>\n",
       "      <td>manual</td>\n",
       "      <td>69.0</td>\n",
       "      <td>fabia</td>\n",
       "      <td>90000</td>\n",
       "      <td>petrol</td>\n",
       "      <td>skoda</td>\n",
       "      <td>no</td>\n",
       "    </tr>\n",
       "  </tbody>\n",
       "</table>\n",
       "</div>"
      ],
      "text/plain": [
       "   price vehicle_type  registration_year gearbox  power    model  kilometer  \\\n",
       "0    480        other               1993  manual  105.0     golf     150000   \n",
       "1  18300        coupe               2011  manual  190.0  unknown     125000   \n",
       "2   9800          suv               2004    auto  163.0    grand     125000   \n",
       "3   1500        small               2001  manual   75.0     golf     150000   \n",
       "4   3600        small               2008  manual   69.0    fabia      90000   \n",
       "\n",
       "  fuel_type       brand repaired  \n",
       "0    petrol  volkswagen  unknown  \n",
       "1    petrol        audi      yes  \n",
       "2    petrol        jeep  unknown  \n",
       "3    petrol  volkswagen       no  \n",
       "4    petrol       skoda       no  "
      ]
     },
     "execution_count": 42,
     "metadata": {},
     "output_type": "execute_result"
    }
   ],
   "source": [
    "df.head()"
   ]
  },
  {
   "cell_type": "code",
   "execution_count": 43,
   "metadata": {},
   "outputs": [
    {
     "data": {
      "text/plain": [
       "42531"
      ]
     },
     "execution_count": 43,
     "metadata": {},
     "output_type": "execute_result"
    }
   ],
   "source": [
    "# проверим данные на дубликаты\n",
    "df.duplicated().sum()"
   ]
  },
  {
   "cell_type": "code",
   "execution_count": 44,
   "metadata": {},
   "outputs": [
    {
     "data": {
      "text/plain": [
       "0"
      ]
     },
     "execution_count": 44,
     "metadata": {},
     "output_type": "execute_result"
    }
   ],
   "source": [
    "#удалим дубликаты(с удалением старых индексов и формированием новых)\n",
    "df = df.drop_duplicates().reset_index(drop=True)\n",
    "df.duplicated().sum()#проверим"
   ]
  },
  {
   "cell_type": "code",
   "execution_count": 45,
   "metadata": {},
   "outputs": [
    {
     "name": "stdout",
     "output_type": "stream",
     "text": [
      "<class 'pandas.core.frame.DataFrame'>\n",
      "RangeIndex: 275505 entries, 0 to 275504\n",
      "Data columns (total 10 columns):\n",
      " #   Column             Non-Null Count   Dtype  \n",
      "---  ------             --------------   -----  \n",
      " 0   price              275505 non-null  int64  \n",
      " 1   vehicle_type       275505 non-null  object \n",
      " 2   registration_year  275505 non-null  int64  \n",
      " 3   gearbox            275505 non-null  object \n",
      " 4   power              275505 non-null  float64\n",
      " 5   model              275505 non-null  object \n",
      " 6   kilometer          275505 non-null  int64  \n",
      " 7   fuel_type          275505 non-null  object \n",
      " 8   brand              275505 non-null  object \n",
      " 9   repaired           275505 non-null  object \n",
      "dtypes: float64(1), int64(3), object(6)\n",
      "memory usage: 21.0+ MB\n"
     ]
    }
   ],
   "source": [
    "df.info()"
   ]
  },
  {
   "cell_type": "markdown",
   "metadata": {},
   "source": [
    "**Вывод**  \n",
    "В этом разделе мы произвели предобработку данных. На входе мы получили таблицу с более чем 350 тыс. строк и 16 столбцами. Мы перевели названия столбцов в более удобочитаемый нижний и змеиный регистр, удалили неинформативные столбцы, заполнили пропуски, избавились от аномалий. Удалили дубликаты и перевели категориальные значения столбцов в количественные. В итоге у нас образовалась таблица в 284 тыс. строк и 10 столбцов."
   ]
  },
  {
   "cell_type": "code",
   "execution_count": 46,
   "metadata": {},
   "outputs": [
    {
     "data": {
      "text/plain": [
       "<AxesSubplot:>"
      ]
     },
     "execution_count": 46,
     "metadata": {},
     "output_type": "execute_result"
    },
    {
     "data": {
      "image/png": "[encoded data removed]",
      "text/plain": [
       "<Figure size 432x288 with 2 Axes>"
      ]
     },
     "metadata": {
      "needs_background": "light"
     },
     "output_type": "display_data"
    }
   ],
   "source": [
    "sns.heatmap(df.corr(), annot=True, linewidths=3, linecolor='white')"
   ]
  },
  {
   "cell_type": "markdown",
   "metadata": {},
   "source": [
    "По таблиице видно, что наблюадется средняя корреляция между мощностью от цены и датой регистрации авто от цены. Также наблюдается обратная корреляция цены от пробега автомобился.\n",
    "\n",
    "Что в целом логично, чем больше мощность авто - тем больше цена. И также с пробегом: чем больше пробег - тем цена должна уменьшаться"
   ]
  },
  {
   "cell_type": "markdown",
   "metadata": {},
   "source": [
    "## Обучение моделей"
   ]
  },
  {
   "cell_type": "markdown",
   "metadata": {},
   "source": [
    "Проверим модели на 2 разных датасетов с различными способами кодировки:\n",
    "\n",
    "1. Ordinal Encoding\n",
    "2. One-Hot Enconding"
   ]
  },
  {
   "cell_type": "code",
   "execution_count": 47,
   "metadata": {},
   "outputs": [
    {
     "data": {
      "text/html": [
       "<div>\n",
       "<style scoped>\n",
       "    .dataframe tbody tr th:only-of-type {\n",
       "        vertical-align: middle;\n",
       "    }\n",
       "\n",
       "    .dataframe tbody tr th {\n",
       "        vertical-align: top;\n",
       "    }\n",
       "\n",
       "    .dataframe thead th {\n",
       "        text-align: right;\n",
       "    }\n",
       "</style>\n",
       "<table border=\"1\" class=\"dataframe\">\n",
       "  <thead>\n",
       "    <tr style=\"text-align: right;\">\n",
       "      <th></th>\n",
       "      <th>price</th>\n",
       "      <th>vehicle_type</th>\n",
       "      <th>registration_year</th>\n",
       "      <th>gearbox</th>\n",
       "      <th>power</th>\n",
       "      <th>model</th>\n",
       "      <th>kilometer</th>\n",
       "      <th>fuel_type</th>\n",
       "      <th>brand</th>\n",
       "      <th>repaired</th>\n",
       "    </tr>\n",
       "  </thead>\n",
       "  <tbody>\n",
       "    <tr>\n",
       "      <th>0</th>\n",
       "      <td>480</td>\n",
       "      <td>other</td>\n",
       "      <td>1993</td>\n",
       "      <td>manual</td>\n",
       "      <td>105.0</td>\n",
       "      <td>golf</td>\n",
       "      <td>150000</td>\n",
       "      <td>petrol</td>\n",
       "      <td>volkswagen</td>\n",
       "      <td>unknown</td>\n",
       "    </tr>\n",
       "    <tr>\n",
       "      <th>1</th>\n",
       "      <td>18300</td>\n",
       "      <td>coupe</td>\n",
       "      <td>2011</td>\n",
       "      <td>manual</td>\n",
       "      <td>190.0</td>\n",
       "      <td>unknown</td>\n",
       "      <td>125000</td>\n",
       "      <td>petrol</td>\n",
       "      <td>audi</td>\n",
       "      <td>yes</td>\n",
       "    </tr>\n",
       "    <tr>\n",
       "      <th>2</th>\n",
       "      <td>9800</td>\n",
       "      <td>suv</td>\n",
       "      <td>2004</td>\n",
       "      <td>auto</td>\n",
       "      <td>163.0</td>\n",
       "      <td>grand</td>\n",
       "      <td>125000</td>\n",
       "      <td>petrol</td>\n",
       "      <td>jeep</td>\n",
       "      <td>unknown</td>\n",
       "    </tr>\n",
       "    <tr>\n",
       "      <th>3</th>\n",
       "      <td>1500</td>\n",
       "      <td>small</td>\n",
       "      <td>2001</td>\n",
       "      <td>manual</td>\n",
       "      <td>75.0</td>\n",
       "      <td>golf</td>\n",
       "      <td>150000</td>\n",
       "      <td>petrol</td>\n",
       "      <td>volkswagen</td>\n",
       "      <td>no</td>\n",
       "    </tr>\n",
       "    <tr>\n",
       "      <th>4</th>\n",
       "      <td>3600</td>\n",
       "      <td>small</td>\n",
       "      <td>2008</td>\n",
       "      <td>manual</td>\n",
       "      <td>69.0</td>\n",
       "      <td>fabia</td>\n",
       "      <td>90000</td>\n",
       "      <td>petrol</td>\n",
       "      <td>skoda</td>\n",
       "      <td>no</td>\n",
       "    </tr>\n",
       "  </tbody>\n",
       "</table>\n",
       "</div>"
      ],
      "text/plain": [
       "   price vehicle_type  registration_year gearbox  power    model  kilometer  \\\n",
       "0    480        other               1993  manual  105.0     golf     150000   \n",
       "1  18300        coupe               2011  manual  190.0  unknown     125000   \n",
       "2   9800          suv               2004    auto  163.0    grand     125000   \n",
       "3   1500        small               2001  manual   75.0     golf     150000   \n",
       "4   3600        small               2008  manual   69.0    fabia      90000   \n",
       "\n",
       "  fuel_type       brand repaired  \n",
       "0    petrol  volkswagen  unknown  \n",
       "1    petrol        audi      yes  \n",
       "2    petrol        jeep  unknown  \n",
       "3    petrol  volkswagen       no  \n",
       "4    petrol       skoda       no  "
      ]
     },
     "execution_count": 47,
     "metadata": {},
     "output_type": "execute_result"
    }
   ],
   "source": [
    "df.head()"
   ]
  },
  {
   "cell_type": "code",
   "execution_count": 48,
   "metadata": {},
   "outputs": [],
   "source": [
    "oh_encoder = OneHotEncoder(drop = 'first', handle_unknown='ignore', sparse_output=False)\n",
    "standard_scaler = StandardScaler()\n",
    "ord_encoder = OrdinalEncoder( dtype=int)"
   ]
  },
  {
   "cell_type": "code",
   "execution_count": 49,
   "metadata": {},
   "outputs": [],
   "source": [
    "ohe_column = ['vehicle_type', 'gearbox',  'fuel_type',  'repaired','brand','model']\n",
    "standart_column = ['registration_year', 'power', 'kilometer']"
   ]
  },
  {
   "cell_type": "code",
   "execution_count": 50,
   "metadata": {},
   "outputs": [],
   "source": [
    "X = df.drop('price', axis=1)\n",
    "y = df['price']\n",
    "RANDOM_STATE = 42\n",
    "\n",
    "X_train, X_test, y_train, y_test = train_test_split(X, y,\n",
    "  test_size=0.2,\n",
    "  random_state=RANDOM_STATE)"
   ]
  },
  {
   "cell_type": "code",
   "execution_count": 51,
   "metadata": {},
   "outputs": [],
   "source": [
    "# Преобразование категориальных признаков\n",
    "X_train_encoded_class = oh_encoder.fit_transform(X_train[ohe_column])\n",
    "X_test_encoded_class = oh_encoder.transform(X_test[ohe_column])\n",
    "\n",
    "\n",
    "# Масштабирование количественных признаков\n",
    "X_train_scaled_class = standard_scaler.fit_transform(X_train[standart_column])\n",
    "X_test_scaled_class = standard_scaler.transform(X_test[standart_column])\n",
    "\n",
    "\n",
    "X_train_full_lin = np.hstack((X_train_encoded_class, X_train_scaled_class))\n",
    "X_test_full_lin = np.hstack((X_test_encoded_class, X_test_scaled_class))"
   ]
  },
  {
   "cell_type": "code",
   "execution_count": 52,
   "metadata": {},
   "outputs": [],
   "source": [
    "scorer = make_scorer(mean_squared_error, greater_is_better=False)"
   ]
  },
  {
   "cell_type": "markdown",
   "metadata": {},
   "source": [
    "**LinearRegression**"
   ]
  },
  {
   "cell_type": "code",
   "execution_count": 53,
   "metadata": {},
   "outputs": [
    {
     "name": "stderr",
     "output_type": "stream",
     "text": [
      "/opt/conda/lib/python3.9/site-packages/sklearn/model_selection/_search.py:318: UserWarning: The total space of parameters 4 is smaller than n_iter=10. Running 4 iterations. For exhaustive searches, use GridSearchCV.\n",
      "  warnings.warn(\n"
     ]
    },
    {
     "name": "stdout",
     "output_type": "stream",
     "text": [
      "CPU times: user 4min 35s, sys: 2min 12s, total: 6min 47s\n",
      "Wall time: 6min 50s\n"
     ]
    }
   ],
   "source": [
    "%%time\n",
    "model_lr = LinearRegression()\n",
    "\n",
    "parameters = {'fit_intercept': [True, False],\n",
    "              'copy_X': [True, False]}\n",
    "\n",
    "\n",
    "\n",
    "rs_lr = RandomizedSearchCV(\n",
    "    model_lr,\n",
    "    parameters,\n",
    "    n_jobs=-1,\n",
    "    cv=5,\n",
    "    scoring = scorer,\n",
    "    random_state=RANDOM_STATE)\n",
    "\n",
    "\n",
    "start = time.time()\n",
    "\n",
    "rs_lr.fit(X_train_full_lin, y_train)\n",
    "\n",
    "end = time.time()\n",
    "\n",
    "\n",
    "best_params_lr = rs_lr.best_params_\n",
    "best_score_lr = round((-1 * rs_lr.best_score_)**0.5)\n",
    "time_fit_lr = start-end"
   ]
  },
  {
   "cell_type": "code",
   "execution_count": 54,
   "metadata": {},
   "outputs": [
    {
     "name": "stdout",
     "output_type": "stream",
     "text": [
      "Лучшие параметры модели:{'fit_intercept': True, 'copy_X': True}\n",
      "\n",
      " Лучшая метрика модели: 2724\n",
      "\n",
      " Время обучения модели -410.0269069671631\n"
     ]
    }
   ],
   "source": [
    "print(f\"Лучшие параметры модели:{best_params_lr}\\n\\n Лучшая метрика модели: {best_score_lr}\\n\\n Время обучения модели {time_fit_lr}\")"
   ]
  },
  {
   "cell_type": "code",
   "execution_count": 55,
   "metadata": {},
   "outputs": [],
   "source": [
    "best_model_lr = LinearRegression(fit_intercept = True, copy_X = True)"
   ]
  },
  {
   "cell_type": "code",
   "execution_count": 56,
   "metadata": {},
   "outputs": [],
   "source": [
    "start = time.time()\n",
    "\n",
    "best_model_lr.fit(X_train_full_lin, y_train)\n",
    "\n",
    "end = time.time()\n",
    "\n",
    "time_fit_lr = end-start"
   ]
  },
  {
   "cell_type": "code",
   "execution_count": 57,
   "metadata": {},
   "outputs": [],
   "source": [
    "best_model_lr_pred = best_model_lr.predict(X_train_full_lin)\n",
    "start = time.time()\n",
    "\n",
    "best_model_lr.predict(X_train_full_lin)\n",
    "\n",
    "end = time.time()\n",
    "\n",
    "time_pred_lr = end-start"
   ]
  },
  {
   "cell_type": "code",
   "execution_count": 58,
   "metadata": {},
   "outputs": [
    {
     "data": {
      "text/html": [
       "<div>\n",
       "<style scoped>\n",
       "    .dataframe tbody tr th:only-of-type {\n",
       "        vertical-align: middle;\n",
       "    }\n",
       "\n",
       "    .dataframe tbody tr th {\n",
       "        vertical-align: top;\n",
       "    }\n",
       "\n",
       "    .dataframe thead th {\n",
       "        text-align: right;\n",
       "    }\n",
       "</style>\n",
       "<table border=\"1\" class=\"dataframe\">\n",
       "  <thead>\n",
       "    <tr style=\"text-align: right;\">\n",
       "      <th></th>\n",
       "      <th>fit_time</th>\n",
       "      <th>pred_time</th>\n",
       "      <th>rmse</th>\n",
       "    </tr>\n",
       "  </thead>\n",
       "  <tbody>\n",
       "    <tr>\n",
       "      <th>LinearRegression</th>\n",
       "      <td>18.847027</td>\n",
       "      <td>0.299473</td>\n",
       "      <td>2724.0</td>\n",
       "    </tr>\n",
       "  </tbody>\n",
       "</table>\n",
       "</div>"
      ],
      "text/plain": [
       "                   fit_time  pred_time    rmse\n",
       "LinearRegression  18.847027   0.299473  2724.0"
      ]
     },
     "execution_count": 58,
     "metadata": {},
     "output_type": "execute_result"
    }
   ],
   "source": [
    "models_compares = {\n",
    "    'LinearRegression': {\n",
    "        'fit_time': time_fit_lr,\n",
    "        'pred_time': time_pred_lr,\n",
    "        'rmse': best_score_lr,\n",
    "    },\n",
    "}\n",
    "models_statistics = pd.DataFrame(models_compares).T\n",
    "models_statistics"
   ]
  },
  {
   "cell_type": "markdown",
   "metadata": {},
   "source": [
    "**Модель CatBoostRegressor()**"
   ]
  },
  {
   "cell_type": "code",
   "execution_count": 59,
   "metadata": {},
   "outputs": [],
   "source": [
    "standart_column = ['registration_year', 'power', 'kilometer']\n",
    "ord_column = ['brand','model','vehicle_type', 'gearbox',  'fuel_type',  'repaired']"
   ]
  },
  {
   "cell_type": "code",
   "execution_count": 60,
   "metadata": {},
   "outputs": [],
   "source": [
    "# Масштабирование количественных признаков\n",
    "X_train_scaled_class = standard_scaler.fit_transform(X_train[standart_column])\n",
    "X_test_scaled_class = standard_scaler.transform(X_test[standart_column])\n",
    "\n",
    "# Преобразование категориальных признаков\n",
    "X_train_ord_class = ord_encoder.fit_transform(X_train[ord_column])\n",
    "X_test_ord_class = ord_encoder.transform(X_test[ord_column])\n",
    "\n",
    "\n",
    "X_train_full_ord = np.hstack((X_train_scaled_class, X_train_ord_class))\n",
    "X_test_full_ord = np.hstack((X_test_scaled_class, X_test_ord_class))\n"
   ]
  },
  {
   "cell_type": "code",
   "execution_count": 61,
   "metadata": {},
   "outputs": [
    {
     "name": "stdout",
     "output_type": "stream",
     "text": [
      "CPU times: user 1min 49s, sys: 0 ns, total: 1min 49s\n",
      "Wall time: 2min 11s\n"
     ]
    }
   ],
   "source": [
    "%%time\n",
    "model_CBR = CatBoostRegressor(random_state=RANDOM_STATE, verbose=False)\n",
    "\n",
    "param_CBR = {'learning_rate': [0.01, 0.05, 0.1],\n",
    "    'depth': [4, 6, 8],\n",
    "    'l2_leaf_reg': [1, 3, 5],\n",
    "    'iterations': [100, 200, 300]\n",
    "}\n",
    "\n",
    "rs_CBR = RandomizedSearchCV(\n",
    "    model_CBR ,\n",
    "    param_CBR,\n",
    "    n_jobs=-1,\n",
    "    cv=3,\n",
    "    scoring = scorer,\n",
    "    random_state=RANDOM_STATE)\n",
    "\n",
    "\n",
    "start = time.time()\n",
    "\n",
    "rs_CBR.fit(X_train_full_ord, y_train)\n",
    "\n",
    "end = time.time()\n",
    "\n",
    "\n",
    "best_params_CBR = rs_CBR.best_params_\n",
    "best_score_CBR = round((-1 * rs_CBR.best_score_)**0.5)\n",
    "time_CBR = start-end"
   ]
  },
  {
   "cell_type": "code",
   "execution_count": 62,
   "metadata": {},
   "outputs": [
    {
     "name": "stdout",
     "output_type": "stream",
     "text": [
      "Лучшие параметры модели:{'learning_rate': 0.05, 'l2_leaf_reg': 5, 'iterations': 200, 'depth': 8}\n",
      "\n",
      " Лучшая метрика модели: 1800\n",
      "\n",
      " Время обучения модели -131.71662545204163\n"
     ]
    }
   ],
   "source": [
    "print(f\"Лучшие параметры модели:{best_params_CBR}\\n\\n Лучшая метрика модели: {best_score_CBR}\\n\\n Время обучения модели {time_CBR}\")"
   ]
  },
  {
   "cell_type": "code",
   "execution_count": 63,
   "metadata": {},
   "outputs": [],
   "source": [
    "best_model_CBR = CatBoostRegressor(random_state=RANDOM_STATE, verbose=False, learning_rate = 0.1, l2_leaf_reg = 5, iterations = 300, depth = 8)"
   ]
  },
  {
   "cell_type": "code",
   "execution_count": 64,
   "metadata": {},
   "outputs": [
    {
     "name": "stdout",
     "output_type": "stream",
     "text": [
      "CPU times: user 10.6 s, sys: 0 ns, total: 10.6 s\n",
      "Wall time: 11.4 s\n"
     ]
    }
   ],
   "source": [
    "%%time\n",
    "\n",
    "start = time.time()\n",
    "\n",
    "best_model_CBR.fit(X_train_full_ord, y_train)\n",
    "\n",
    "end = time.time()\n",
    "\n",
    "time_fit_CBR = end-start"
   ]
  },
  {
   "cell_type": "code",
   "execution_count": 65,
   "metadata": {},
   "outputs": [
    {
     "name": "stdout",
     "output_type": "stream",
     "text": [
      "CPU times: user 1.15 s, sys: 0 ns, total: 1.15 s\n",
      "Wall time: 1.15 s\n"
     ]
    }
   ],
   "source": [
    "%%time\n",
    "best_model_CBR_pred = best_model_CBR.predict(X_train_full_ord)\n",
    "\n",
    "start = time.time()\n",
    "\n",
    "best_model_CBR.predict(X_train_full_ord)\n",
    "\n",
    "end = time.time()\n",
    "\n",
    "time_pred_CBR = end=start"
   ]
  },
  {
   "cell_type": "code",
   "execution_count": 66,
   "metadata": {
    "scrolled": true
   },
   "outputs": [
    {
     "data": {
      "text/html": [
       "<div>\n",
       "<style scoped>\n",
       "    .dataframe tbody tr th:only-of-type {\n",
       "        vertical-align: middle;\n",
       "    }\n",
       "\n",
       "    .dataframe tbody tr th {\n",
       "        vertical-align: top;\n",
       "    }\n",
       "\n",
       "    .dataframe thead th {\n",
       "        text-align: right;\n",
       "    }\n",
       "</style>\n",
       "<table border=\"1\" class=\"dataframe\">\n",
       "  <thead>\n",
       "    <tr style=\"text-align: right;\">\n",
       "      <th></th>\n",
       "      <th>fit_time</th>\n",
       "      <th>pred_time</th>\n",
       "      <th>rmse</th>\n",
       "    </tr>\n",
       "  </thead>\n",
       "  <tbody>\n",
       "    <tr>\n",
       "      <th>LinearRegression</th>\n",
       "      <td>18.847027</td>\n",
       "      <td>2.994730e-01</td>\n",
       "      <td>2724.0</td>\n",
       "    </tr>\n",
       "    <tr>\n",
       "      <th>CatBoostRegressor</th>\n",
       "      <td>11.350240</td>\n",
       "      <td>1.716240e+09</td>\n",
       "      <td>1800.0</td>\n",
       "    </tr>\n",
       "  </tbody>\n",
       "</table>\n",
       "</div>"
      ],
      "text/plain": [
       "                    fit_time     pred_time    rmse\n",
       "LinearRegression   18.847027  2.994730e-01  2724.0\n",
       "CatBoostRegressor  11.350240  1.716240e+09  1800.0"
      ]
     },
     "execution_count": 66,
     "metadata": {},
     "output_type": "execute_result"
    }
   ],
   "source": [
    "models_compares['CatBoostRegressor'] = {\n",
    "        'fit_time': time_fit_CBR,\n",
    "        'pred_time' : time_pred_CBR,\n",
    "        'rmse': best_score_CBR\n",
    "    }\n",
    "models_statistics = pd.DataFrame(models_compares).T\n",
    "models_statistics"
   ]
  },
  {
   "cell_type": "markdown",
   "metadata": {},
   "source": [
    "**LightGBM**"
   ]
  },
  {
   "cell_type": "code",
   "execution_count": 1,
   "metadata": {},
   "outputs": [
    {
     "ename": "NameError",
     "evalue": "name 'LGBMRegressor' is not defined",
     "output_type": "error",
     "traceback": [
      "\u001b[0;31m---------------------------------------------------------------------------\u001b[0m",
      "\u001b[0;31mNameError\u001b[0m                                 Traceback (most recent call last)",
      "\u001b[0;32m<timed exec>\u001b[0m in \u001b[0;36m<module>\u001b[0;34m\u001b[0m\n",
      "\u001b[0;31mNameError\u001b[0m: name 'LGBMRegressor' is not defined"
     ]
    }
   ],
   "source": [
    "%%time\n",
    "model_LGBMR = LGBMRegressor(random_state=RANDOM_STATE)\n",
    "\n",
    "param_LGBMR = {\n",
    "    'n_estimators': [200, 300],\n",
    "    'learning_rate': [0.1, 0.2],\n",
    "    'max_depth': [5, 7]\n",
    "}\n",
    "\n",
    "rs_LGBMR = RandomizedSearchCV(\n",
    "    model_LGBMR ,\n",
    "    param_LGBMR,\n",
    "    n_jobs=-1,\n",
    "    cv=3,\n",
    "    scoring = scorer,\n",
    "    random_state=RANDOM_STATE)\n",
    "\n",
    "\n",
    "start = time.time()\n",
    "\n",
    "rs_LGBMR.fit(X_train_full_ord, y_train)\n",
    "\n",
    "end = time.time()\n",
    "\n",
    "\n",
    "best_params_LGBMR = rs_LGBMR.best_params_\n",
    "best_score_LGBMR = round((-1 * rs_LGBMR.best_score_)**0.5)\n",
    "time_LGBMR = end-start\n",
    "\n",
    "print(f\"Лучшие параметры модели:{best_params_LGBMR}\\n\\n Лучшая метрика модели: {best_score_LGBMR}\\n\\n Время обучения модели {time_LGBMR}\")"
   ]
  },
  {
   "cell_type": "code",
   "execution_count": 68,
   "metadata": {},
   "outputs": [],
   "source": [
    "best_model_LGBMR = LGBMRegressor(random_state=RANDOM_STATE, n_estimators = 300, max_depth = 7, learning_rate = 0.2)"
   ]
  },
  {
   "cell_type": "code",
   "execution_count": 69,
   "metadata": {},
   "outputs": [
    {
     "name": "stdout",
     "output_type": "stream",
     "text": [
      "CPU times: user 14.3 s, sys: 0 ns, total: 14.3 s\n",
      "Wall time: 14.4 s\n"
     ]
    }
   ],
   "source": [
    "%%time\n",
    "start = time.time()\n",
    "\n",
    "best_model_LGBMR.fit(X_train_full_ord, y_train)\n",
    "\n",
    "end = time.time()\n",
    "\n",
    "time_fit_LGBMR = end-start"
   ]
  },
  {
   "cell_type": "code",
   "execution_count": 70,
   "metadata": {},
   "outputs": [
    {
     "name": "stdout",
     "output_type": "stream",
     "text": [
      "CPU times: user 7.18 s, sys: 0 ns, total: 7.18 s\n",
      "Wall time: 7.21 s\n"
     ]
    }
   ],
   "source": [
    "%%time\n",
    "best_model_LGBMR_pred = best_model_LGBMR.predict(X_train_full_ord)\n",
    "\n",
    "start = time.time()\n",
    "\n",
    "best_model_LGBMR.predict(X_train_full_ord)\n",
    "\n",
    "end = time.time()\n",
    "\n",
    "time_pred_LGBMR =end-start"
   ]
  },
  {
   "cell_type": "code",
   "execution_count": 71,
   "metadata": {},
   "outputs": [
    {
     "data": {
      "text/html": [
       "<div>\n",
       "<style scoped>\n",
       "    .dataframe tbody tr th:only-of-type {\n",
       "        vertical-align: middle;\n",
       "    }\n",
       "\n",
       "    .dataframe tbody tr th {\n",
       "        vertical-align: top;\n",
       "    }\n",
       "\n",
       "    .dataframe thead th {\n",
       "        text-align: right;\n",
       "    }\n",
       "</style>\n",
       "<table border=\"1\" class=\"dataframe\">\n",
       "  <thead>\n",
       "    <tr style=\"text-align: right;\">\n",
       "      <th></th>\n",
       "      <th>fit_time</th>\n",
       "      <th>pred_time</th>\n",
       "      <th>rmse</th>\n",
       "    </tr>\n",
       "  </thead>\n",
       "  <tbody>\n",
       "    <tr>\n",
       "      <th>LinearRegression</th>\n",
       "      <td>18.847027</td>\n",
       "      <td>2.994730e-01</td>\n",
       "      <td>2724.0</td>\n",
       "    </tr>\n",
       "    <tr>\n",
       "      <th>CatBoostRegressor</th>\n",
       "      <td>11.350240</td>\n",
       "      <td>1.716240e+09</td>\n",
       "      <td>1800.0</td>\n",
       "    </tr>\n",
       "    <tr>\n",
       "      <th>LGBMRegressor</th>\n",
       "      <td>14.408500</td>\n",
       "      <td>3.514341e+00</td>\n",
       "      <td>1664.0</td>\n",
       "    </tr>\n",
       "  </tbody>\n",
       "</table>\n",
       "</div>"
      ],
      "text/plain": [
       "                    fit_time     pred_time    rmse\n",
       "LinearRegression   18.847027  2.994730e-01  2724.0\n",
       "CatBoostRegressor  11.350240  1.716240e+09  1800.0\n",
       "LGBMRegressor      14.408500  3.514341e+00  1664.0"
      ]
     },
     "execution_count": 71,
     "metadata": {},
     "output_type": "execute_result"
    }
   ],
   "source": [
    "models_compares['LGBMRegressor'] = {\n",
    "        'fit_time': time_fit_LGBMR,\n",
    "        'pred_time' : time_pred_LGBMR,\n",
    "        'rmse': best_score_LGBMR\n",
    "    }\n",
    "models_statistics = pd.DataFrame(models_compares).T\n",
    "models_statistics"
   ]
  },
  {
   "cell_type": "markdown",
   "metadata": {},
   "source": [
    "**RandomForestRegressor**"
   ]
  },
  {
   "cell_type": "code",
   "execution_count": 72,
   "metadata": {},
   "outputs": [
    {
     "name": "stdout",
     "output_type": "stream",
     "text": [
      "Лучшие параметры модели:{'min_samples_split': 2, 'max_depth': 9}\n",
      "\n",
      " Лучшая метрика модели: 2009\n",
      "\n",
      " Время обучения модели 371.7751145362854\n",
      "CPU times: user 6min 11s, sys: 0 ns, total: 6min 11s\n",
      "Wall time: 6min 11s\n"
     ]
    }
   ],
   "source": [
    "%%time\n",
    "\n",
    "model_RFR = RandomForestRegressor(random_state = RANDOM_STATE)\n",
    "\n",
    "param_RFR = {\n",
    "        'max_depth': range(4,10),\n",
    "        'min_samples_split': range(2, 5)\n",
    "    }\n",
    "rs_RFR = RandomizedSearchCV(\n",
    "    model_RFR,\n",
    "    param_RFR,\n",
    "    n_jobs=-1,\n",
    "    cv=3,\n",
    "    scoring = scorer,\n",
    "    random_state=RANDOM_STATE)\n",
    "\n",
    "\n",
    "start = time.time()\n",
    "\n",
    "rs_RFR.fit(X_train_full_ord, y_train)\n",
    "\n",
    "end = time.time()\n",
    "\n",
    "\n",
    "best_params_RFR = rs_RFR.best_params_\n",
    "best_score_RFR = round((-1 * rs_RFR.best_score_)**0.5)\n",
    "time_RFR = end-start\n",
    "\n",
    "print(f\"Лучшие параметры модели:{best_params_RFR}\\n\\n Лучшая метрика модели: {best_score_RFR}\\n\\n Время обучения модели {time_RFR}\")"
   ]
  },
  {
   "cell_type": "code",
   "execution_count": 73,
   "metadata": {},
   "outputs": [],
   "source": [
    "best_model_RFR = RandomForestRegressor(random_state = RANDOM_STATE, min_samples_split = 3, max_depth = 9)"
   ]
  },
  {
   "cell_type": "code",
   "execution_count": 74,
   "metadata": {},
   "outputs": [
    {
     "name": "stdout",
     "output_type": "stream",
     "text": [
      "CPU times: user 23.1 s, sys: 0 ns, total: 23.1 s\n",
      "Wall time: 23.1 s\n"
     ]
    }
   ],
   "source": [
    "%%time\n",
    "start = time.time()\n",
    "\n",
    "best_model_RFR.fit(X_train_full_ord, y_train)\n",
    "\n",
    "end = time.time()\n",
    "\n",
    "time_fit_RFR = end-start"
   ]
  },
  {
   "cell_type": "code",
   "execution_count": 75,
   "metadata": {},
   "outputs": [
    {
     "name": "stdout",
     "output_type": "stream",
     "text": [
      "CPU times: user 2.97 s, sys: 0 ns, total: 2.97 s\n",
      "Wall time: 2.97 s\n"
     ]
    }
   ],
   "source": [
    "%%time\n",
    "best_model_RFR_pred = best_model_RFR.predict(X_train_full_ord)\n",
    "\n",
    "start = time.time()\n",
    "\n",
    "best_model_RFR.predict(X_train_full_ord)\n",
    "\n",
    "end = time.time()\n",
    "\n",
    "time_pred_RFR = end-start"
   ]
  },
  {
   "cell_type": "code",
   "execution_count": 76,
   "metadata": {},
   "outputs": [
    {
     "data": {
      "text/html": [
       "<div>\n",
       "<style scoped>\n",
       "    .dataframe tbody tr th:only-of-type {\n",
       "        vertical-align: middle;\n",
       "    }\n",
       "\n",
       "    .dataframe tbody tr th {\n",
       "        vertical-align: top;\n",
       "    }\n",
       "\n",
       "    .dataframe thead th {\n",
       "        text-align: right;\n",
       "    }\n",
       "</style>\n",
       "<table border=\"1\" class=\"dataframe\">\n",
       "  <thead>\n",
       "    <tr style=\"text-align: right;\">\n",
       "      <th></th>\n",
       "      <th>fit_time</th>\n",
       "      <th>pred_time</th>\n",
       "      <th>rmse</th>\n",
       "    </tr>\n",
       "  </thead>\n",
       "  <tbody>\n",
       "    <tr>\n",
       "      <th>LinearRegression</th>\n",
       "      <td>18.847027</td>\n",
       "      <td>2.994730e-01</td>\n",
       "      <td>2724.0</td>\n",
       "    </tr>\n",
       "    <tr>\n",
       "      <th>CatBoostRegressor</th>\n",
       "      <td>11.350240</td>\n",
       "      <td>1.716240e+09</td>\n",
       "      <td>1800.0</td>\n",
       "    </tr>\n",
       "    <tr>\n",
       "      <th>LGBMRegressor</th>\n",
       "      <td>14.408500</td>\n",
       "      <td>3.514341e+00</td>\n",
       "      <td>1664.0</td>\n",
       "    </tr>\n",
       "    <tr>\n",
       "      <th>RFRegressor</th>\n",
       "      <td>23.115695</td>\n",
       "      <td>1.490621e+00</td>\n",
       "      <td>2009.0</td>\n",
       "    </tr>\n",
       "  </tbody>\n",
       "</table>\n",
       "</div>"
      ],
      "text/plain": [
       "                    fit_time     pred_time    rmse\n",
       "LinearRegression   18.847027  2.994730e-01  2724.0\n",
       "CatBoostRegressor  11.350240  1.716240e+09  1800.0\n",
       "LGBMRegressor      14.408500  3.514341e+00  1664.0\n",
       "RFRegressor        23.115695  1.490621e+00  2009.0"
      ]
     },
     "execution_count": 76,
     "metadata": {},
     "output_type": "execute_result"
    }
   ],
   "source": [
    "models_compares['RFRegressor'] = {\n",
    "        'fit_time': time_fit_RFR,\n",
    "        'pred_time' :time_pred_RFR,\n",
    "        'rmse':best_score_RFR\n",
    "    }\n",
    "models_statistics = pd.DataFrame(models_compares).T\n",
    "models_statistics"
   ]
  },
  {
   "cell_type": "markdown",
   "metadata": {},
   "source": [
    "**DummyRegressor**"
   ]
  },
  {
   "cell_type": "code",
   "execution_count": 77,
   "metadata": {},
   "outputs": [
    {
     "name": "stdout",
     "output_type": "stream",
     "text": [
      "Лучшие параметры модели:{'strategy': 'mean'}\n",
      "\n",
      " Лучшая метрика модели: 4627\n",
      "\n",
      " Время обучения модели 0.027364253997802734\n",
      "CPU times: user 29.2 ms, sys: 0 ns, total: 29.2 ms\n",
      "Wall time: 27.9 ms\n"
     ]
    },
    {
     "name": "stderr",
     "output_type": "stream",
     "text": [
      "/opt/conda/lib/python3.9/site-packages/sklearn/model_selection/_search.py:318: UserWarning: The total space of parameters 1 is smaller than n_iter=10. Running 1 iterations. For exhaustive searches, use GridSearchCV.\n",
      "  warnings.warn(\n"
     ]
    }
   ],
   "source": [
    "%%time\n",
    "# создание и обучение модели DummyRegressor\n",
    "model_dummy = DummyRegressor()\n",
    "\n",
    "param_dummy = {'strategy' : [\"mean\"]}\n",
    "\n",
    "rs_dummy = RandomizedSearchCV(\n",
    "    model_dummy,\n",
    "    param_dummy,\n",
    "    n_jobs=-1,\n",
    "    cv=3,\n",
    "    scoring = scorer,\n",
    "    random_state=RANDOM_STATE)\n",
    "\n",
    "\n",
    "start = time.time()\n",
    "\n",
    "rs_dummy.fit(X_train_full_ord, y_train)\n",
    "\n",
    "end = time.time()\n",
    "\n",
    "\n",
    "best_params_dummy = rs_dummy.best_params_\n",
    "best_score_dummy = round((-1 * rs_dummy.best_score_)**0.5)\n",
    "time_dummy = end-start\n",
    "\n",
    "print(f\"Лучшие параметры модели:{best_params_dummy}\\n\\n Лучшая метрика модели: {best_score_dummy}\\n\\n Время обучения модели {time_dummy}\")"
   ]
  },
  {
   "cell_type": "code",
   "execution_count": 78,
   "metadata": {},
   "outputs": [],
   "source": [
    "best_model_dummy = DummyRegressor(strategy = 'mean')"
   ]
  },
  {
   "cell_type": "code",
   "execution_count": 79,
   "metadata": {},
   "outputs": [
    {
     "name": "stdout",
     "output_type": "stream",
     "text": [
      "CPU times: user 982 µs, sys: 0 ns, total: 982 µs\n",
      "Wall time: 793 µs\n"
     ]
    }
   ],
   "source": [
    "%%time\n",
    "\n",
    "start = time.time()\n",
    "\n",
    "best_model_dummy.fit(X_train_full_ord, y_train)\n",
    "\n",
    "end = time.time()\n",
    "\n",
    "time_fit_dummy = end-start"
   ]
  },
  {
   "cell_type": "code",
   "execution_count": 80,
   "metadata": {},
   "outputs": [
    {
     "name": "stdout",
     "output_type": "stream",
     "text": [
      "CPU times: user 1.32 ms, sys: 0 ns, total: 1.32 ms\n",
      "Wall time: 1.05 ms\n"
     ]
    }
   ],
   "source": [
    "%%time\n",
    "\n",
    "best_model_dummy_pred = best_model_dummy.predict(X_train_full_ord)\n",
    "\n",
    "start = time.time()\n",
    "\n",
    "best_model_dummy.predict(X_train_full_ord)\n",
    "\n",
    "end = time.time()\n",
    "\n",
    "time_pred_dummy = end-start"
   ]
  },
  {
   "cell_type": "code",
   "execution_count": 81,
   "metadata": {},
   "outputs": [
    {
     "data": {
      "text/html": [
       "<div>\n",
       "<style scoped>\n",
       "    .dataframe tbody tr th:only-of-type {\n",
       "        vertical-align: middle;\n",
       "    }\n",
       "\n",
       "    .dataframe tbody tr th {\n",
       "        vertical-align: top;\n",
       "    }\n",
       "\n",
       "    .dataframe thead th {\n",
       "        text-align: right;\n",
       "    }\n",
       "</style>\n",
       "<table border=\"1\" class=\"dataframe\">\n",
       "  <thead>\n",
       "    <tr style=\"text-align: right;\">\n",
       "      <th></th>\n",
       "      <th>fit_time</th>\n",
       "      <th>pred_time</th>\n",
       "      <th>rmse</th>\n",
       "    </tr>\n",
       "  </thead>\n",
       "  <tbody>\n",
       "    <tr>\n",
       "      <th>LinearRegression</th>\n",
       "      <td>18.847027</td>\n",
       "      <td>2.994730e-01</td>\n",
       "      <td>2724.0</td>\n",
       "    </tr>\n",
       "    <tr>\n",
       "      <th>CatBoostRegressor</th>\n",
       "      <td>11.350240</td>\n",
       "      <td>1.716240e+09</td>\n",
       "      <td>1800.0</td>\n",
       "    </tr>\n",
       "    <tr>\n",
       "      <th>LGBMRegressor</th>\n",
       "      <td>14.408500</td>\n",
       "      <td>3.514341e+00</td>\n",
       "      <td>1664.0</td>\n",
       "    </tr>\n",
       "    <tr>\n",
       "      <th>RFRegressor</th>\n",
       "      <td>23.115695</td>\n",
       "      <td>1.490621e+00</td>\n",
       "      <td>2009.0</td>\n",
       "    </tr>\n",
       "    <tr>\n",
       "      <th>DummyRegressor</th>\n",
       "      <td>0.000772</td>\n",
       "      <td>4.651546e-04</td>\n",
       "      <td>4627.0</td>\n",
       "    </tr>\n",
       "  </tbody>\n",
       "</table>\n",
       "</div>"
      ],
      "text/plain": [
       "                    fit_time     pred_time    rmse\n",
       "LinearRegression   18.847027  2.994730e-01  2724.0\n",
       "CatBoostRegressor  11.350240  1.716240e+09  1800.0\n",
       "LGBMRegressor      14.408500  3.514341e+00  1664.0\n",
       "RFRegressor        23.115695  1.490621e+00  2009.0\n",
       "DummyRegressor      0.000772  4.651546e-04  4627.0"
      ]
     },
     "execution_count": 81,
     "metadata": {},
     "output_type": "execute_result"
    }
   ],
   "source": [
    "models_compares['DummyRegressor'] = {\n",
    "        'fit_time': time_fit_dummy,\n",
    "        'pred_time' : time_pred_dummy,\n",
    "        'rmse':best_score_dummy\n",
    "    }\n",
    "models_statistics = pd.DataFrame(models_compares).T\n",
    "models_statistics"
   ]
  },
  {
   "cell_type": "markdown",
   "metadata": {},
   "source": [
    "## Анализ моделей"
   ]
  },
  {
   "cell_type": "code",
   "execution_count": 82,
   "metadata": {},
   "outputs": [
    {
     "data": {
      "text/html": [
       "<div>\n",
       "<style scoped>\n",
       "    .dataframe tbody tr th:only-of-type {\n",
       "        vertical-align: middle;\n",
       "    }\n",
       "\n",
       "    .dataframe tbody tr th {\n",
       "        vertical-align: top;\n",
       "    }\n",
       "\n",
       "    .dataframe thead th {\n",
       "        text-align: right;\n",
       "    }\n",
       "</style>\n",
       "<table border=\"1\" class=\"dataframe\">\n",
       "  <thead>\n",
       "    <tr style=\"text-align: right;\">\n",
       "      <th></th>\n",
       "      <th>fit_time</th>\n",
       "      <th>pred_time</th>\n",
       "      <th>rmse</th>\n",
       "    </tr>\n",
       "  </thead>\n",
       "  <tbody>\n",
       "    <tr>\n",
       "      <th>LGBMRegressor</th>\n",
       "      <td>14.408500</td>\n",
       "      <td>3.514341e+00</td>\n",
       "      <td>1664.0</td>\n",
       "    </tr>\n",
       "    <tr>\n",
       "      <th>CatBoostRegressor</th>\n",
       "      <td>11.350240</td>\n",
       "      <td>1.716240e+09</td>\n",
       "      <td>1800.0</td>\n",
       "    </tr>\n",
       "    <tr>\n",
       "      <th>RFRegressor</th>\n",
       "      <td>23.115695</td>\n",
       "      <td>1.490621e+00</td>\n",
       "      <td>2009.0</td>\n",
       "    </tr>\n",
       "    <tr>\n",
       "      <th>LinearRegression</th>\n",
       "      <td>18.847027</td>\n",
       "      <td>2.994730e-01</td>\n",
       "      <td>2724.0</td>\n",
       "    </tr>\n",
       "    <tr>\n",
       "      <th>DummyRegressor</th>\n",
       "      <td>0.000772</td>\n",
       "      <td>4.651546e-04</td>\n",
       "      <td>4627.0</td>\n",
       "    </tr>\n",
       "  </tbody>\n",
       "</table>\n",
       "</div>"
      ],
      "text/plain": [
       "                    fit_time     pred_time    rmse\n",
       "LGBMRegressor      14.408500  3.514341e+00  1664.0\n",
       "CatBoostRegressor  11.350240  1.716240e+09  1800.0\n",
       "RFRegressor        23.115695  1.490621e+00  2009.0\n",
       "LinearRegression   18.847027  2.994730e-01  2724.0\n",
       "DummyRegressor      0.000772  4.651546e-04  4627.0"
      ]
     },
     "execution_count": 82,
     "metadata": {},
     "output_type": "execute_result"
    }
   ],
   "source": [
    "models_statistics.sort_values(by ='rmse')"
   ]
  },
  {
   "cell_type": "markdown",
   "metadata": {},
   "source": [
    "Лучшей моделью оказалась **LGBMRegressor (n_estimators = 300, max_depth = 7, learning_rate = 0.2)** с метрикой RSME **1660**. Проверим ее на тестовой выборке.\n"
   ]
  },
  {
   "cell_type": "code",
   "execution_count": 83,
   "metadata": {},
   "outputs": [
    {
     "name": "stdout",
     "output_type": "stream",
     "text": [
      "CPU times: user 11.9 s, sys: 0 ns, total: 11.9 s\n",
      "Wall time: 12.1 s\n"
     ]
    }
   ],
   "source": [
    "%%time\n",
    "best_model = LGBMRegressor (random_state=RANDOM_STATE, n_estimators = 300, max_depth = 7, learning_rate = 0.2)\n",
    "\n",
    "start = time.time()\n",
    "\n",
    "best_model.fit(X_train_full_ord, y_train)\n",
    "\n",
    "end = time.time()\n",
    "\n",
    "time_best_model_fit = end-start"
   ]
  },
  {
   "cell_type": "code",
   "execution_count": 84,
   "metadata": {},
   "outputs": [
    {
     "name": "stdout",
     "output_type": "stream",
     "text": [
      "CPU times: user 958 ms, sys: 0 ns, total: 958 ms\n",
      "Wall time: 907 ms\n"
     ]
    }
   ],
   "source": [
    "%%time\n",
    "start = time.time()\n",
    "\n",
    "predict = best_model.predict(X_test_full_ord)\n",
    "\n",
    "end = time.time()\n",
    "\n",
    "time_best_model_pred = end-start"
   ]
  },
  {
   "cell_type": "code",
   "execution_count": 85,
   "metadata": {},
   "outputs": [
    {
     "name": "stdout",
     "output_type": "stream",
     "text": [
      "RMSE тестовой выборки: 1646\n"
     ]
    }
   ],
   "source": [
    "best_model_rmse = round(mean_squared_error(predict, y_test) ** 0.5)\n",
    "print(f'RMSE тестовой выборки: {best_model_rmse}')"
   ]
  },
  {
   "cell_type": "code",
   "execution_count": 86,
   "metadata": {},
   "outputs": [
    {
     "data": {
      "text/html": [
       "<div>\n",
       "<style scoped>\n",
       "    .dataframe tbody tr th:only-of-type {\n",
       "        vertical-align: middle;\n",
       "    }\n",
       "\n",
       "    .dataframe tbody tr th {\n",
       "        vertical-align: top;\n",
       "    }\n",
       "\n",
       "    .dataframe thead th {\n",
       "        text-align: right;\n",
       "    }\n",
       "</style>\n",
       "<table border=\"1\" class=\"dataframe\">\n",
       "  <thead>\n",
       "    <tr style=\"text-align: right;\">\n",
       "      <th></th>\n",
       "      <th>model</th>\n",
       "      <th>fit_time</th>\n",
       "      <th>test_time</th>\n",
       "      <th>test_rmse</th>\n",
       "    </tr>\n",
       "  </thead>\n",
       "  <tbody>\n",
       "    <tr>\n",
       "      <th>0</th>\n",
       "      <td>LGBMRegressor</td>\n",
       "      <td>12.065123</td>\n",
       "      <td>0.906672</td>\n",
       "      <td>1646</td>\n",
       "    </tr>\n",
       "  </tbody>\n",
       "</table>\n",
       "</div>"
      ],
      "text/plain": [
       "           model   fit_time  test_time  test_rmse\n",
       "0  LGBMRegressor  12.065123   0.906672       1646"
      ]
     },
     "execution_count": 86,
     "metadata": {},
     "output_type": "execute_result"
    }
   ],
   "source": [
    "models_compares_1 = {\n",
    "        'model':'LGBMRegressor',\n",
    "        'fit_time': time_best_model_fit,\n",
    "        'test_time': time_best_model_pred,\n",
    "        'test_rmse': best_model_rmse}\n",
    "models_statistics_1_3 = pd.DataFrame(models_compares_1, index = [0])\n",
    "models_statistics_1_3"
   ]
  },
  {
   "cell_type": "markdown",
   "metadata": {},
   "source": [
    "## Вывод"
   ]
  },
  {
   "cell_type": "markdown",
   "metadata": {},
   "source": [
    "1. Были загружены данные и проанализированы. В результате были выявлены пропуски в vehicle_type, gearbox , model , fuel_type , repaired и обнаружены аномалии;  \n",
    "\n",
    "2. В ходе обработки данных были заполены пропуски, обработаны аномалии и удалены признаки, не несущие важности при обучении моделей.  \n",
    "\n",
    "3. Данные были подготовлены для обучения. Разделены на обучающую, валидационную и тестовую выборку. Закодированы двумя методами: Ordinal Encoding и One-Hot Encoding;  \n",
    "\n",
    "4. В качестве моделей были выбраны: LinearRegression, CatBoost, LightGBM.\n",
    "Наилучший результат показала LightGBM с кодировкой данных - (n_estimators = 300, max_depth = 7, learning_rate = 0.2)** с метрикой RSME **1660** при корсвалидации и **1647** на тестовой выборке, при времени "
   ]
  }
 ],
 "metadata": {
  "ExecuteTimeLog": [
   {
    "duration": 1746,
    "start_time": "2024-05-09T07:24:06.732Z"
   },
   {
    "duration": 117,
    "start_time": "2024-05-09T07:24:36.508Z"
   },
   {
    "duration": 3051,
    "start_time": "2024-05-09T07:24:41.382Z"
   },
   {
    "duration": 341,
    "start_time": "2024-05-09T07:24:47.542Z"
   },
   {
    "duration": 4,
    "start_time": "2024-05-09T07:29:07.856Z"
   },
   {
    "duration": 23,
    "start_time": "2024-05-09T07:29:11.572Z"
   },
   {
    "duration": 60,
    "start_time": "2024-05-09T07:29:32.590Z"
   },
   {
    "duration": 12,
    "start_time": "2024-05-09T07:31:15.485Z"
   },
   {
    "duration": 6,
    "start_time": "2024-05-09T07:31:20.358Z"
   },
   {
    "duration": 37,
    "start_time": "2024-05-09T07:32:23.399Z"
   },
   {
    "duration": 17,
    "start_time": "2024-05-09T07:32:25.856Z"
   },
   {
    "duration": 10,
    "start_time": "2024-05-09T07:32:38.271Z"
   },
   {
    "duration": 101,
    "start_time": "2024-05-09T07:32:46.647Z"
   },
   {
    "duration": 165,
    "start_time": "2024-05-09T07:33:33.005Z"
   },
   {
    "duration": 105,
    "start_time": "2024-05-09T07:33:52.974Z"
   },
   {
    "duration": 49,
    "start_time": "2024-05-09T07:34:09.458Z"
   },
   {
    "duration": 42,
    "start_time": "2024-05-09T07:34:14.842Z"
   },
   {
    "duration": 106,
    "start_time": "2024-05-09T07:34:17.779Z"
   },
   {
    "duration": 130,
    "start_time": "2024-05-09T07:34:21.241Z"
   },
   {
    "duration": 105,
    "start_time": "2024-05-09T07:34:24.842Z"
   },
   {
    "duration": 123,
    "start_time": "2024-05-09T07:34:28.630Z"
   },
   {
    "duration": 38,
    "start_time": "2024-05-09T07:34:54.812Z"
   },
   {
    "duration": 42,
    "start_time": "2024-05-09T07:34:58.824Z"
   },
   {
    "duration": 102,
    "start_time": "2024-05-09T07:35:00.987Z"
   },
   {
    "duration": 101,
    "start_time": "2024-05-09T07:35:08.492Z"
   },
   {
    "duration": 97,
    "start_time": "2024-05-09T07:35:11.681Z"
   },
   {
    "duration": 108,
    "start_time": "2024-05-09T07:35:24.436Z"
   },
   {
    "duration": 111,
    "start_time": "2024-05-09T07:35:38.743Z"
   },
   {
    "duration": 108,
    "start_time": "2024-05-09T07:36:15.034Z"
   },
   {
    "duration": 53,
    "start_time": "2024-05-09T07:36:19.257Z"
   },
   {
    "duration": 3,
    "start_time": "2024-05-09T07:36:21.556Z"
   },
   {
    "duration": 109,
    "start_time": "2024-05-09T07:36:25.028Z"
   },
   {
    "duration": 10,
    "start_time": "2024-05-09T07:36:36.692Z"
   },
   {
    "duration": 11,
    "start_time": "2024-05-09T07:36:42.517Z"
   },
   {
    "duration": 188,
    "start_time": "2024-05-09T07:36:51.936Z"
   },
   {
    "duration": 19,
    "start_time": "2024-05-09T07:36:58.059Z"
   },
   {
    "duration": 10,
    "start_time": "2024-05-09T07:37:48.344Z"
   },
   {
    "duration": 10,
    "start_time": "2024-05-09T07:37:51.831Z"
   },
   {
    "duration": 39,
    "start_time": "2024-05-09T07:38:47.666Z"
   },
   {
    "duration": 44,
    "start_time": "2024-05-09T07:39:13.672Z"
   },
   {
    "duration": 676,
    "start_time": "2024-05-09T07:39:20.684Z"
   },
   {
    "duration": 96,
    "start_time": "2024-05-09T07:39:33.586Z"
   },
   {
    "duration": 38,
    "start_time": "2024-05-09T07:39:41.187Z"
   },
   {
    "duration": 97,
    "start_time": "2024-05-09T07:39:41.776Z"
   },
   {
    "duration": 136,
    "start_time": "2024-05-09T07:40:57.136Z"
   },
   {
    "duration": 14,
    "start_time": "2024-05-09T07:41:02.588Z"
   },
   {
    "duration": 39,
    "start_time": "2024-05-09T07:41:14.575Z"
   },
   {
    "duration": 36,
    "start_time": "2024-05-09T07:43:22.065Z"
   },
   {
    "duration": 14,
    "start_time": "2024-05-09T07:43:36.025Z"
   },
   {
    "duration": 50,
    "start_time": "2024-05-09T07:43:42.133Z"
   },
   {
    "duration": 40,
    "start_time": "2024-05-09T07:44:05.140Z"
   },
   {
    "duration": 1506,
    "start_time": "2024-05-09T07:44:25.934Z"
   },
   {
    "duration": 964,
    "start_time": "2024-05-09T07:44:27.442Z"
   },
   {
    "duration": 262,
    "start_time": "2024-05-09T07:44:28.407Z"
   },
   {
    "duration": 3,
    "start_time": "2024-05-09T07:44:28.671Z"
   },
   {
    "duration": 82,
    "start_time": "2024-05-09T07:44:28.675Z"
   },
   {
    "duration": 6,
    "start_time": "2024-05-09T07:44:28.759Z"
   },
   {
    "duration": 55,
    "start_time": "2024-05-09T07:44:28.766Z"
   },
   {
    "duration": 21,
    "start_time": "2024-05-09T07:44:28.823Z"
   },
   {
    "duration": 121,
    "start_time": "2024-05-09T07:44:28.846Z"
   },
   {
    "duration": 183,
    "start_time": "2024-05-09T07:44:28.969Z"
   },
   {
    "duration": 37,
    "start_time": "2024-05-09T07:44:29.153Z"
   },
   {
    "duration": 106,
    "start_time": "2024-05-09T07:44:29.192Z"
   },
   {
    "duration": 137,
    "start_time": "2024-05-09T07:44:29.300Z"
   },
   {
    "duration": 13,
    "start_time": "2024-05-09T07:44:29.439Z"
   },
   {
    "duration": 39,
    "start_time": "2024-05-09T07:44:29.453Z"
   },
   {
    "duration": 17,
    "start_time": "2024-05-09T07:44:33.740Z"
   },
   {
    "duration": 47,
    "start_time": "2024-05-09T07:44:35.840Z"
   },
   {
    "duration": 21,
    "start_time": "2024-05-09T07:44:52.901Z"
   },
   {
    "duration": 40,
    "start_time": "2024-05-09T07:44:56.869Z"
   },
   {
    "duration": 39,
    "start_time": "2024-05-09T07:45:05.233Z"
   },
   {
    "duration": 20,
    "start_time": "2024-05-09T07:45:17.317Z"
   },
   {
    "duration": 36,
    "start_time": "2024-05-09T07:45:21.690Z"
   },
   {
    "duration": 19,
    "start_time": "2024-05-09T07:45:36.201Z"
   },
   {
    "duration": 26,
    "start_time": "2024-05-09T07:45:48.691Z"
   },
   {
    "duration": 20,
    "start_time": "2024-05-09T07:46:01.873Z"
   },
   {
    "duration": 30,
    "start_time": "2024-05-09T07:46:02.211Z"
   },
   {
    "duration": 94,
    "start_time": "2024-05-09T07:46:06.547Z"
   },
   {
    "duration": 7,
    "start_time": "2024-05-09T07:46:11.307Z"
   },
   {
    "duration": 174,
    "start_time": "2024-05-09T07:47:51.321Z"
   },
   {
    "duration": 269,
    "start_time": "2024-05-09T07:47:57.132Z"
   },
   {
    "duration": 14631,
    "start_time": "2024-05-09T07:48:00.025Z"
   },
   {
    "duration": 179,
    "start_time": "2024-05-09T07:48:18.322Z"
   },
   {
    "duration": 33,
    "start_time": "2024-05-09T07:49:27.570Z"
   },
   {
    "duration": 7,
    "start_time": "2024-05-09T07:49:33.448Z"
   },
   {
    "duration": 150,
    "start_time": "2024-05-09T07:49:36.869Z"
   },
   {
    "duration": 261,
    "start_time": "2024-05-09T07:49:44.451Z"
   },
   {
    "duration": 10,
    "start_time": "2024-05-09T07:50:00.547Z"
   },
   {
    "duration": 116,
    "start_time": "2024-05-09T07:50:21.070Z"
   },
   {
    "duration": 14,
    "start_time": "2024-05-09T07:50:30.902Z"
   },
   {
    "duration": 63,
    "start_time": "2024-05-09T07:50:45.822Z"
   },
   {
    "duration": 12,
    "start_time": "2024-05-09T07:51:14.890Z"
   },
   {
    "duration": 41,
    "start_time": "2024-05-09T07:51:37.923Z"
   },
   {
    "duration": 9,
    "start_time": "2024-05-09T07:51:42.415Z"
   },
   {
    "duration": 172,
    "start_time": "2024-05-09T07:51:53.539Z"
   },
   {
    "duration": 28,
    "start_time": "2024-05-09T07:52:09.851Z"
   },
   {
    "duration": 168,
    "start_time": "2024-05-09T07:52:15.595Z"
   },
   {
    "duration": 726,
    "start_time": "2024-05-09T07:52:22.047Z"
   },
   {
    "duration": 192,
    "start_time": "2024-05-09T07:52:35.090Z"
   },
   {
    "duration": 12,
    "start_time": "2024-05-09T07:52:45.876Z"
   },
   {
    "duration": 74,
    "start_time": "2024-05-09T07:52:50.122Z"
   },
   {
    "duration": 169,
    "start_time": "2024-05-09T07:53:01.941Z"
   },
   {
    "duration": 207,
    "start_time": "2024-05-09T07:53:08.391Z"
   },
   {
    "duration": 11,
    "start_time": "2024-05-09T07:53:13.840Z"
   },
   {
    "duration": 582,
    "start_time": "2024-05-09T07:53:23.359Z"
   },
   {
    "duration": 9,
    "start_time": "2024-05-09T07:53:27.833Z"
   },
   {
    "duration": 164,
    "start_time": "2024-05-09T07:53:36.660Z"
   },
   {
    "duration": 29,
    "start_time": "2024-05-09T07:53:44.981Z"
   },
   {
    "duration": 14,
    "start_time": "2024-05-09T07:53:53.235Z"
   },
   {
    "duration": 149,
    "start_time": "2024-05-09T07:53:59.235Z"
   },
   {
    "duration": 12,
    "start_time": "2024-05-09T07:54:10.881Z"
   },
   {
    "duration": 1526,
    "start_time": "2024-05-09T07:54:24.005Z"
   },
   {
    "duration": 1530,
    "start_time": "2024-05-09T07:54:39.478Z"
   },
   {
    "duration": 160,
    "start_time": "2024-05-09T07:54:49.370Z"
   },
   {
    "duration": 321,
    "start_time": "2024-05-09T07:54:55.155Z"
   },
   {
    "duration": 61,
    "start_time": "2024-05-09T07:55:29.487Z"
   },
   {
    "duration": 17,
    "start_time": "2024-05-09T07:55:49.437Z"
   },
   {
    "duration": 61,
    "start_time": "2024-05-09T07:57:01.899Z"
   },
   {
    "duration": 85,
    "start_time": "2024-05-09T07:57:08.060Z"
   },
   {
    "duration": 13,
    "start_time": "2024-05-09T07:58:32.968Z"
   },
   {
    "duration": 27,
    "start_time": "2024-05-09T07:59:05.033Z"
   },
   {
    "duration": 32,
    "start_time": "2024-05-09T07:59:58.248Z"
   },
   {
    "duration": 576,
    "start_time": "2024-05-09T08:01:08.858Z"
   },
   {
    "duration": 109,
    "start_time": "2024-05-09T08:02:22.425Z"
   },
   {
    "duration": 1051,
    "start_time": "2024-05-09T08:02:55.573Z"
   },
   {
    "duration": 16501,
    "start_time": "2024-05-09T08:04:13.928Z"
   },
   {
    "duration": 37,
    "start_time": "2024-05-09T08:08:51.416Z"
   },
   {
    "duration": 91,
    "start_time": "2024-05-09T08:09:05.642Z"
   },
   {
    "duration": 5,
    "start_time": "2024-05-09T08:09:14.546Z"
   },
   {
    "duration": 91104,
    "start_time": "2024-05-09T08:11:38.121Z"
   },
   {
    "duration": 1504,
    "start_time": "2024-05-09T08:20:29.446Z"
   },
   {
    "duration": 994,
    "start_time": "2024-05-09T08:20:30.952Z"
   },
   {
    "duration": 267,
    "start_time": "2024-05-09T08:20:31.948Z"
   },
   {
    "duration": 3,
    "start_time": "2024-05-09T08:20:32.217Z"
   },
   {
    "duration": 98,
    "start_time": "2024-05-09T08:20:32.222Z"
   },
   {
    "duration": 6,
    "start_time": "2024-05-09T08:20:32.321Z"
   },
   {
    "duration": 96,
    "start_time": "2024-05-09T08:20:32.329Z"
   },
   {
    "duration": 39,
    "start_time": "2024-05-09T08:20:32.427Z"
   },
   {
    "duration": 149,
    "start_time": "2024-05-09T08:20:32.468Z"
   },
   {
    "duration": 197,
    "start_time": "2024-05-09T08:20:32.619Z"
   },
   {
    "duration": 40,
    "start_time": "2024-05-09T08:20:32.818Z"
   },
   {
    "duration": 308,
    "start_time": "2024-05-09T08:20:32.860Z"
   },
   {
    "duration": 137,
    "start_time": "2024-05-09T08:20:33.170Z"
   },
   {
    "duration": 20,
    "start_time": "2024-05-09T08:20:33.311Z"
   },
   {
    "duration": 77,
    "start_time": "2024-05-09T08:20:33.333Z"
   },
   {
    "duration": 42,
    "start_time": "2024-05-09T08:20:33.412Z"
   },
   {
    "duration": 82,
    "start_time": "2024-05-09T08:20:33.456Z"
   },
   {
    "duration": 26,
    "start_time": "2024-05-09T08:20:33.540Z"
   },
   {
    "duration": 40,
    "start_time": "2024-05-09T08:20:33.567Z"
   },
   {
    "duration": 30,
    "start_time": "2024-05-09T08:20:33.609Z"
   },
   {
    "duration": 45,
    "start_time": "2024-05-09T08:20:33.640Z"
   },
   {
    "duration": 47,
    "start_time": "2024-05-09T08:20:33.686Z"
   },
   {
    "duration": 33,
    "start_time": "2024-05-09T08:20:33.735Z"
   },
   {
    "duration": 23,
    "start_time": "2024-05-09T08:20:33.770Z"
   },
   {
    "duration": 95,
    "start_time": "2024-05-09T08:20:33.794Z"
   },
   {
    "duration": 6,
    "start_time": "2024-05-09T08:20:33.891Z"
   },
   {
    "duration": 39,
    "start_time": "2024-05-09T08:20:33.898Z"
   },
   {
    "duration": 274,
    "start_time": "2024-05-09T08:20:33.939Z"
   },
   {
    "duration": 18,
    "start_time": "2024-05-09T08:20:34.214Z"
   },
   {
    "duration": 184,
    "start_time": "2024-05-09T08:20:34.234Z"
   },
   {
    "duration": 39,
    "start_time": "2024-05-09T08:20:34.419Z"
   },
   {
    "duration": 276,
    "start_time": "2024-05-09T08:20:34.460Z"
   },
   {
    "duration": 8,
    "start_time": "2024-05-09T08:20:34.738Z"
   },
   {
    "duration": 97,
    "start_time": "2024-05-09T08:20:34.748Z"
   },
   {
    "duration": 236,
    "start_time": "2024-05-09T08:20:34.847Z"
   },
   {
    "duration": 10,
    "start_time": "2024-05-09T08:20:35.085Z"
   },
   {
    "duration": 180,
    "start_time": "2024-05-09T08:20:35.097Z"
   },
   {
    "duration": 24,
    "start_time": "2024-05-09T08:20:35.278Z"
   },
   {
    "duration": 9,
    "start_time": "2024-05-09T08:20:35.303Z"
   },
   {
    "duration": 22,
    "start_time": "2024-05-09T08:20:35.314Z"
   },
   {
    "duration": 192,
    "start_time": "2024-05-09T08:20:35.340Z"
   },
   {
    "duration": 336,
    "start_time": "2024-05-09T08:20:35.534Z"
   },
   {
    "duration": 86,
    "start_time": "2024-05-09T08:20:35.872Z"
   },
   {
    "duration": 395,
    "start_time": "2024-05-09T08:20:50.649Z"
   },
   {
    "duration": 11,
    "start_time": "2024-05-09T08:22:21.979Z"
   },
   {
    "duration": 3,
    "start_time": "2024-05-09T08:23:22.868Z"
   },
   {
    "duration": 361,
    "start_time": "2024-05-09T08:23:41.318Z"
   },
   {
    "duration": 12,
    "start_time": "2024-05-09T08:24:06.117Z"
   },
   {
    "duration": 3,
    "start_time": "2024-05-09T08:24:12.641Z"
   },
   {
    "duration": 628,
    "start_time": "2024-05-09T08:24:25.049Z"
   },
   {
    "duration": 18,
    "start_time": "2024-05-09T08:24:25.680Z"
   },
   {
    "duration": 115,
    "start_time": "2024-05-09T08:24:48.817Z"
   },
   {
    "duration": 4,
    "start_time": "2024-05-09T08:25:35.887Z"
   },
   {
    "duration": 949,
    "start_time": "2024-05-09T08:25:40.771Z"
   },
   {
    "duration": 14,
    "start_time": "2024-05-09T08:26:01.840Z"
   },
   {
    "duration": 380,
    "start_time": "2024-05-09T08:26:38.940Z"
   },
   {
    "duration": 24,
    "start_time": "2024-05-09T08:26:45.487Z"
   },
   {
    "duration": 99,
    "start_time": "2024-05-09T08:27:06.487Z"
   },
   {
    "duration": 47,
    "start_time": "2024-05-09T08:27:15.157Z"
   },
   {
    "duration": 58,
    "start_time": "2024-05-09T08:27:35.739Z"
   },
   {
    "duration": 15,
    "start_time": "2024-05-09T08:27:39.731Z"
   },
   {
    "duration": 19,
    "start_time": "2024-05-09T08:27:55.649Z"
   },
   {
    "duration": 23051,
    "start_time": "2024-05-09T08:28:15.786Z"
   },
   {
    "duration": 74,
    "start_time": "2024-05-09T08:28:44.857Z"
   },
   {
    "duration": 41,
    "start_time": "2024-05-09T08:29:13.737Z"
   },
   {
    "duration": 12,
    "start_time": "2024-05-09T08:30:18.901Z"
   },
   {
    "duration": 4,
    "start_time": "2024-05-09T08:30:39.466Z"
   },
   {
    "duration": 2926891,
    "start_time": "2024-05-09T08:30:40.353Z"
   },
   {
    "duration": 2894202,
    "start_time": "2024-05-09T09:19:27.246Z"
   },
   {
    "duration": 33302,
    "start_time": "2024-05-09T10:07:41.529Z"
   },
   {
    "duration": 51,
    "start_time": "2024-05-09T10:08:14.833Z"
   },
   {
    "duration": 39165,
    "start_time": "2024-05-09T10:09:20.994Z"
   },
   {
    "duration": 17674,
    "start_time": "2024-05-09T10:10:33.505Z"
   },
   {
    "duration": 16913,
    "start_time": "2024-05-09T10:11:02.479Z"
   },
   {
    "duration": 4,
    "start_time": "2024-05-09T10:11:23.833Z"
   },
   {
    "duration": 10,
    "start_time": "2024-05-09T10:11:27.757Z"
   },
   {
    "duration": 1002358,
    "start_time": "2024-05-09T10:15:04.347Z"
   },
   {
    "duration": 2114652,
    "start_time": "2024-05-09T10:36:47.217Z"
   },
   {
    "duration": 2507771,
    "start_time": "2024-05-09T11:14:28.761Z"
   },
   {
    "duration": 17845,
    "start_time": "2024-05-09T12:21:57.694Z"
   },
   {
    "duration": 17299,
    "start_time": "2024-05-09T12:22:15.541Z"
   },
   {
    "duration": 5,
    "start_time": "2024-05-09T12:25:18.962Z"
   },
   {
    "duration": 11,
    "start_time": "2024-05-09T12:25:20.024Z"
   },
   {
    "duration": 37715,
    "start_time": "2024-05-09T12:33:16.520Z"
   },
   {
    "duration": 37521,
    "start_time": "2024-05-09T12:33:58.733Z"
   },
   {
    "duration": 1682,
    "start_time": "2024-05-18T06:34:01.039Z"
   },
   {
    "duration": 1188,
    "start_time": "2024-05-18T06:34:02.723Z"
   },
   {
    "duration": 285,
    "start_time": "2024-05-18T06:34:03.913Z"
   },
   {
    "duration": 3,
    "start_time": "2024-05-18T06:34:04.200Z"
   },
   {
    "duration": 77,
    "start_time": "2024-05-18T06:34:04.205Z"
   },
   {
    "duration": 5,
    "start_time": "2024-05-18T06:34:05.837Z"
   },
   {
    "duration": 44,
    "start_time": "2024-05-18T06:34:08.515Z"
   },
   {
    "duration": 9,
    "start_time": "2024-05-18T06:34:08.961Z"
   },
   {
    "duration": 94,
    "start_time": "2024-05-18T06:34:09.275Z"
   },
   {
    "duration": 168,
    "start_time": "2024-05-18T06:34:11.477Z"
   },
   {
    "duration": 36,
    "start_time": "2024-05-18T06:34:26.695Z"
   },
   {
    "duration": 86,
    "start_time": "2024-05-18T06:34:27.091Z"
   },
   {
    "duration": 124,
    "start_time": "2024-05-18T06:36:51.449Z"
   },
   {
    "duration": 14,
    "start_time": "2024-05-18T06:36:51.791Z"
   },
   {
    "duration": 40,
    "start_time": "2024-05-18T06:36:52.111Z"
   },
   {
    "duration": 18,
    "start_time": "2024-05-18T06:36:54.529Z"
   },
   {
    "duration": 35,
    "start_time": "2024-05-18T06:36:54.709Z"
   },
   {
    "duration": 19,
    "start_time": "2024-05-18T06:36:54.949Z"
   },
   {
    "duration": 35,
    "start_time": "2024-05-18T06:36:55.158Z"
   },
   {
    "duration": 18,
    "start_time": "2024-05-18T06:36:55.412Z"
   },
   {
    "duration": 35,
    "start_time": "2024-05-18T06:36:55.661Z"
   },
   {
    "duration": 18,
    "start_time": "2024-05-18T06:36:56.659Z"
   },
   {
    "duration": 19,
    "start_time": "2024-05-18T06:36:56.911Z"
   },
   {
    "duration": 19,
    "start_time": "2024-05-18T06:36:57.093Z"
   },
   {
    "duration": 88,
    "start_time": "2024-05-18T06:36:57.696Z"
   },
   {
    "duration": 6,
    "start_time": "2024-05-18T06:36:59.550Z"
   },
   {
    "duration": 6,
    "start_time": "2024-05-18T06:37:11.302Z"
   },
   {
    "duration": 26,
    "start_time": "2024-05-18T06:37:11.959Z"
   },
   {
    "duration": 279,
    "start_time": "2024-05-18T06:38:15.879Z"
   },
   {
    "duration": 9,
    "start_time": "2024-05-18T06:38:16.409Z"
   },
   {
    "duration": 211,
    "start_time": "2024-05-18T06:38:17.811Z"
   },
   {
    "duration": 35,
    "start_time": "2024-05-18T06:38:18.127Z"
   },
   {
    "duration": 180,
    "start_time": "2024-05-18T06:38:18.688Z"
   },
   {
    "duration": 8,
    "start_time": "2024-05-18T06:38:18.949Z"
   },
   {
    "duration": 70,
    "start_time": "2024-05-18T06:38:25.307Z"
   },
   {
    "duration": 244,
    "start_time": "2024-05-18T06:40:24.180Z"
   },
   {
    "duration": 14,
    "start_time": "2024-05-18T06:40:24.438Z"
   },
   {
    "duration": 151,
    "start_time": "2024-05-18T06:40:26.459Z"
   },
   {
    "duration": 21,
    "start_time": "2024-05-18T06:40:26.639Z"
   },
   {
    "duration": 9,
    "start_time": "2024-05-18T06:40:26.749Z"
   },
   {
    "duration": 12,
    "start_time": "2024-05-18T06:40:27.856Z"
   },
   {
    "duration": 161,
    "start_time": "2024-05-18T06:40:28.156Z"
   },
   {
    "duration": 318,
    "start_time": "2024-05-18T06:40:28.427Z"
   },
   {
    "duration": 81,
    "start_time": "2024-05-18T06:40:28.758Z"
   },
   {
    "duration": 368,
    "start_time": "2024-05-18T06:40:31.759Z"
   },
   {
    "duration": 12,
    "start_time": "2024-05-18T06:42:05.106Z"
   },
   {
    "duration": 2,
    "start_time": "2024-05-18T06:43:49.169Z"
   },
   {
    "duration": 3,
    "start_time": "2024-05-18T06:48:26.711Z"
   },
   {
    "duration": 141,
    "start_time": "2024-05-18T06:48:28.431Z"
   },
   {
    "duration": 86,
    "start_time": "2024-05-18T06:48:41.438Z"
   },
   {
    "duration": 10,
    "start_time": "2024-05-18T06:50:34.309Z"
   },
   {
    "duration": 5,
    "start_time": "2024-05-18T06:50:50.387Z"
   },
   {
    "duration": 3,
    "start_time": "2024-05-18T06:50:57.199Z"
   },
   {
    "duration": 18,
    "start_time": "2024-05-18T06:51:56.090Z"
   },
   {
    "duration": 23,
    "start_time": "2024-05-18T06:52:01.999Z"
   },
   {
    "duration": 59,
    "start_time": "2024-05-18T06:52:26.638Z"
   },
   {
    "duration": 4,
    "start_time": "2024-05-18T06:52:33.187Z"
   },
   {
    "duration": 67,
    "start_time": "2024-05-18T06:52:41.121Z"
   },
   {
    "duration": 52,
    "start_time": "2024-05-18T06:52:44.429Z"
   },
   {
    "duration": 19,
    "start_time": "2024-05-18T06:53:54.211Z"
   },
   {
    "duration": 79,
    "start_time": "2024-05-18T06:54:05.630Z"
   },
   {
    "duration": 3,
    "start_time": "2024-05-18T06:54:06.139Z"
   },
   {
    "duration": 64,
    "start_time": "2024-05-18T06:54:06.560Z"
   },
   {
    "duration": 13,
    "start_time": "2024-05-18T06:54:07.718Z"
   },
   {
    "duration": 1394,
    "start_time": "2024-05-18T06:54:38.191Z"
   },
   {
    "duration": 6,
    "start_time": "2024-05-18T06:54:45.709Z"
   },
   {
    "duration": 56,
    "start_time": "2024-05-18T06:55:01.769Z"
   },
   {
    "duration": 44,
    "start_time": "2024-05-18T06:55:02.021Z"
   },
   {
    "duration": 16,
    "start_time": "2024-05-18T06:55:59.438Z"
   },
   {
    "duration": 1393,
    "start_time": "2024-05-18T06:56:20.440Z"
   },
   {
    "duration": 7,
    "start_time": "2024-05-18T06:57:17.398Z"
   },
   {
    "duration": 9,
    "start_time": "2024-05-18T06:57:28.911Z"
   },
   {
    "duration": 11,
    "start_time": "2024-05-18T06:58:00.377Z"
   },
   {
    "duration": 7112,
    "start_time": "2024-05-18T06:58:43.489Z"
   },
   {
    "duration": 1519,
    "start_time": "2024-05-18T06:59:04.847Z"
   },
   {
    "duration": 989,
    "start_time": "2024-05-18T06:59:06.369Z"
   },
   {
    "duration": 306,
    "start_time": "2024-05-18T06:59:07.360Z"
   },
   {
    "duration": 4,
    "start_time": "2024-05-18T06:59:07.669Z"
   },
   {
    "duration": 76,
    "start_time": "2024-05-18T06:59:07.675Z"
   },
   {
    "duration": 6,
    "start_time": "2024-05-18T06:59:07.753Z"
   },
   {
    "duration": 114,
    "start_time": "2024-05-18T06:59:07.770Z"
   },
   {
    "duration": 22,
    "start_time": "2024-05-18T06:59:07.886Z"
   },
   {
    "duration": 117,
    "start_time": "2024-05-18T06:59:07.910Z"
   },
   {
    "duration": 190,
    "start_time": "2024-05-18T06:59:08.029Z"
   },
   {
    "duration": 38,
    "start_time": "2024-05-18T06:59:08.221Z"
   },
   {
    "duration": 107,
    "start_time": "2024-05-18T06:59:08.270Z"
   },
   {
    "duration": 161,
    "start_time": "2024-05-18T06:59:08.378Z"
   },
   {
    "duration": 19,
    "start_time": "2024-05-18T06:59:08.543Z"
   },
   {
    "duration": 44,
    "start_time": "2024-05-18T06:59:08.569Z"
   },
   {
    "duration": 19,
    "start_time": "2024-05-18T06:59:08.615Z"
   },
   {
    "duration": 50,
    "start_time": "2024-05-18T06:59:08.637Z"
   },
   {
    "duration": 21,
    "start_time": "2024-05-18T06:59:08.689Z"
   },
   {
    "duration": 113,
    "start_time": "2024-05-18T06:59:08.712Z"
   },
   {
    "duration": 34,
    "start_time": "2024-05-18T06:59:08.827Z"
   },
   {
    "duration": 111,
    "start_time": "2024-05-18T06:59:08.863Z"
   },
   {
    "duration": 22,
    "start_time": "2024-05-18T06:59:08.975Z"
   },
   {
    "duration": 20,
    "start_time": "2024-05-18T06:59:08.998Z"
   },
   {
    "duration": 21,
    "start_time": "2024-05-18T06:59:09.020Z"
   },
   {
    "duration": 111,
    "start_time": "2024-05-18T06:59:09.043Z"
   },
   {
    "duration": 16,
    "start_time": "2024-05-18T06:59:09.155Z"
   },
   {
    "duration": 163,
    "start_time": "2024-05-18T06:59:09.173Z"
   },
   {
    "duration": 281,
    "start_time": "2024-05-18T06:59:09.338Z"
   },
   {
    "duration": 9,
    "start_time": "2024-05-18T06:59:09.621Z"
   },
   {
    "duration": 184,
    "start_time": "2024-05-18T06:59:09.632Z"
   },
   {
    "duration": 30,
    "start_time": "2024-05-18T06:59:09.818Z"
   },
   {
    "duration": 259,
    "start_time": "2024-05-18T06:59:09.850Z"
   },
   {
    "duration": 9,
    "start_time": "2024-05-18T06:59:10.111Z"
   },
   {
    "duration": 139,
    "start_time": "2024-05-18T06:59:10.122Z"
   },
   {
    "duration": 329,
    "start_time": "2024-05-18T06:59:10.263Z"
   },
   {
    "duration": 13,
    "start_time": "2024-05-18T06:59:10.594Z"
   },
   {
    "duration": 183,
    "start_time": "2024-05-18T06:59:10.609Z"
   },
   {
    "duration": 23,
    "start_time": "2024-05-18T06:59:10.794Z"
   },
   {
    "duration": 9,
    "start_time": "2024-05-18T06:59:10.819Z"
   },
   {
    "duration": 21,
    "start_time": "2024-05-18T06:59:10.830Z"
   },
   {
    "duration": 218,
    "start_time": "2024-05-18T06:59:10.869Z"
   },
   {
    "duration": 339,
    "start_time": "2024-05-18T06:59:11.089Z"
   },
   {
    "duration": 126,
    "start_time": "2024-05-18T06:59:11.430Z"
   },
   {
    "duration": 404,
    "start_time": "2024-05-18T06:59:11.559Z"
   },
   {
    "duration": 11,
    "start_time": "2024-05-18T06:59:11.969Z"
   },
   {
    "duration": 15,
    "start_time": "2024-05-18T06:59:11.982Z"
   },
   {
    "duration": 6,
    "start_time": "2024-05-18T06:59:11.998Z"
   },
   {
    "duration": 82,
    "start_time": "2024-05-18T06:59:12.006Z"
   },
   {
    "duration": 137,
    "start_time": "2024-05-18T06:59:12.090Z"
   },
   {
    "duration": 0,
    "start_time": "2024-05-18T06:59:12.228Z"
   },
   {
    "duration": 0,
    "start_time": "2024-05-18T06:59:12.229Z"
   },
   {
    "duration": 3,
    "start_time": "2024-05-18T06:59:24.527Z"
   },
   {
    "duration": 87,
    "start_time": "2024-05-18T06:59:25.508Z"
   },
   {
    "duration": 524,
    "start_time": "2024-05-18T06:59:27.139Z"
   },
   {
    "duration": 14,
    "start_time": "2024-05-18T06:59:28.526Z"
   },
   {
    "duration": 13,
    "start_time": "2024-05-18T06:59:34.879Z"
   },
   {
    "duration": 12,
    "start_time": "2024-05-18T06:59:43.206Z"
   },
   {
    "duration": 11,
    "start_time": "2024-05-18T06:59:48.420Z"
   },
   {
    "duration": 73,
    "start_time": "2024-05-18T07:00:13.947Z"
   },
   {
    "duration": 542,
    "start_time": "2024-05-18T07:00:18.698Z"
   },
   {
    "duration": 78,
    "start_time": "2024-05-18T07:01:31.628Z"
   },
   {
    "duration": 74,
    "start_time": "2024-05-18T07:03:20.261Z"
   },
   {
    "duration": 18,
    "start_time": "2024-05-18T07:03:23.478Z"
   },
   {
    "duration": 19,
    "start_time": "2024-05-18T07:03:28.299Z"
   },
   {
    "duration": 355,
    "start_time": "2024-05-18T07:03:51.043Z"
   },
   {
    "duration": 36,
    "start_time": "2024-05-18T07:03:55.688Z"
   },
   {
    "duration": 11,
    "start_time": "2024-05-18T07:04:04.846Z"
   },
   {
    "duration": 4,
    "start_time": "2024-05-18T07:04:08.968Z"
   },
   {
    "duration": 147,
    "start_time": "2024-05-18T07:04:33.728Z"
   },
   {
    "duration": 112,
    "start_time": "2024-05-18T07:04:38.297Z"
   },
   {
    "duration": 364,
    "start_time": "2024-05-18T07:04:44.118Z"
   },
   {
    "duration": 4,
    "start_time": "2024-05-18T07:04:44.485Z"
   },
   {
    "duration": 112,
    "start_time": "2024-05-18T07:04:44.936Z"
   },
   {
    "duration": 8,
    "start_time": "2024-05-18T07:05:18.127Z"
   },
   {
    "duration": 3,
    "start_time": "2024-05-18T07:05:37.179Z"
   },
   {
    "duration": 3,
    "start_time": "2024-05-18T07:05:58.706Z"
   },
   {
    "duration": 10,
    "start_time": "2024-05-18T07:07:38.067Z"
   },
   {
    "duration": 5,
    "start_time": "2024-05-18T07:08:08.069Z"
   },
   {
    "duration": 5,
    "start_time": "2024-05-18T07:10:17.699Z"
   },
   {
    "duration": 128,
    "start_time": "2024-05-18T07:10:25.309Z"
   },
   {
    "duration": 4,
    "start_time": "2024-05-18T07:10:32.273Z"
   },
   {
    "duration": 4,
    "start_time": "2024-05-18T07:10:42.917Z"
   },
   {
    "duration": 73,
    "start_time": "2024-05-18T07:12:46.400Z"
   },
   {
    "duration": 4,
    "start_time": "2024-05-18T07:13:09.199Z"
   },
   {
    "duration": 4,
    "start_time": "2024-05-18T07:13:14.150Z"
   },
   {
    "duration": 4,
    "start_time": "2024-05-18T07:13:37.120Z"
   },
   {
    "duration": 5,
    "start_time": "2024-05-18T07:13:41.201Z"
   },
   {
    "duration": 3,
    "start_time": "2024-05-18T07:14:51.571Z"
   },
   {
    "duration": 3,
    "start_time": "2024-05-18T07:16:18.571Z"
   },
   {
    "duration": 2019,
    "start_time": "2024-05-18T07:17:13.893Z"
   },
   {
    "duration": 1196,
    "start_time": "2024-05-18T07:17:15.914Z"
   },
   {
    "duration": 275,
    "start_time": "2024-05-18T07:17:17.112Z"
   },
   {
    "duration": 4,
    "start_time": "2024-05-18T07:17:17.390Z"
   },
   {
    "duration": 64,
    "start_time": "2024-05-18T07:17:17.395Z"
   },
   {
    "duration": 5,
    "start_time": "2024-05-18T07:17:17.470Z"
   },
   {
    "duration": 102,
    "start_time": "2024-05-18T07:17:17.477Z"
   },
   {
    "duration": 16,
    "start_time": "2024-05-18T07:17:17.580Z"
   },
   {
    "duration": 99,
    "start_time": "2024-05-18T07:17:17.597Z"
   },
   {
    "duration": 261,
    "start_time": "2024-05-18T07:17:17.698Z"
   },
   {
    "duration": 36,
    "start_time": "2024-05-18T07:17:17.961Z"
   },
   {
    "duration": 113,
    "start_time": "2024-05-18T07:17:17.999Z"
   },
   {
    "duration": 159,
    "start_time": "2024-05-18T07:17:18.113Z"
   },
   {
    "duration": 13,
    "start_time": "2024-05-18T07:17:18.274Z"
   },
   {
    "duration": 107,
    "start_time": "2024-05-18T07:17:18.289Z"
   },
   {
    "duration": 99,
    "start_time": "2024-05-18T07:17:18.398Z"
   },
   {
    "duration": 40,
    "start_time": "2024-05-18T07:17:18.498Z"
   },
   {
    "duration": 36,
    "start_time": "2024-05-18T07:17:18.540Z"
   },
   {
    "duration": 57,
    "start_time": "2024-05-18T07:17:18.578Z"
   },
   {
    "duration": 49,
    "start_time": "2024-05-18T07:17:18.637Z"
   },
   {
    "duration": 56,
    "start_time": "2024-05-18T07:17:18.687Z"
   },
   {
    "duration": 36,
    "start_time": "2024-05-18T07:17:18.745Z"
   },
   {
    "duration": 34,
    "start_time": "2024-05-18T07:17:18.783Z"
   },
   {
    "duration": 74,
    "start_time": "2024-05-18T07:17:18.818Z"
   },
   {
    "duration": 112,
    "start_time": "2024-05-18T07:17:18.894Z"
   },
   {
    "duration": 47,
    "start_time": "2024-05-18T07:17:19.008Z"
   },
   {
    "duration": 27,
    "start_time": "2024-05-18T07:17:19.057Z"
   },
   {
    "duration": 285,
    "start_time": "2024-05-18T07:17:19.088Z"
   },
   {
    "duration": 10,
    "start_time": "2024-05-18T07:17:19.375Z"
   },
   {
    "duration": 1355,
    "start_time": "2024-05-18T07:17:46.392Z"
   },
   {
    "duration": 918,
    "start_time": "2024-05-18T07:17:47.749Z"
   },
   {
    "duration": 308,
    "start_time": "2024-05-18T07:17:48.669Z"
   },
   {
    "duration": 3,
    "start_time": "2024-05-18T07:17:48.979Z"
   },
   {
    "duration": 97,
    "start_time": "2024-05-18T07:17:48.984Z"
   },
   {
    "duration": 6,
    "start_time": "2024-05-18T07:17:49.082Z"
   },
   {
    "duration": 55,
    "start_time": "2024-05-18T07:17:49.090Z"
   },
   {
    "duration": 23,
    "start_time": "2024-05-18T07:17:49.147Z"
   },
   {
    "duration": 107,
    "start_time": "2024-05-18T07:17:49.172Z"
   },
   {
    "duration": 183,
    "start_time": "2024-05-18T07:17:49.281Z"
   },
   {
    "duration": 38,
    "start_time": "2024-05-18T07:17:49.466Z"
   },
   {
    "duration": 146,
    "start_time": "2024-05-18T07:17:49.506Z"
   },
   {
    "duration": 141,
    "start_time": "2024-05-18T07:17:49.654Z"
   },
   {
    "duration": 14,
    "start_time": "2024-05-18T07:17:49.799Z"
   },
   {
    "duration": 84,
    "start_time": "2024-05-18T07:17:49.815Z"
   },
   {
    "duration": 19,
    "start_time": "2024-05-18T07:17:49.902Z"
   },
   {
    "duration": 62,
    "start_time": "2024-05-18T07:17:49.922Z"
   },
   {
    "duration": 25,
    "start_time": "2024-05-18T07:17:49.986Z"
   },
   {
    "duration": 83,
    "start_time": "2024-05-18T07:17:50.012Z"
   },
   {
    "duration": 39,
    "start_time": "2024-05-18T07:17:50.097Z"
   },
   {
    "duration": 41,
    "start_time": "2024-05-18T07:17:50.138Z"
   },
   {
    "duration": 29,
    "start_time": "2024-05-18T07:17:50.181Z"
   },
   {
    "duration": 28,
    "start_time": "2024-05-18T07:17:50.212Z"
   },
   {
    "duration": 30,
    "start_time": "2024-05-18T07:17:50.242Z"
   },
   {
    "duration": 156,
    "start_time": "2024-05-18T07:17:50.274Z"
   },
   {
    "duration": 31,
    "start_time": "2024-05-18T07:17:50.432Z"
   },
   {
    "duration": 28,
    "start_time": "2024-05-18T07:17:50.465Z"
   },
   {
    "duration": 281,
    "start_time": "2024-05-18T07:17:50.496Z"
   },
   {
    "duration": 12,
    "start_time": "2024-05-18T07:17:50.779Z"
   },
   {
    "duration": 178,
    "start_time": "2024-05-18T07:17:50.793Z"
   },
   {
    "duration": 33,
    "start_time": "2024-05-18T07:17:50.973Z"
   },
   {
    "duration": 243,
    "start_time": "2024-05-18T07:17:51.008Z"
   },
   {
    "duration": 21,
    "start_time": "2024-05-18T07:17:51.253Z"
   },
   {
    "duration": 192,
    "start_time": "2024-05-18T07:17:51.277Z"
   },
   {
    "duration": 298,
    "start_time": "2024-05-18T07:17:51.471Z"
   },
   {
    "duration": 9,
    "start_time": "2024-05-18T07:17:51.771Z"
   },
   {
    "duration": 179,
    "start_time": "2024-05-18T07:17:51.781Z"
   },
   {
    "duration": 25,
    "start_time": "2024-05-18T07:17:51.961Z"
   },
   {
    "duration": 30,
    "start_time": "2024-05-18T07:17:51.988Z"
   },
   {
    "duration": 34,
    "start_time": "2024-05-18T07:17:52.020Z"
   },
   {
    "duration": 179,
    "start_time": "2024-05-18T07:17:52.059Z"
   },
   {
    "duration": 297,
    "start_time": "2024-05-18T07:17:52.239Z"
   },
   {
    "duration": 87,
    "start_time": "2024-05-18T07:17:52.538Z"
   },
   {
    "duration": 363,
    "start_time": "2024-05-18T07:17:52.627Z"
   },
   {
    "duration": 12,
    "start_time": "2024-05-18T07:17:52.992Z"
   },
   {
    "duration": 29,
    "start_time": "2024-05-18T07:17:53.005Z"
   },
   {
    "duration": 11,
    "start_time": "2024-05-18T07:17:53.036Z"
   },
   {
    "duration": 84,
    "start_time": "2024-05-18T07:17:53.049Z"
   },
   {
    "duration": 420,
    "start_time": "2024-05-18T07:17:53.134Z"
   },
   {
    "duration": 4,
    "start_time": "2024-05-18T07:17:53.556Z"
   },
   {
    "duration": 140,
    "start_time": "2024-05-18T07:17:53.569Z"
   },
   {
    "duration": 4,
    "start_time": "2024-05-18T07:17:53.710Z"
   },
   {
    "duration": 34,
    "start_time": "2024-05-18T07:17:53.716Z"
   },
   {
    "duration": 157,
    "start_time": "2024-05-18T07:17:53.752Z"
   },
   {
    "duration": 4,
    "start_time": "2024-05-18T07:17:53.911Z"
   },
   {
    "duration": 6,
    "start_time": "2024-05-18T07:17:53.918Z"
   },
   {
    "duration": 16,
    "start_time": "2024-05-18T07:17:53.926Z"
   },
   {
    "duration": 21,
    "start_time": "2024-05-18T07:17:53.944Z"
   },
   {
    "duration": 25,
    "start_time": "2024-05-18T07:17:53.967Z"
   },
   {
    "duration": 14719,
    "start_time": "2024-05-18T07:17:57.982Z"
   },
   {
    "duration": 64,
    "start_time": "2024-05-18T07:19:21.691Z"
   },
   {
    "duration": 23918,
    "start_time": "2024-05-18T07:23:39.053Z"
   },
   {
    "duration": 3,
    "start_time": "2024-05-18T07:27:59.389Z"
   },
   {
    "duration": 3,
    "start_time": "2024-05-18T07:28:27.101Z"
   },
   {
    "duration": 1325,
    "start_time": "2024-05-18T09:04:37.219Z"
   },
   {
    "duration": 911,
    "start_time": "2024-05-18T09:04:38.546Z"
   },
   {
    "duration": 262,
    "start_time": "2024-05-18T09:04:39.459Z"
   },
   {
    "duration": 3,
    "start_time": "2024-05-18T09:04:39.723Z"
   },
   {
    "duration": 85,
    "start_time": "2024-05-18T09:04:39.728Z"
   },
   {
    "duration": 6,
    "start_time": "2024-05-18T09:04:39.814Z"
   },
   {
    "duration": 167,
    "start_time": "2024-05-18T09:04:39.822Z"
   },
   {
    "duration": 29,
    "start_time": "2024-05-18T09:04:39.991Z"
   },
   {
    "duration": 119,
    "start_time": "2024-05-18T09:04:40.022Z"
   },
   {
    "duration": 208,
    "start_time": "2024-05-18T09:04:40.143Z"
   },
   {
    "duration": 43,
    "start_time": "2024-05-18T09:04:40.352Z"
   },
   {
    "duration": 164,
    "start_time": "2024-05-18T09:04:40.397Z"
   },
   {
    "duration": 129,
    "start_time": "2024-05-18T09:04:40.563Z"
   },
   {
    "duration": 13,
    "start_time": "2024-05-18T09:04:40.696Z"
   },
   {
    "duration": 43,
    "start_time": "2024-05-18T09:04:40.711Z"
   },
   {
    "duration": 63,
    "start_time": "2024-05-18T09:04:40.756Z"
   },
   {
    "duration": 37,
    "start_time": "2024-05-18T09:04:40.821Z"
   },
   {
    "duration": 59,
    "start_time": "2024-05-18T09:04:40.860Z"
   },
   {
    "duration": 55,
    "start_time": "2024-05-18T09:04:40.921Z"
   },
   {
    "duration": 30,
    "start_time": "2024-05-18T09:04:40.977Z"
   },
   {
    "duration": 39,
    "start_time": "2024-05-18T09:04:41.009Z"
   },
   {
    "duration": 33,
    "start_time": "2024-05-18T09:04:41.050Z"
   },
   {
    "duration": 37,
    "start_time": "2024-05-18T09:04:41.084Z"
   },
   {
    "duration": 21,
    "start_time": "2024-05-18T09:04:41.122Z"
   },
   {
    "duration": 98,
    "start_time": "2024-05-18T09:04:41.145Z"
   },
   {
    "duration": 6,
    "start_time": "2024-05-18T09:04:41.244Z"
   },
   {
    "duration": 45,
    "start_time": "2024-05-18T09:04:41.251Z"
   },
   {
    "duration": 340,
    "start_time": "2024-05-18T09:04:41.297Z"
   },
   {
    "duration": 11,
    "start_time": "2024-05-18T09:04:41.638Z"
   },
   {
    "duration": 236,
    "start_time": "2024-05-18T09:04:41.650Z"
   },
   {
    "duration": 32,
    "start_time": "2024-05-18T09:04:41.888Z"
   },
   {
    "duration": 237,
    "start_time": "2024-05-18T09:04:41.922Z"
   },
   {
    "duration": 17,
    "start_time": "2024-05-18T09:04:42.160Z"
   },
   {
    "duration": 101,
    "start_time": "2024-05-18T09:04:42.179Z"
   },
   {
    "duration": 290,
    "start_time": "2024-05-18T09:04:42.282Z"
   },
   {
    "duration": 12,
    "start_time": "2024-05-18T09:04:42.575Z"
   },
   {
    "duration": 175,
    "start_time": "2024-05-18T09:04:42.588Z"
   },
   {
    "duration": 25,
    "start_time": "2024-05-18T09:04:42.765Z"
   },
   {
    "duration": 9,
    "start_time": "2024-05-18T09:04:42.791Z"
   },
   {
    "duration": 13,
    "start_time": "2024-05-18T09:04:42.802Z"
   },
   {
    "duration": 253,
    "start_time": "2024-05-18T09:04:42.818Z"
   },
   {
    "duration": 333,
    "start_time": "2024-05-18T09:04:43.073Z"
   },
   {
    "duration": 81,
    "start_time": "2024-05-18T09:04:43.408Z"
   },
   {
    "duration": 341,
    "start_time": "2024-05-18T09:04:43.490Z"
   },
   {
    "duration": 11,
    "start_time": "2024-05-18T09:04:43.833Z"
   },
   {
    "duration": 123,
    "start_time": "2024-05-18T09:05:06.901Z"
   },
   {
    "duration": 3,
    "start_time": "2024-05-18T09:05:21.849Z"
   },
   {
    "duration": 3,
    "start_time": "2024-05-18T09:05:33.729Z"
   },
   {
    "duration": 3,
    "start_time": "2024-05-18T09:05:56.849Z"
   },
   {
    "duration": 70,
    "start_time": "2024-05-18T09:06:05.727Z"
   },
   {
    "duration": 589,
    "start_time": "2024-05-18T09:06:13.602Z"
   },
   {
    "duration": 4,
    "start_time": "2024-05-18T09:06:53.388Z"
   },
   {
    "duration": 4,
    "start_time": "2024-05-18T09:06:54.749Z"
   },
   {
    "duration": 76,
    "start_time": "2024-05-18T09:06:55.099Z"
   },
   {
    "duration": 567,
    "start_time": "2024-05-18T09:06:56.409Z"
   },
   {
    "duration": 4,
    "start_time": "2024-05-18T09:07:09.252Z"
   },
   {
    "duration": 15,
    "start_time": "2024-05-18T09:08:15.879Z"
   },
   {
    "duration": 4,
    "start_time": "2024-05-18T09:08:38.879Z"
   },
   {
    "duration": 15,
    "start_time": "2024-05-18T09:08:44.489Z"
   },
   {
    "duration": 14,
    "start_time": "2024-05-18T09:09:14.899Z"
   },
   {
    "duration": 12,
    "start_time": "2024-05-18T09:10:02.087Z"
   },
   {
    "duration": 12,
    "start_time": "2024-05-18T09:10:10.380Z"
   },
   {
    "duration": 9210,
    "start_time": "2024-05-18T09:10:31.760Z"
   },
   {
    "duration": 4,
    "start_time": "2024-05-18T09:10:53.890Z"
   },
   {
    "duration": 3,
    "start_time": "2024-05-18T09:11:03.369Z"
   },
   {
    "duration": 308,
    "start_time": "2024-05-18T09:11:12.572Z"
   },
   {
    "duration": 141,
    "start_time": "2024-05-18T09:11:15.630Z"
   },
   {
    "duration": 57,
    "start_time": "2024-05-18T09:11:23.221Z"
   },
   {
    "duration": 10,
    "start_time": "2024-05-18T09:11:26.991Z"
   },
   {
    "duration": 65,
    "start_time": "2024-05-18T09:11:45.084Z"
   },
   {
    "duration": 160465,
    "start_time": "2024-05-18T09:11:58.717Z"
   },
   {
    "duration": 3,
    "start_time": "2024-05-18T09:14:39.184Z"
   },
   {
    "duration": 3,
    "start_time": "2024-05-18T09:33:08.933Z"
   },
   {
    "duration": 12614,
    "start_time": "2024-05-18T09:33:19.817Z"
   },
   {
    "duration": 1186,
    "start_time": "2024-05-18T09:33:32.433Z"
   },
   {
    "duration": 2463,
    "start_time": "2024-05-18T09:33:34.676Z"
   },
   {
    "duration": 12,
    "start_time": "2024-05-18T09:33:38.145Z"
   },
   {
    "duration": 1372,
    "start_time": "2024-05-18T11:03:00.292Z"
   },
   {
    "duration": 1029,
    "start_time": "2024-05-18T11:03:01.672Z"
   },
   {
    "duration": 291,
    "start_time": "2024-05-18T11:03:02.703Z"
   },
   {
    "duration": 4,
    "start_time": "2024-05-18T11:03:02.996Z"
   },
   {
    "duration": 90,
    "start_time": "2024-05-18T11:03:03.002Z"
   },
   {
    "duration": 6,
    "start_time": "2024-05-18T11:03:03.094Z"
   },
   {
    "duration": 109,
    "start_time": "2024-05-18T11:03:03.102Z"
   },
   {
    "duration": 29,
    "start_time": "2024-05-18T11:03:03.213Z"
   },
   {
    "duration": 124,
    "start_time": "2024-05-18T11:03:03.243Z"
   },
   {
    "duration": 190,
    "start_time": "2024-05-18T11:03:03.369Z"
   },
   {
    "duration": 47,
    "start_time": "2024-05-18T11:03:03.561Z"
   },
   {
    "duration": 122,
    "start_time": "2024-05-18T11:03:03.610Z"
   },
   {
    "duration": 146,
    "start_time": "2024-05-18T11:03:03.734Z"
   },
   {
    "duration": 58,
    "start_time": "2024-05-18T11:03:03.884Z"
   },
   {
    "duration": 45,
    "start_time": "2024-05-18T11:03:03.945Z"
   },
   {
    "duration": 22,
    "start_time": "2024-05-18T11:03:03.992Z"
   },
   {
    "duration": 38,
    "start_time": "2024-05-18T11:03:04.016Z"
   },
   {
    "duration": 37,
    "start_time": "2024-05-18T11:03:04.056Z"
   },
   {
    "duration": 40,
    "start_time": "2024-05-18T11:03:04.095Z"
   },
   {
    "duration": 33,
    "start_time": "2024-05-18T11:03:04.137Z"
   },
   {
    "duration": 58,
    "start_time": "2024-05-18T11:03:04.172Z"
   },
   {
    "duration": 44,
    "start_time": "2024-05-18T11:03:04.232Z"
   },
   {
    "duration": 25,
    "start_time": "2024-05-18T11:03:04.279Z"
   },
   {
    "duration": 35,
    "start_time": "2024-05-18T11:03:04.306Z"
   },
   {
    "duration": 315,
    "start_time": "2024-05-18T11:03:04.343Z"
   },
   {
    "duration": 14,
    "start_time": "2024-05-18T11:03:04.659Z"
   },
   {
    "duration": 29,
    "start_time": "2024-05-18T11:03:04.675Z"
   },
   {
    "duration": 307,
    "start_time": "2024-05-18T11:03:04.707Z"
   },
   {
    "duration": 10,
    "start_time": "2024-05-18T11:03:05.016Z"
   },
   {
    "duration": 183,
    "start_time": "2024-05-18T11:03:05.027Z"
   },
   {
    "duration": 32,
    "start_time": "2024-05-18T11:03:05.212Z"
   },
   {
    "duration": 238,
    "start_time": "2024-05-18T11:03:05.245Z"
   },
   {
    "duration": 12,
    "start_time": "2024-05-18T11:03:05.486Z"
   },
   {
    "duration": 97,
    "start_time": "2024-05-18T11:03:05.499Z"
   },
   {
    "duration": 309,
    "start_time": "2024-05-18T11:03:05.599Z"
   },
   {
    "duration": 11,
    "start_time": "2024-05-18T11:03:05.909Z"
   },
   {
    "duration": 225,
    "start_time": "2024-05-18T11:03:05.922Z"
   },
   {
    "duration": 37,
    "start_time": "2024-05-18T11:03:06.149Z"
   },
   {
    "duration": 10,
    "start_time": "2024-05-18T11:03:06.189Z"
   },
   {
    "duration": 46,
    "start_time": "2024-05-18T11:03:06.200Z"
   },
   {
    "duration": 167,
    "start_time": "2024-05-18T11:03:06.251Z"
   },
   {
    "duration": 331,
    "start_time": "2024-05-18T11:03:06.420Z"
   },
   {
    "duration": 87,
    "start_time": "2024-05-18T11:03:06.753Z"
   },
   {
    "duration": 396,
    "start_time": "2024-05-18T11:03:06.841Z"
   },
   {
    "duration": 17,
    "start_time": "2024-05-18T11:03:10.463Z"
   },
   {
    "duration": 3,
    "start_time": "2024-05-18T11:03:10.752Z"
   },
   {
    "duration": 4,
    "start_time": "2024-05-18T11:03:11.102Z"
   },
   {
    "duration": 85,
    "start_time": "2024-05-18T11:03:11.374Z"
   },
   {
    "duration": 585,
    "start_time": "2024-05-18T11:03:11.794Z"
   },
   {
    "duration": 5,
    "start_time": "2024-05-18T11:03:13.174Z"
   },
   {
    "duration": 188,
    "start_time": "2024-05-18T11:03:25.753Z"
   },
   {
    "duration": 3,
    "start_time": "2024-05-18T11:03:39.464Z"
   },
   {
    "duration": 4,
    "start_time": "2024-05-18T11:04:35.377Z"
   },
   {
    "duration": 4,
    "start_time": "2024-05-18T11:04:45.872Z"
   },
   {
    "duration": 4,
    "start_time": "2024-05-18T11:04:57.465Z"
   },
   {
    "duration": 9913,
    "start_time": "2024-05-18T11:05:36.676Z"
   },
   {
    "duration": 4,
    "start_time": "2024-05-18T11:05:50.888Z"
   },
   {
    "duration": 3,
    "start_time": "2024-05-18T11:05:59.632Z"
   },
   {
    "duration": 368,
    "start_time": "2024-05-18T11:06:00.128Z"
   },
   {
    "duration": 16,
    "start_time": "2024-05-18T11:06:01.290Z"
   },
   {
    "duration": 13,
    "start_time": "2024-05-18T11:06:01.789Z"
   },
   {
    "duration": 167247,
    "start_time": "2024-05-18T11:06:35.536Z"
   },
   {
    "duration": 4,
    "start_time": "2024-05-18T11:09:22.785Z"
   },
   {
    "duration": 3,
    "start_time": "2024-05-18T11:10:56.946Z"
   },
   {
    "duration": 13528,
    "start_time": "2024-05-18T11:10:57.265Z"
   },
   {
    "duration": 2556,
    "start_time": "2024-05-18T11:11:10.795Z"
   },
   {
    "duration": 10,
    "start_time": "2024-05-18T11:11:13.352Z"
   },
   {
    "duration": 12068,
    "start_time": "2024-05-18T11:11:46.675Z"
   },
   {
    "duration": 2427,
    "start_time": "2024-05-18T11:11:58.744Z"
   },
   {
    "duration": 10,
    "start_time": "2024-05-18T11:12:04.216Z"
   },
   {
    "duration": 2338,
    "start_time": "2024-05-18T11:12:11.617Z"
   },
   {
    "duration": 15,
    "start_time": "2024-05-18T11:12:13.957Z"
   },
   {
    "duration": 292,
    "start_time": "2024-05-18T11:13:07.178Z"
   },
   {
    "duration": 17,
    "start_time": "2024-05-18T11:13:14.505Z"
   },
   {
    "duration": 9,
    "start_time": "2024-05-18T11:13:16.245Z"
   },
   {
    "duration": 12940,
    "start_time": "2024-05-18T11:13:28.739Z"
   },
   {
    "duration": 2361,
    "start_time": "2024-05-18T11:13:41.682Z"
   },
   {
    "duration": 10,
    "start_time": "2024-05-18T11:13:44.044Z"
   },
   {
    "duration": 283250,
    "start_time": "2024-05-18T11:14:58.327Z"
   },
   {
    "duration": 3,
    "start_time": "2024-05-18T11:19:41.579Z"
   },
   {
    "duration": 17588,
    "start_time": "2024-05-18T11:19:41.583Z"
   },
   {
    "duration": 8144,
    "start_time": "2024-05-18T11:19:59.174Z"
   },
   {
    "duration": 54,
    "start_time": "2024-05-18T11:20:07.319Z"
   },
   {
    "duration": 90,
    "start_time": "2024-05-18T11:20:07.375Z"
   },
   {
    "duration": 10,
    "start_time": "2024-05-18T11:20:07.467Z"
   },
   {
    "duration": 0,
    "start_time": "2024-05-18T11:20:07.479Z"
   },
   {
    "duration": 0,
    "start_time": "2024-05-18T11:20:07.480Z"
   },
   {
    "duration": 0,
    "start_time": "2024-05-18T11:20:07.482Z"
   },
   {
    "duration": 315,
    "start_time": "2024-05-18T11:20:37.009Z"
   },
   {
    "duration": 512278,
    "start_time": "2024-05-18T11:20:46.580Z"
   },
   {
    "duration": 3,
    "start_time": "2024-05-18T11:29:18.860Z"
   },
   {
    "duration": 32074,
    "start_time": "2024-05-18T11:29:18.869Z"
   },
   {
    "duration": 62,
    "start_time": "2024-05-18T11:29:50.945Z"
   },
   {
    "duration": 14,
    "start_time": "2024-05-18T11:29:51.009Z"
   },
   {
    "duration": 0,
    "start_time": "2024-05-18T11:29:51.026Z"
   },
   {
    "duration": 0,
    "start_time": "2024-05-18T11:29:51.028Z"
   },
   {
    "duration": 0,
    "start_time": "2024-05-18T11:29:51.030Z"
   },
   {
    "duration": 0,
    "start_time": "2024-05-18T11:29:51.032Z"
   },
   {
    "duration": 0,
    "start_time": "2024-05-18T11:29:51.033Z"
   },
   {
    "duration": 2,
    "start_time": "2024-05-18T11:30:04.557Z"
   },
   {
    "duration": 32666,
    "start_time": "2024-05-18T11:30:05.015Z"
   },
   {
    "duration": 3163,
    "start_time": "2024-05-18T11:30:37.682Z"
   },
   {
    "duration": 11,
    "start_time": "2024-05-18T11:30:40.846Z"
   },
   {
    "duration": 53,
    "start_time": "2024-05-18T11:30:40.858Z"
   },
   {
    "duration": 2,
    "start_time": "2024-05-18T11:30:40.913Z"
   },
   {
    "duration": 28,
    "start_time": "2024-05-18T11:30:40.916Z"
   },
   {
    "duration": 25,
    "start_time": "2024-05-18T11:30:40.946Z"
   },
   {
    "duration": 10,
    "start_time": "2024-05-18T11:30:40.972Z"
   },
   {
    "duration": 8,
    "start_time": "2024-05-18T11:31:45.308Z"
   },
   {
    "duration": 13004,
    "start_time": "2024-05-18T12:11:14.878Z"
   },
   {
    "duration": 994,
    "start_time": "2024-05-18T12:11:32.588Z"
   },
   {
    "duration": 5,
    "start_time": "2024-05-18T12:11:41.288Z"
   },
   {
    "duration": 9,
    "start_time": "2024-05-18T12:11:44.596Z"
   },
   {
    "duration": 3,
    "start_time": "2024-05-18T12:14:43.627Z"
   },
   {
    "duration": 4,
    "start_time": "2024-05-19T12:09:41.263Z"
   },
   {
    "duration": 906,
    "start_time": "2024-05-19T12:09:41.270Z"
   },
   {
    "duration": 236,
    "start_time": "2024-05-19T12:09:42.177Z"
   },
   {
    "duration": 3,
    "start_time": "2024-05-19T12:09:42.415Z"
   },
   {
    "duration": 87,
    "start_time": "2024-05-19T12:09:42.421Z"
   },
   {
    "duration": 6,
    "start_time": "2024-05-19T12:09:42.510Z"
   },
   {
    "duration": 37,
    "start_time": "2024-05-19T12:09:42.518Z"
   },
   {
    "duration": 29,
    "start_time": "2024-05-19T12:09:42.556Z"
   },
   {
    "duration": 106,
    "start_time": "2024-05-19T12:09:42.587Z"
   },
   {
    "duration": 178,
    "start_time": "2024-05-19T12:09:42.695Z"
   },
   {
    "duration": 39,
    "start_time": "2024-05-19T12:09:42.875Z"
   },
   {
    "duration": 106,
    "start_time": "2024-05-19T12:09:42.916Z"
   },
   {
    "duration": 118,
    "start_time": "2024-05-19T12:09:43.024Z"
   },
   {
    "duration": 15,
    "start_time": "2024-05-19T12:09:43.145Z"
   },
   {
    "duration": 52,
    "start_time": "2024-05-19T12:09:43.162Z"
   },
   {
    "duration": 36,
    "start_time": "2024-05-19T12:09:43.216Z"
   },
   {
    "duration": 37,
    "start_time": "2024-05-19T12:09:43.253Z"
   },
   {
    "duration": 19,
    "start_time": "2024-05-19T12:09:43.292Z"
   },
   {
    "duration": 50,
    "start_time": "2024-05-19T12:09:43.312Z"
   },
   {
    "duration": 31,
    "start_time": "2024-05-19T12:09:43.364Z"
   },
   {
    "duration": 44,
    "start_time": "2024-05-19T12:09:43.397Z"
   },
   {
    "duration": 21,
    "start_time": "2024-05-19T12:09:43.443Z"
   },
   {
    "duration": 25,
    "start_time": "2024-05-19T12:09:43.472Z"
   },
   {
    "duration": 24,
    "start_time": "2024-05-19T12:09:43.499Z"
   },
   {
    "duration": 123,
    "start_time": "2024-05-19T12:09:43.525Z"
   },
   {
    "duration": 9,
    "start_time": "2024-05-19T12:09:43.651Z"
   },
   {
    "duration": 31,
    "start_time": "2024-05-19T12:09:43.662Z"
   },
   {
    "duration": 288,
    "start_time": "2024-05-19T12:09:43.694Z"
   },
   {
    "duration": 12,
    "start_time": "2024-05-19T12:09:43.984Z"
   },
   {
    "duration": 166,
    "start_time": "2024-05-19T12:09:43.998Z"
   },
   {
    "duration": 33,
    "start_time": "2024-05-19T12:09:44.166Z"
   },
   {
    "duration": 206,
    "start_time": "2024-05-19T12:09:44.201Z"
   },
   {
    "duration": 9,
    "start_time": "2024-05-19T12:09:44.409Z"
   },
   {
    "duration": 78,
    "start_time": "2024-05-19T12:09:44.420Z"
   },
   {
    "duration": 230,
    "start_time": "2024-05-19T12:09:44.500Z"
   },
   {
    "duration": 9,
    "start_time": "2024-05-19T12:09:44.732Z"
   },
   {
    "duration": 270,
    "start_time": "2024-05-19T12:09:44.742Z"
   },
   {
    "duration": 22,
    "start_time": "2024-05-19T12:09:45.014Z"
   },
   {
    "duration": 37,
    "start_time": "2024-05-19T12:09:45.038Z"
   },
   {
    "duration": 14,
    "start_time": "2024-05-19T12:09:45.078Z"
   },
   {
    "duration": 171,
    "start_time": "2024-05-19T12:09:45.098Z"
   },
   {
    "duration": 309,
    "start_time": "2024-05-19T12:09:45.270Z"
   },
   {
    "duration": 81,
    "start_time": "2024-05-19T12:09:45.582Z"
   },
   {
    "duration": 385,
    "start_time": "2024-05-19T12:09:45.664Z"
   },
   {
    "duration": 11,
    "start_time": "2024-05-19T12:09:46.051Z"
   },
   {
    "duration": 27,
    "start_time": "2024-05-19T12:09:46.063Z"
   },
   {
    "duration": 0,
    "start_time": "2024-05-19T12:09:46.092Z"
   },
   {
    "duration": 0,
    "start_time": "2024-05-19T12:09:46.093Z"
   },
   {
    "duration": 0,
    "start_time": "2024-05-19T12:09:46.095Z"
   },
   {
    "duration": 0,
    "start_time": "2024-05-19T12:09:46.097Z"
   },
   {
    "duration": 0,
    "start_time": "2024-05-19T12:09:46.098Z"
   },
   {
    "duration": 0,
    "start_time": "2024-05-19T12:09:46.100Z"
   },
   {
    "duration": 0,
    "start_time": "2024-05-19T12:09:46.101Z"
   },
   {
    "duration": 1,
    "start_time": "2024-05-19T12:09:46.102Z"
   },
   {
    "duration": 0,
    "start_time": "2024-05-19T12:09:46.104Z"
   },
   {
    "duration": 5,
    "start_time": "2024-05-19T12:10:23.125Z"
   },
   {
    "duration": 1561,
    "start_time": "2024-05-19T12:10:42.657Z"
   },
   {
    "duration": 907,
    "start_time": "2024-05-19T12:10:44.220Z"
   },
   {
    "duration": 287,
    "start_time": "2024-05-19T12:10:45.129Z"
   },
   {
    "duration": 4,
    "start_time": "2024-05-19T12:10:45.417Z"
   },
   {
    "duration": 84,
    "start_time": "2024-05-19T12:10:45.423Z"
   },
   {
    "duration": 5,
    "start_time": "2024-05-19T12:10:45.509Z"
   },
   {
    "duration": 55,
    "start_time": "2024-05-19T12:10:45.516Z"
   },
   {
    "duration": 27,
    "start_time": "2024-05-19T12:10:45.573Z"
   },
   {
    "duration": 128,
    "start_time": "2024-05-19T12:10:45.602Z"
   },
   {
    "duration": 248,
    "start_time": "2024-05-19T12:10:45.731Z"
   },
   {
    "duration": 47,
    "start_time": "2024-05-19T12:10:45.982Z"
   },
   {
    "duration": 113,
    "start_time": "2024-05-19T12:10:46.031Z"
   },
   {
    "duration": 147,
    "start_time": "2024-05-19T12:10:46.146Z"
   },
   {
    "duration": 15,
    "start_time": "2024-05-19T12:10:46.298Z"
   },
   {
    "duration": 60,
    "start_time": "2024-05-19T12:10:46.315Z"
   },
   {
    "duration": 24,
    "start_time": "2024-05-19T12:10:46.382Z"
   },
   {
    "duration": 54,
    "start_time": "2024-05-19T12:10:46.408Z"
   },
   {
    "duration": 42,
    "start_time": "2024-05-19T12:10:46.463Z"
   },
   {
    "duration": 43,
    "start_time": "2024-05-19T12:10:46.506Z"
   },
   {
    "duration": 22,
    "start_time": "2024-05-19T12:10:46.551Z"
   },
   {
    "duration": 50,
    "start_time": "2024-05-19T12:10:46.574Z"
   },
   {
    "duration": 23,
    "start_time": "2024-05-19T12:10:46.626Z"
   },
   {
    "duration": 27,
    "start_time": "2024-05-19T12:10:46.650Z"
   },
   {
    "duration": 33,
    "start_time": "2024-05-19T12:10:46.681Z"
   },
   {
    "duration": 126,
    "start_time": "2024-05-19T12:10:46.715Z"
   },
   {
    "duration": 12,
    "start_time": "2024-05-19T12:10:46.843Z"
   },
   {
    "duration": 41,
    "start_time": "2024-05-19T12:10:46.857Z"
   },
   {
    "duration": 424,
    "start_time": "2024-05-19T12:10:46.901Z"
   },
   {
    "duration": 67,
    "start_time": "2024-05-19T12:10:47.326Z"
   },
   {
    "duration": 510,
    "start_time": "2024-05-19T12:10:47.395Z"
   },
   {
    "duration": 84,
    "start_time": "2024-05-19T12:10:47.907Z"
   },
   {
    "duration": 414,
    "start_time": "2024-05-19T12:10:47.993Z"
   },
   {
    "duration": 9,
    "start_time": "2024-05-19T12:10:48.409Z"
   },
   {
    "duration": 197,
    "start_time": "2024-05-19T12:10:48.419Z"
   },
   {
    "duration": 503,
    "start_time": "2024-05-19T12:10:48.618Z"
   },
   {
    "duration": 10,
    "start_time": "2024-05-19T12:10:49.123Z"
   },
   {
    "duration": 190,
    "start_time": "2024-05-19T12:10:49.135Z"
   },
   {
    "duration": 24,
    "start_time": "2024-05-19T12:10:49.327Z"
   },
   {
    "duration": 8,
    "start_time": "2024-05-19T12:10:49.353Z"
   },
   {
    "duration": 29,
    "start_time": "2024-05-19T12:10:49.363Z"
   },
   {
    "duration": 176,
    "start_time": "2024-05-19T12:10:49.403Z"
   },
   {
    "duration": 321,
    "start_time": "2024-05-19T12:10:49.580Z"
   },
   {
    "duration": 109,
    "start_time": "2024-05-19T12:10:49.903Z"
   },
   {
    "duration": 404,
    "start_time": "2024-05-19T12:10:50.014Z"
   },
   {
    "duration": 17,
    "start_time": "2024-05-19T12:10:50.420Z"
   },
   {
    "duration": 16,
    "start_time": "2024-05-19T12:10:50.440Z"
   },
   {
    "duration": 13,
    "start_time": "2024-05-19T12:10:50.459Z"
   },
   {
    "duration": 77,
    "start_time": "2024-05-19T12:10:50.474Z"
   },
   {
    "duration": 150,
    "start_time": "2024-05-19T12:10:50.554Z"
   },
   {
    "duration": 0,
    "start_time": "2024-05-19T12:10:50.706Z"
   },
   {
    "duration": 0,
    "start_time": "2024-05-19T12:10:50.708Z"
   },
   {
    "duration": 0,
    "start_time": "2024-05-19T12:10:50.709Z"
   },
   {
    "duration": 0,
    "start_time": "2024-05-19T12:10:50.711Z"
   },
   {
    "duration": 0,
    "start_time": "2024-05-19T12:10:50.712Z"
   },
   {
    "duration": 0,
    "start_time": "2024-05-19T12:10:50.714Z"
   },
   {
    "duration": 0,
    "start_time": "2024-05-19T12:10:50.715Z"
   },
   {
    "duration": 7067,
    "start_time": "2024-05-19T12:12:08.148Z"
   },
   {
    "duration": 3078,
    "start_time": "2024-05-19T12:12:47.817Z"
   },
   {
    "duration": 1421,
    "start_time": "2024-05-19T12:12:50.898Z"
   },
   {
    "duration": 977,
    "start_time": "2024-05-19T12:12:52.320Z"
   },
   {
    "duration": 261,
    "start_time": "2024-05-19T12:12:53.299Z"
   },
   {
    "duration": 3,
    "start_time": "2024-05-19T12:12:53.562Z"
   },
   {
    "duration": 80,
    "start_time": "2024-05-19T12:12:53.566Z"
   },
   {
    "duration": 5,
    "start_time": "2024-05-19T12:12:53.648Z"
   },
   {
    "duration": 64,
    "start_time": "2024-05-19T12:12:53.655Z"
   },
   {
    "duration": 10,
    "start_time": "2024-05-19T12:12:53.720Z"
   },
   {
    "duration": 112,
    "start_time": "2024-05-19T12:12:53.732Z"
   },
   {
    "duration": 199,
    "start_time": "2024-05-19T12:12:53.845Z"
   },
   {
    "duration": 50,
    "start_time": "2024-05-19T12:12:54.045Z"
   },
   {
    "duration": 99,
    "start_time": "2024-05-19T12:12:54.097Z"
   },
   {
    "duration": 145,
    "start_time": "2024-05-19T12:12:54.200Z"
   },
   {
    "duration": 13,
    "start_time": "2024-05-19T12:12:54.347Z"
   },
   {
    "duration": 62,
    "start_time": "2024-05-19T12:12:54.362Z"
   },
   {
    "duration": 18,
    "start_time": "2024-05-19T12:12:54.426Z"
   },
   {
    "duration": 56,
    "start_time": "2024-05-19T12:12:54.446Z"
   },
   {
    "duration": 27,
    "start_time": "2024-05-19T12:12:54.503Z"
   },
   {
    "duration": 43,
    "start_time": "2024-05-19T12:12:54.531Z"
   },
   {
    "duration": 28,
    "start_time": "2024-05-19T12:12:54.584Z"
   },
   {
    "duration": 36,
    "start_time": "2024-05-19T12:12:54.613Z"
   },
   {
    "duration": 38,
    "start_time": "2024-05-19T12:12:54.651Z"
   },
   {
    "duration": 22,
    "start_time": "2024-05-19T12:12:54.694Z"
   },
   {
    "duration": 20,
    "start_time": "2024-05-19T12:12:54.717Z"
   },
   {
    "duration": 122,
    "start_time": "2024-05-19T12:12:54.738Z"
   },
   {
    "duration": 8,
    "start_time": "2024-05-19T12:12:54.862Z"
   },
   {
    "duration": 39,
    "start_time": "2024-05-19T12:12:54.871Z"
   },
   {
    "duration": 293,
    "start_time": "2024-05-19T12:12:54.912Z"
   },
   {
    "duration": 11,
    "start_time": "2024-05-19T12:12:55.206Z"
   },
   {
    "duration": 180,
    "start_time": "2024-05-19T12:12:55.218Z"
   },
   {
    "duration": 31,
    "start_time": "2024-05-19T12:12:55.399Z"
   },
   {
    "duration": 291,
    "start_time": "2024-05-19T12:12:55.432Z"
   },
   {
    "duration": 8,
    "start_time": "2024-05-19T12:12:55.725Z"
   },
   {
    "duration": 91,
    "start_time": "2024-05-19T12:12:55.735Z"
   },
   {
    "duration": 240,
    "start_time": "2024-05-19T12:12:55.829Z"
   },
   {
    "duration": 28,
    "start_time": "2024-05-19T12:12:56.071Z"
   },
   {
    "duration": 164,
    "start_time": "2024-05-19T12:12:56.101Z"
   },
   {
    "duration": 39,
    "start_time": "2024-05-19T12:12:56.267Z"
   },
   {
    "duration": 9,
    "start_time": "2024-05-19T12:12:56.307Z"
   },
   {
    "duration": 12,
    "start_time": "2024-05-19T12:12:56.320Z"
   },
   {
    "duration": 206,
    "start_time": "2024-05-19T12:12:56.333Z"
   },
   {
    "duration": 314,
    "start_time": "2024-05-19T12:12:56.541Z"
   },
   {
    "duration": 89,
    "start_time": "2024-05-19T12:12:56.857Z"
   },
   {
    "duration": 370,
    "start_time": "2024-05-19T12:12:56.947Z"
   },
   {
    "duration": 11,
    "start_time": "2024-05-19T12:12:57.319Z"
   },
   {
    "duration": 143,
    "start_time": "2024-05-19T12:12:57.331Z"
   },
   {
    "duration": 0,
    "start_time": "2024-05-19T12:12:57.476Z"
   },
   {
    "duration": 0,
    "start_time": "2024-05-19T12:12:57.477Z"
   },
   {
    "duration": 0,
    "start_time": "2024-05-19T12:12:57.478Z"
   },
   {
    "duration": 0,
    "start_time": "2024-05-19T12:12:57.479Z"
   },
   {
    "duration": 0,
    "start_time": "2024-05-19T12:12:57.480Z"
   },
   {
    "duration": 0,
    "start_time": "2024-05-19T12:12:57.486Z"
   },
   {
    "duration": 0,
    "start_time": "2024-05-19T12:12:57.486Z"
   },
   {
    "duration": 0,
    "start_time": "2024-05-19T12:12:57.487Z"
   },
   {
    "duration": 0,
    "start_time": "2024-05-19T12:12:57.488Z"
   },
   {
    "duration": 0,
    "start_time": "2024-05-19T12:12:57.488Z"
   },
   {
    "duration": 12,
    "start_time": "2024-05-19T12:13:15.044Z"
   },
   {
    "duration": 10,
    "start_time": "2024-05-19T12:13:21.706Z"
   },
   {
    "duration": 3,
    "start_time": "2024-05-19T12:13:29.748Z"
   },
   {
    "duration": 3,
    "start_time": "2024-05-19T12:13:30.546Z"
   },
   {
    "duration": 76,
    "start_time": "2024-05-19T12:13:30.845Z"
   },
   {
    "duration": 670,
    "start_time": "2024-05-19T12:13:31.074Z"
   },
   {
    "duration": 0,
    "start_time": "2024-05-19T12:13:31.747Z"
   },
   {
    "duration": 3,
    "start_time": "2024-05-19T12:13:48.277Z"
   },
   {
    "duration": 13,
    "start_time": "2024-05-19T12:13:58.789Z"
   },
   {
    "duration": 10,
    "start_time": "2024-05-19T12:14:30.116Z"
   },
   {
    "duration": 9,
    "start_time": "2024-05-19T12:14:44.446Z"
   },
   {
    "duration": 14,
    "start_time": "2024-05-19T12:15:01.545Z"
   },
   {
    "duration": 3,
    "start_time": "2024-05-19T12:15:31.743Z"
   },
   {
    "duration": 3,
    "start_time": "2024-05-19T12:15:34.743Z"
   },
   {
    "duration": 80,
    "start_time": "2024-05-19T12:15:35.245Z"
   },
   {
    "duration": 670,
    "start_time": "2024-05-19T12:15:35.715Z"
   },
   {
    "duration": 4,
    "start_time": "2024-05-19T12:15:37.087Z"
   },
   {
    "duration": 9944,
    "start_time": "2024-05-19T12:15:41.565Z"
   },
   {
    "duration": 4,
    "start_time": "2024-05-19T12:15:51.511Z"
   },
   {
    "duration": 9,
    "start_time": "2024-05-19T12:15:51.582Z"
   },
   {
    "duration": 400,
    "start_time": "2024-05-19T12:15:51.593Z"
   },
   {
    "duration": 106,
    "start_time": "2024-05-19T12:15:51.995Z"
   },
   {
    "duration": 9,
    "start_time": "2024-05-19T12:16:24.665Z"
   },
   {
    "duration": 168869,
    "start_time": "2024-05-19T12:16:36.455Z"
   },
   {
    "duration": 3,
    "start_time": "2024-05-19T12:19:25.326Z"
   },
   {
    "duration": 5,
    "start_time": "2024-05-19T12:19:25.330Z"
   },
   {
    "duration": 13201,
    "start_time": "2024-05-19T12:19:25.337Z"
   },
   {
    "duration": 2624,
    "start_time": "2024-05-19T12:19:38.539Z"
   },
   {
    "duration": 9,
    "start_time": "2024-05-19T12:19:41.165Z"
   },
   {
    "duration": 8037,
    "start_time": "2024-05-19T12:20:33.194Z"
   },
   {
    "duration": 3,
    "start_time": "2024-05-19T12:20:41.233Z"
   },
   {
    "duration": 17,
    "start_time": "2024-05-19T12:20:41.238Z"
   },
   {
    "duration": 13070,
    "start_time": "2024-05-19T12:20:41.256Z"
   },
   {
    "duration": 2852,
    "start_time": "2024-05-19T12:20:54.327Z"
   },
   {
    "duration": 3,
    "start_time": "2024-05-19T12:24:19.237Z"
   },
   {
    "duration": 516,
    "start_time": "2024-05-19T12:24:19.662Z"
   },
   {
    "duration": 447,
    "start_time": "2024-05-19T12:24:26.215Z"
   },
   {
    "duration": 144026,
    "start_time": "2024-05-19T12:24:30.503Z"
   },
   {
    "duration": 4,
    "start_time": "2024-05-19T12:26:54.532Z"
   },
   {
    "duration": 4,
    "start_time": "2024-05-19T12:26:54.537Z"
   },
   {
    "duration": 12704,
    "start_time": "2024-05-19T12:26:54.543Z"
   },
   {
    "duration": 1300,
    "start_time": "2024-05-19T12:27:07.248Z"
   },
   {
    "duration": 17,
    "start_time": "2024-05-19T12:27:46.597Z"
   },
   {
    "duration": 3,
    "start_time": "2024-05-19T12:28:13.012Z"
   },
   {
    "duration": 422,
    "start_time": "2024-05-19T12:28:38.016Z"
   },
   {
    "duration": 143960,
    "start_time": "2024-05-19T12:28:39.825Z"
   },
   {
    "duration": 4,
    "start_time": "2024-05-19T12:31:03.792Z"
   },
   {
    "duration": 7,
    "start_time": "2024-05-19T12:31:03.798Z"
   },
   {
    "duration": 12619,
    "start_time": "2024-05-19T12:31:03.807Z"
   },
   {
    "duration": 1233,
    "start_time": "2024-05-19T12:31:16.428Z"
   },
   {
    "duration": 10,
    "start_time": "2024-05-19T12:31:17.663Z"
   },
   {
    "duration": 8374643,
    "start_time": "2024-05-19T12:32:52.946Z"
   },
   {
    "duration": 3,
    "start_time": "2024-05-19T14:52:27.591Z"
   },
   {
    "duration": 13995,
    "start_time": "2024-05-19T14:52:27.596Z"
   },
   {
    "duration": 7809,
    "start_time": "2024-05-19T14:52:41.593Z"
   },
   {
    "duration": 11,
    "start_time": "2024-05-19T14:52:49.404Z"
   },
   {
    "duration": 392337,
    "start_time": "2024-05-19T14:52:49.416Z"
   },
   {
    "duration": 3,
    "start_time": "2024-05-19T14:59:21.754Z"
   },
   {
    "duration": 25492,
    "start_time": "2024-05-19T14:59:21.759Z"
   },
   {
    "duration": 3246,
    "start_time": "2024-05-19T14:59:47.253Z"
   },
   {
    "duration": 10,
    "start_time": "2024-05-19T14:59:50.502Z"
   },
   {
    "duration": 37,
    "start_time": "2024-05-19T14:59:50.513Z"
   },
   {
    "duration": 2,
    "start_time": "2024-05-19T14:59:50.552Z"
   },
   {
    "duration": 106,
    "start_time": "2024-05-19T14:59:50.555Z"
   },
   {
    "duration": 87,
    "start_time": "2024-05-19T14:59:50.663Z"
   },
   {
    "duration": 8,
    "start_time": "2024-05-19T14:59:50.752Z"
   },
   {
    "duration": 0,
    "start_time": "2024-05-19T14:59:50.762Z"
   },
   {
    "duration": 0,
    "start_time": "2024-05-19T14:59:50.763Z"
   },
   {
    "duration": 0,
    "start_time": "2024-05-19T14:59:50.764Z"
   },
   {
    "duration": 0,
    "start_time": "2024-05-19T14:59:50.765Z"
   },
   {
    "duration": 0,
    "start_time": "2024-05-19T14:59:50.766Z"
   },
   {
    "duration": 0,
    "start_time": "2024-05-19T14:59:50.766Z"
   },
   {
    "duration": 5,
    "start_time": "2024-05-19T15:00:14.377Z"
   },
   {
    "duration": 5,
    "start_time": "2024-05-19T15:00:14.710Z"
   },
   {
    "duration": 5,
    "start_time": "2024-05-19T15:01:40.122Z"
   },
   {
    "duration": 9,
    "start_time": "2024-05-19T15:01:58.389Z"
   },
   {
    "duration": 9,
    "start_time": "2024-05-19T15:02:02.801Z"
   },
   {
    "duration": 224973,
    "start_time": "2024-05-19T15:02:03.419Z"
   },
   {
    "duration": 1089,
    "start_time": "2024-05-19T15:05:48.394Z"
   },
   {
    "duration": 5,
    "start_time": "2024-05-19T15:05:49.484Z"
   },
   {
    "duration": 23,
    "start_time": "2024-05-19T15:05:49.491Z"
   },
   {
    "duration": 78,
    "start_time": "2024-05-20T21:05:27.117Z"
   },
   {
    "duration": 6847,
    "start_time": "2024-05-20T21:09:15.018Z"
   },
   {
    "duration": 1497,
    "start_time": "2024-05-20T21:09:21.867Z"
   },
   {
    "duration": 1159,
    "start_time": "2024-05-20T21:09:23.365Z"
   },
   {
    "duration": 227,
    "start_time": "2024-05-20T21:09:24.526Z"
   },
   {
    "duration": 4,
    "start_time": "2024-05-20T21:09:24.754Z"
   },
   {
    "duration": 148,
    "start_time": "2024-05-20T21:09:24.759Z"
   },
   {
    "duration": 7,
    "start_time": "2024-05-20T21:09:24.909Z"
   },
   {
    "duration": 84,
    "start_time": "2024-05-20T21:09:24.918Z"
   },
   {
    "duration": 94,
    "start_time": "2024-05-20T21:09:25.005Z"
   },
   {
    "duration": 126,
    "start_time": "2024-05-20T21:09:25.101Z"
   },
   {
    "duration": 178,
    "start_time": "2024-05-20T21:09:25.228Z"
   },
   {
    "duration": 35,
    "start_time": "2024-05-20T21:09:25.407Z"
   },
   {
    "duration": 116,
    "start_time": "2024-05-20T21:09:25.444Z"
   },
   {
    "duration": 112,
    "start_time": "2024-05-20T21:09:25.564Z"
   },
   {
    "duration": 27,
    "start_time": "2024-05-20T21:09:25.678Z"
   },
   {
    "duration": 58,
    "start_time": "2024-05-20T21:09:25.707Z"
   },
   {
    "duration": 41,
    "start_time": "2024-05-20T21:09:25.766Z"
   },
   {
    "duration": 32,
    "start_time": "2024-05-20T21:09:25.809Z"
   },
   {
    "duration": 154,
    "start_time": "2024-05-20T21:09:25.843Z"
   },
   {
    "duration": 40,
    "start_time": "2024-05-20T21:09:25.998Z"
   },
   {
    "duration": 24,
    "start_time": "2024-05-20T21:09:26.040Z"
   },
   {
    "duration": 73,
    "start_time": "2024-05-20T21:09:26.066Z"
   },
   {
    "duration": 37,
    "start_time": "2024-05-20T21:09:26.141Z"
   },
   {
    "duration": 37,
    "start_time": "2024-05-20T21:09:26.180Z"
   },
   {
    "duration": 38,
    "start_time": "2024-05-20T21:09:26.220Z"
   },
   {
    "duration": 107,
    "start_time": "2024-05-20T21:09:26.259Z"
   },
   {
    "duration": 186,
    "start_time": "2024-05-20T21:09:26.368Z"
   },
   {
    "duration": 115,
    "start_time": "2024-05-20T21:09:26.555Z"
   },
   {
    "duration": 425,
    "start_time": "2024-05-20T21:09:26.672Z"
   },
   {
    "duration": 13,
    "start_time": "2024-05-20T21:09:27.098Z"
   },
   {
    "duration": 259,
    "start_time": "2024-05-20T21:09:27.113Z"
   },
   {
    "duration": 34,
    "start_time": "2024-05-20T21:09:27.374Z"
   },
   {
    "duration": 190,
    "start_time": "2024-05-20T21:09:27.410Z"
   },
   {
    "duration": 9,
    "start_time": "2024-05-20T21:09:27.602Z"
   },
   {
    "duration": 68,
    "start_time": "2024-05-20T21:09:27.613Z"
   },
   {
    "duration": 199,
    "start_time": "2024-05-20T21:09:27.693Z"
   },
   {
    "duration": 8,
    "start_time": "2024-05-20T21:09:27.894Z"
   },
   {
    "duration": 192,
    "start_time": "2024-05-20T21:09:27.903Z"
   },
   {
    "duration": 22,
    "start_time": "2024-05-20T21:09:28.097Z"
   },
   {
    "duration": 8,
    "start_time": "2024-05-20T21:09:28.120Z"
   },
   {
    "duration": 15,
    "start_time": "2024-05-20T21:09:28.132Z"
   },
   {
    "duration": 168,
    "start_time": "2024-05-20T21:09:28.148Z"
   },
   {
    "duration": 274,
    "start_time": "2024-05-20T21:09:28.317Z"
   },
   {
    "duration": 73,
    "start_time": "2024-05-20T21:09:28.594Z"
   },
   {
    "duration": 570,
    "start_time": "2024-05-20T21:09:28.668Z"
   },
   {
    "duration": 11,
    "start_time": "2024-05-20T21:09:29.239Z"
   },
   {
    "duration": 40,
    "start_time": "2024-05-20T21:09:29.251Z"
   },
   {
    "duration": 23,
    "start_time": "2024-05-20T21:09:29.293Z"
   },
   {
    "duration": 116,
    "start_time": "2024-05-20T21:09:29.318Z"
   },
   {
    "duration": 1669,
    "start_time": "2024-05-20T21:09:29.436Z"
   },
   {
    "duration": 3,
    "start_time": "2024-05-20T21:09:31.107Z"
   },
   {
    "duration": 410092,
    "start_time": "2024-05-20T21:09:31.111Z"
   },
   {
    "duration": 4,
    "start_time": "2024-05-20T21:16:21.294Z"
   },
   {
    "duration": 37,
    "start_time": "2024-05-20T21:16:21.299Z"
   },
   {
    "duration": 18866,
    "start_time": "2024-05-20T21:16:21.337Z"
   },
   {
    "duration": 498,
    "start_time": "2024-05-20T21:16:40.295Z"
   },
   {
    "duration": 10,
    "start_time": "2024-05-20T21:16:40.796Z"
   },
   {
    "duration": 87,
    "start_time": "2024-05-20T21:16:40.808Z"
   },
   {
    "duration": 379,
    "start_time": "2024-05-20T21:16:40.896Z"
   },
   {
    "duration": 131721,
    "start_time": "2024-05-20T21:16:41.277Z"
   },
   {
    "duration": 3,
    "start_time": "2024-05-20T21:18:53.000Z"
   },
   {
    "duration": 60,
    "start_time": "2024-05-20T21:18:53.004Z"
   },
   {
    "duration": 11382,
    "start_time": "2024-05-20T21:18:53.066Z"
   },
   {
    "duration": 1152,
    "start_time": "2024-05-20T21:19:04.449Z"
   },
   {
    "duration": 9,
    "start_time": "2024-05-20T21:19:05.603Z"
   },
   {
    "duration": 272790,
    "start_time": "2024-05-20T21:19:05.614Z"
   },
   {
    "duration": 3,
    "start_time": "2024-05-20T21:23:38.406Z"
   },
   {
    "duration": 14495,
    "start_time": "2024-05-20T21:23:38.410Z"
   },
   {
    "duration": 7210,
    "start_time": "2024-05-20T21:23:52.906Z"
   },
   {
    "duration": 79,
    "start_time": "2024-05-20T21:24:00.117Z"
   },
   {
    "duration": 371881,
    "start_time": "2024-05-20T21:24:00.197Z"
   },
   {
    "duration": 3,
    "start_time": "2024-05-20T21:30:12.080Z"
   },
   {
    "duration": 23137,
    "start_time": "2024-05-20T21:30:12.084Z"
   },
   {
    "duration": 2974,
    "start_time": "2024-05-20T21:30:35.222Z"
   },
   {
    "duration": 9,
    "start_time": "2024-05-20T21:30:38.198Z"
   },
   {
    "duration": 70,
    "start_time": "2024-05-20T21:30:38.209Z"
   },
   {
    "duration": 2,
    "start_time": "2024-05-20T21:30:38.281Z"
   },
   {
    "duration": 11,
    "start_time": "2024-05-20T21:30:38.284Z"
   },
   {
    "duration": 21,
    "start_time": "2024-05-20T21:30:38.297Z"
   },
   {
    "duration": 12,
    "start_time": "2024-05-20T21:30:38.320Z"
   },
   {
    "duration": 13,
    "start_time": "2024-05-20T21:30:38.333Z"
   },
   {
    "duration": 12150,
    "start_time": "2024-05-20T21:30:38.347Z"
   },
   {
    "duration": 910,
    "start_time": "2024-05-20T21:30:50.498Z"
   },
   {
    "duration": 86,
    "start_time": "2024-05-20T21:30:51.410Z"
   },
   {
    "duration": 10,
    "start_time": "2024-05-20T21:30:51.497Z"
   },
   {
    "duration": 101,
    "start_time": "2024-05-21T19:59:42.532Z"
   }
  ],
  "kernelspec": {
   "display_name": "Python 3 (ipykernel)",
   "language": "python",
   "name": "python3"
  },
  "language_info": {
   "codemirror_mode": {
    "name": "ipython",
    "version": 3
   },
   "file_extension": ".py",
   "mimetype": "text/x-python",
   "name": "python",
   "nbconvert_exporter": "python",
   "pygments_lexer": "ipython3",
   "version": "3.11.9"
  },
  "toc": {
   "base_numbering": 1,
   "nav_menu": {},
   "number_sections": true,
   "sideBar": true,
   "skip_h1_title": true,
   "title_cell": "Table of Contents",
   "title_sidebar": "Contents",
   "toc_cell": false,
   "toc_position": {
    "height": "calc(100% - 180px)",
    "left": "10px",
    "top": "150px",
    "width": "179.391px"
   },
   "toc_section_display": true,
   "toc_window_display": true
  }
 },
 "nbformat": 4,
 "nbformat_minor": 4
}
